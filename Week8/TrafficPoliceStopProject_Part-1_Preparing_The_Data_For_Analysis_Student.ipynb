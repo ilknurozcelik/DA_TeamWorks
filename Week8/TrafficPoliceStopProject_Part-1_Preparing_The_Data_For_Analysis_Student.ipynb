{
 "cells": [
  {
   "cell_type": "markdown",
   "metadata": {
    "colab_type": "text",
    "id": "view-in-github"
   },
   "source": [
    "<a href=\"https://colab.research.google.com/github/KdrDrn-C8301Sam/01-DAwPy-NumPy/blob/main/01_01_Preparing_The_Data_For_Analysis(Student_C8301_Sam).ipynb\" target=\"_parent\"><img src=\"https://colab.research.google.com/assets/colab-badge.svg\" alt=\"Open In Colab\"/></a>"
   ]
  },
  {
   "cell_type": "markdown",
   "metadata": {
    "id": "pFGYhf_xwYh2"
   },
   "source": [
    "___\n",
    "\n",
    "<p style=\"text-align: center;\"><img src=\"https://docs.google.com/uc?id=1lY0Uj5R04yMY3-ZppPWxqCr5pvBLYPnV\" class=\"img-fluid\" alt=\"CLRSWY\"></p>\n",
    "\n",
    "___"
   ]
  },
  {
   "cell_type": "markdown",
   "metadata": {
    "id": "uBurcBAPwYh3"
   },
   "source": [
    "<h1><p style='text-align: center;'>Traffic Police Stops<br>Part - 1</p><h1> - Preparing The Data For Analysis <img src='https://docs.google.com/uc?id=17CPCwi3_VvzcS87TOsh4_U8eExOhL6Ki' class='img-fluid' alt='CLRSWY' width='200' height='100'> "
   ]
  },
  {
   "cell_type": "markdown",
   "metadata": {
    "id": "skDsVnMvwYh4"
   },
   "source": [
    "Before beginning your analysis, it is critical that you first examine and clean the dataset, to make working with it a more efficient process. You will practice fixing data types, handling missing values, and dropping columns and rows while learning about the Stanford Open Policing Project dataset."
   ]
  },
  {
   "cell_type": "markdown",
   "metadata": {
    "id": "tCO_gG8vwYh4"
   },
   "source": [
    "***"
   ]
  },
  {
   "cell_type": "markdown",
   "metadata": {
    "id": "gIhvzSpOwYh5"
   },
   "source": [
    "## Examining the dataset"
   ]
  },
  {
   "cell_type": "markdown",
   "metadata": {
    "id": "D2j16cTLwYh5"
   },
   "source": [
    "You'll be analyzing a dataset of traffic stops in Rhode Island that was collected by the Stanford Open Policing Project."
   ]
  },
  {
   "cell_type": "markdown",
   "metadata": {
    "id": "n9f1EGo7wYh5"
   },
   "source": [
    "Before beginning your analysis, it's important that you familiarize yourself with the dataset. You'll read the dataset into pandas, examine the first few rows, and then count the number of missing values."
   ]
  },
  {
   "cell_type": "markdown",
   "metadata": {
    "id": "4jnENKsjwYh6"
   },
   "source": [
    "**INSTRUCTIONS**\n",
    "\n",
    "*   Import related libraries with their alias.\n",
    "*   Read the file RI_cleaned.csv into a DataFrame named ``ri``\n",
    "*   Examine the first 5 rows of the ``DataFrame`` (known as the ``\"head\"``).\n",
    "*   Examine the last 5 rows of the ``DataFrame`` (known as the ``\"tail\"``).\n",
    "*   Examine the ``DataFrame``'s ``\"columns\"``.\n",
    "*   Count the number of missing values in each column: Use ``.isnull()`` to check which ``DataFrame`` elements are missing, and then take the ``.sum()`` to count the number of ``True`` values in each column."
   ]
  },
  {
   "cell_type": "code",
   "execution_count": 2,
   "metadata": {
    "id": "QeH_On81wYh6"
   },
   "outputs": [],
   "source": [
    "import numpy as np\n",
    "import pandas as pd\n",
    "import matplotlib.pyplot as plt\n",
    "import seaborn as sns\n",
    "from scipy import stats"
   ]
  },
  {
   "cell_type": "markdown",
   "metadata": {},
   "source": [
    "**Since the dataset has 509681 rows, you can work with the first 50000 rows if you wish.**"
   ]
  },
  {
   "cell_type": "code",
   "execution_count": 3,
   "metadata": {},
   "outputs": [
    {
     "name": "stderr",
     "output_type": "stream",
     "text": [
      "C:\\Users\\user\\anaconda3\\lib\\site-packages\\IPython\\core\\interactiveshell.py:3444: DtypeWarning: Columns (8,16) have mixed types.Specify dtype option on import or set low_memory=False.\n",
      "  exec(code_obj, self.user_global_ns, self.user_ns)\n"
     ]
    }
   ],
   "source": [
    "ri=pd.read_csv('RI_cleaned.csv')"
   ]
  },
  {
   "cell_type": "code",
   "execution_count": 4,
   "metadata": {},
   "outputs": [
    {
     "data": {
      "text/html": [
       "<div>\n",
       "<style scoped>\n",
       "    .dataframe tbody tr th:only-of-type {\n",
       "        vertical-align: middle;\n",
       "    }\n",
       "\n",
       "    .dataframe tbody tr th {\n",
       "        vertical-align: top;\n",
       "    }\n",
       "\n",
       "    .dataframe thead th {\n",
       "        text-align: right;\n",
       "    }\n",
       "</style>\n",
       "<table border=\"1\" class=\"dataframe\">\n",
       "  <thead>\n",
       "    <tr style=\"text-align: right;\">\n",
       "      <th></th>\n",
       "      <th>id</th>\n",
       "      <th>state</th>\n",
       "      <th>stop_date</th>\n",
       "      <th>stop_time</th>\n",
       "      <th>location_raw</th>\n",
       "      <th>county_name</th>\n",
       "      <th>county_fips</th>\n",
       "      <th>fine_grained_location</th>\n",
       "      <th>police_department</th>\n",
       "      <th>driver_gender</th>\n",
       "      <th>...</th>\n",
       "      <th>search_conducted</th>\n",
       "      <th>search_type_raw</th>\n",
       "      <th>search_type</th>\n",
       "      <th>contraband_found</th>\n",
       "      <th>stop_outcome</th>\n",
       "      <th>is_arrested</th>\n",
       "      <th>stop_duration</th>\n",
       "      <th>out_of_state</th>\n",
       "      <th>drugs_related_stop</th>\n",
       "      <th>district</th>\n",
       "    </tr>\n",
       "  </thead>\n",
       "  <tbody>\n",
       "    <tr>\n",
       "      <th>0</th>\n",
       "      <td>RI-2005-00001</td>\n",
       "      <td>RI</td>\n",
       "      <td>2005-01-02</td>\n",
       "      <td>01:55</td>\n",
       "      <td>Zone K1</td>\n",
       "      <td>NaN</td>\n",
       "      <td>NaN</td>\n",
       "      <td>NaN</td>\n",
       "      <td>600</td>\n",
       "      <td>M</td>\n",
       "      <td>...</td>\n",
       "      <td>False</td>\n",
       "      <td>NaN</td>\n",
       "      <td>NaN</td>\n",
       "      <td>False</td>\n",
       "      <td>Citation</td>\n",
       "      <td>False</td>\n",
       "      <td>0-15 Min</td>\n",
       "      <td>False</td>\n",
       "      <td>False</td>\n",
       "      <td>Zone K1</td>\n",
       "    </tr>\n",
       "    <tr>\n",
       "      <th>1</th>\n",
       "      <td>RI-2005-00002</td>\n",
       "      <td>RI</td>\n",
       "      <td>2005-01-02</td>\n",
       "      <td>20:30</td>\n",
       "      <td>Zone X4</td>\n",
       "      <td>NaN</td>\n",
       "      <td>NaN</td>\n",
       "      <td>NaN</td>\n",
       "      <td>500</td>\n",
       "      <td>M</td>\n",
       "      <td>...</td>\n",
       "      <td>False</td>\n",
       "      <td>NaN</td>\n",
       "      <td>NaN</td>\n",
       "      <td>False</td>\n",
       "      <td>Citation</td>\n",
       "      <td>False</td>\n",
       "      <td>16-30 Min</td>\n",
       "      <td>False</td>\n",
       "      <td>False</td>\n",
       "      <td>Zone X4</td>\n",
       "    </tr>\n",
       "    <tr>\n",
       "      <th>2</th>\n",
       "      <td>RI-2005-00003</td>\n",
       "      <td>RI</td>\n",
       "      <td>2005-01-04</td>\n",
       "      <td>11:30</td>\n",
       "      <td>Zone X1</td>\n",
       "      <td>NaN</td>\n",
       "      <td>NaN</td>\n",
       "      <td>NaN</td>\n",
       "      <td>0</td>\n",
       "      <td>NaN</td>\n",
       "      <td>...</td>\n",
       "      <td>False</td>\n",
       "      <td>NaN</td>\n",
       "      <td>NaN</td>\n",
       "      <td>False</td>\n",
       "      <td>NaN</td>\n",
       "      <td>NaN</td>\n",
       "      <td>NaN</td>\n",
       "      <td>NaN</td>\n",
       "      <td>False</td>\n",
       "      <td>Zone X1</td>\n",
       "    </tr>\n",
       "    <tr>\n",
       "      <th>3</th>\n",
       "      <td>RI-2005-00004</td>\n",
       "      <td>RI</td>\n",
       "      <td>2005-01-04</td>\n",
       "      <td>12:55</td>\n",
       "      <td>Zone X4</td>\n",
       "      <td>NaN</td>\n",
       "      <td>NaN</td>\n",
       "      <td>NaN</td>\n",
       "      <td>500</td>\n",
       "      <td>M</td>\n",
       "      <td>...</td>\n",
       "      <td>False</td>\n",
       "      <td>NaN</td>\n",
       "      <td>NaN</td>\n",
       "      <td>False</td>\n",
       "      <td>Citation</td>\n",
       "      <td>False</td>\n",
       "      <td>0-15 Min</td>\n",
       "      <td>False</td>\n",
       "      <td>False</td>\n",
       "      <td>Zone X4</td>\n",
       "    </tr>\n",
       "    <tr>\n",
       "      <th>4</th>\n",
       "      <td>RI-2005-00005</td>\n",
       "      <td>RI</td>\n",
       "      <td>2005-01-06</td>\n",
       "      <td>01:30</td>\n",
       "      <td>Zone X4</td>\n",
       "      <td>NaN</td>\n",
       "      <td>NaN</td>\n",
       "      <td>NaN</td>\n",
       "      <td>500</td>\n",
       "      <td>M</td>\n",
       "      <td>...</td>\n",
       "      <td>False</td>\n",
       "      <td>NaN</td>\n",
       "      <td>NaN</td>\n",
       "      <td>False</td>\n",
       "      <td>Citation</td>\n",
       "      <td>False</td>\n",
       "      <td>0-15 Min</td>\n",
       "      <td>False</td>\n",
       "      <td>False</td>\n",
       "      <td>Zone X4</td>\n",
       "    </tr>\n",
       "  </tbody>\n",
       "</table>\n",
       "<p>5 rows × 26 columns</p>\n",
       "</div>"
      ],
      "text/plain": [
       "              id state   stop_date stop_time location_raw  county_name  \\\n",
       "0  RI-2005-00001    RI  2005-01-02     01:55      Zone K1          NaN   \n",
       "1  RI-2005-00002    RI  2005-01-02     20:30      Zone X4          NaN   \n",
       "2  RI-2005-00003    RI  2005-01-04     11:30      Zone X1          NaN   \n",
       "3  RI-2005-00004    RI  2005-01-04     12:55      Zone X4          NaN   \n",
       "4  RI-2005-00005    RI  2005-01-06     01:30      Zone X4          NaN   \n",
       "\n",
       "   county_fips  fine_grained_location police_department driver_gender  ...  \\\n",
       "0          NaN                    NaN               600             M  ...   \n",
       "1          NaN                    NaN               500             M  ...   \n",
       "2          NaN                    NaN                 0           NaN  ...   \n",
       "3          NaN                    NaN               500             M  ...   \n",
       "4          NaN                    NaN               500             M  ...   \n",
       "\n",
       "   search_conducted  search_type_raw search_type contraband_found  \\\n",
       "0             False              NaN         NaN            False   \n",
       "1             False              NaN         NaN            False   \n",
       "2             False              NaN         NaN            False   \n",
       "3             False              NaN         NaN            False   \n",
       "4             False              NaN         NaN            False   \n",
       "\n",
       "  stop_outcome is_arrested stop_duration out_of_state drugs_related_stop  \\\n",
       "0     Citation       False      0-15 Min        False              False   \n",
       "1     Citation       False     16-30 Min        False              False   \n",
       "2          NaN         NaN           NaN          NaN              False   \n",
       "3     Citation       False      0-15 Min        False              False   \n",
       "4     Citation       False      0-15 Min        False              False   \n",
       "\n",
       "   district  \n",
       "0   Zone K1  \n",
       "1   Zone X4  \n",
       "2   Zone X1  \n",
       "3   Zone X4  \n",
       "4   Zone X4  \n",
       "\n",
       "[5 rows x 26 columns]"
      ]
     },
     "execution_count": 4,
     "metadata": {},
     "output_type": "execute_result"
    }
   ],
   "source": [
    "ri.head()"
   ]
  },
  {
   "cell_type": "code",
   "execution_count": 7,
   "metadata": {},
   "outputs": [
    {
     "data": {
      "text/html": [
       "<div>\n",
       "<style scoped>\n",
       "    .dataframe tbody tr th:only-of-type {\n",
       "        vertical-align: middle;\n",
       "    }\n",
       "\n",
       "    .dataframe tbody tr th {\n",
       "        vertical-align: top;\n",
       "    }\n",
       "\n",
       "    .dataframe thead th {\n",
       "        text-align: right;\n",
       "    }\n",
       "</style>\n",
       "<table border=\"1\" class=\"dataframe\">\n",
       "  <thead>\n",
       "    <tr style=\"text-align: right;\">\n",
       "      <th></th>\n",
       "      <th>0</th>\n",
       "      <th>1</th>\n",
       "      <th>2</th>\n",
       "      <th>3</th>\n",
       "      <th>4</th>\n",
       "    </tr>\n",
       "  </thead>\n",
       "  <tbody>\n",
       "    <tr>\n",
       "      <th>id</th>\n",
       "      <td>RI-2005-00001</td>\n",
       "      <td>RI-2005-00002</td>\n",
       "      <td>RI-2005-00003</td>\n",
       "      <td>RI-2005-00004</td>\n",
       "      <td>RI-2005-00005</td>\n",
       "    </tr>\n",
       "    <tr>\n",
       "      <th>state</th>\n",
       "      <td>RI</td>\n",
       "      <td>RI</td>\n",
       "      <td>RI</td>\n",
       "      <td>RI</td>\n",
       "      <td>RI</td>\n",
       "    </tr>\n",
       "    <tr>\n",
       "      <th>stop_date</th>\n",
       "      <td>2005-01-02</td>\n",
       "      <td>2005-01-02</td>\n",
       "      <td>2005-01-04</td>\n",
       "      <td>2005-01-04</td>\n",
       "      <td>2005-01-06</td>\n",
       "    </tr>\n",
       "    <tr>\n",
       "      <th>stop_time</th>\n",
       "      <td>01:55</td>\n",
       "      <td>20:30</td>\n",
       "      <td>11:30</td>\n",
       "      <td>12:55</td>\n",
       "      <td>01:30</td>\n",
       "    </tr>\n",
       "    <tr>\n",
       "      <th>location_raw</th>\n",
       "      <td>Zone K1</td>\n",
       "      <td>Zone X4</td>\n",
       "      <td>Zone X1</td>\n",
       "      <td>Zone X4</td>\n",
       "      <td>Zone X4</td>\n",
       "    </tr>\n",
       "    <tr>\n",
       "      <th>county_name</th>\n",
       "      <td>NaN</td>\n",
       "      <td>NaN</td>\n",
       "      <td>NaN</td>\n",
       "      <td>NaN</td>\n",
       "      <td>NaN</td>\n",
       "    </tr>\n",
       "    <tr>\n",
       "      <th>county_fips</th>\n",
       "      <td>NaN</td>\n",
       "      <td>NaN</td>\n",
       "      <td>NaN</td>\n",
       "      <td>NaN</td>\n",
       "      <td>NaN</td>\n",
       "    </tr>\n",
       "    <tr>\n",
       "      <th>fine_grained_location</th>\n",
       "      <td>NaN</td>\n",
       "      <td>NaN</td>\n",
       "      <td>NaN</td>\n",
       "      <td>NaN</td>\n",
       "      <td>NaN</td>\n",
       "    </tr>\n",
       "    <tr>\n",
       "      <th>police_department</th>\n",
       "      <td>600</td>\n",
       "      <td>500</td>\n",
       "      <td>0</td>\n",
       "      <td>500</td>\n",
       "      <td>500</td>\n",
       "    </tr>\n",
       "    <tr>\n",
       "      <th>driver_gender</th>\n",
       "      <td>M</td>\n",
       "      <td>M</td>\n",
       "      <td>NaN</td>\n",
       "      <td>M</td>\n",
       "      <td>M</td>\n",
       "    </tr>\n",
       "    <tr>\n",
       "      <th>driver_age_raw</th>\n",
       "      <td>1985.0</td>\n",
       "      <td>1987.0</td>\n",
       "      <td>NaN</td>\n",
       "      <td>1986.0</td>\n",
       "      <td>1978.0</td>\n",
       "    </tr>\n",
       "    <tr>\n",
       "      <th>driver_age</th>\n",
       "      <td>20.0</td>\n",
       "      <td>18.0</td>\n",
       "      <td>NaN</td>\n",
       "      <td>19.0</td>\n",
       "      <td>27.0</td>\n",
       "    </tr>\n",
       "    <tr>\n",
       "      <th>driver_race_raw</th>\n",
       "      <td>W</td>\n",
       "      <td>W</td>\n",
       "      <td>NaN</td>\n",
       "      <td>W</td>\n",
       "      <td>B</td>\n",
       "    </tr>\n",
       "    <tr>\n",
       "      <th>driver_race</th>\n",
       "      <td>White</td>\n",
       "      <td>White</td>\n",
       "      <td>NaN</td>\n",
       "      <td>White</td>\n",
       "      <td>Black</td>\n",
       "    </tr>\n",
       "    <tr>\n",
       "      <th>violation_raw</th>\n",
       "      <td>Speeding</td>\n",
       "      <td>Speeding</td>\n",
       "      <td>NaN</td>\n",
       "      <td>Equipment/Inspection Violation</td>\n",
       "      <td>Equipment/Inspection Violation</td>\n",
       "    </tr>\n",
       "    <tr>\n",
       "      <th>violation</th>\n",
       "      <td>Speeding</td>\n",
       "      <td>Speeding</td>\n",
       "      <td>NaN</td>\n",
       "      <td>Equipment</td>\n",
       "      <td>Equipment</td>\n",
       "    </tr>\n",
       "    <tr>\n",
       "      <th>search_conducted</th>\n",
       "      <td>False</td>\n",
       "      <td>False</td>\n",
       "      <td>False</td>\n",
       "      <td>False</td>\n",
       "      <td>False</td>\n",
       "    </tr>\n",
       "    <tr>\n",
       "      <th>search_type_raw</th>\n",
       "      <td>NaN</td>\n",
       "      <td>NaN</td>\n",
       "      <td>NaN</td>\n",
       "      <td>NaN</td>\n",
       "      <td>NaN</td>\n",
       "    </tr>\n",
       "    <tr>\n",
       "      <th>search_type</th>\n",
       "      <td>NaN</td>\n",
       "      <td>NaN</td>\n",
       "      <td>NaN</td>\n",
       "      <td>NaN</td>\n",
       "      <td>NaN</td>\n",
       "    </tr>\n",
       "    <tr>\n",
       "      <th>contraband_found</th>\n",
       "      <td>False</td>\n",
       "      <td>False</td>\n",
       "      <td>False</td>\n",
       "      <td>False</td>\n",
       "      <td>False</td>\n",
       "    </tr>\n",
       "    <tr>\n",
       "      <th>stop_outcome</th>\n",
       "      <td>Citation</td>\n",
       "      <td>Citation</td>\n",
       "      <td>NaN</td>\n",
       "      <td>Citation</td>\n",
       "      <td>Citation</td>\n",
       "    </tr>\n",
       "    <tr>\n",
       "      <th>is_arrested</th>\n",
       "      <td>False</td>\n",
       "      <td>False</td>\n",
       "      <td>NaN</td>\n",
       "      <td>False</td>\n",
       "      <td>False</td>\n",
       "    </tr>\n",
       "    <tr>\n",
       "      <th>stop_duration</th>\n",
       "      <td>0-15 Min</td>\n",
       "      <td>16-30 Min</td>\n",
       "      <td>NaN</td>\n",
       "      <td>0-15 Min</td>\n",
       "      <td>0-15 Min</td>\n",
       "    </tr>\n",
       "    <tr>\n",
       "      <th>out_of_state</th>\n",
       "      <td>False</td>\n",
       "      <td>False</td>\n",
       "      <td>NaN</td>\n",
       "      <td>False</td>\n",
       "      <td>False</td>\n",
       "    </tr>\n",
       "    <tr>\n",
       "      <th>drugs_related_stop</th>\n",
       "      <td>False</td>\n",
       "      <td>False</td>\n",
       "      <td>False</td>\n",
       "      <td>False</td>\n",
       "      <td>False</td>\n",
       "    </tr>\n",
       "    <tr>\n",
       "      <th>district</th>\n",
       "      <td>Zone K1</td>\n",
       "      <td>Zone X4</td>\n",
       "      <td>Zone X1</td>\n",
       "      <td>Zone X4</td>\n",
       "      <td>Zone X4</td>\n",
       "    </tr>\n",
       "  </tbody>\n",
       "</table>\n",
       "</div>"
      ],
      "text/plain": [
       "                                   0              1              2  \\\n",
       "id                     RI-2005-00001  RI-2005-00002  RI-2005-00003   \n",
       "state                             RI             RI             RI   \n",
       "stop_date                 2005-01-02     2005-01-02     2005-01-04   \n",
       "stop_time                      01:55          20:30          11:30   \n",
       "location_raw                 Zone K1        Zone X4        Zone X1   \n",
       "county_name                      NaN            NaN            NaN   \n",
       "county_fips                      NaN            NaN            NaN   \n",
       "fine_grained_location            NaN            NaN            NaN   \n",
       "police_department                600            500              0   \n",
       "driver_gender                      M              M            NaN   \n",
       "driver_age_raw                1985.0         1987.0            NaN   \n",
       "driver_age                      20.0           18.0            NaN   \n",
       "driver_race_raw                    W              W            NaN   \n",
       "driver_race                    White          White            NaN   \n",
       "violation_raw               Speeding       Speeding            NaN   \n",
       "violation                   Speeding       Speeding            NaN   \n",
       "search_conducted               False          False          False   \n",
       "search_type_raw                  NaN            NaN            NaN   \n",
       "search_type                      NaN            NaN            NaN   \n",
       "contraband_found               False          False          False   \n",
       "stop_outcome                Citation       Citation            NaN   \n",
       "is_arrested                    False          False            NaN   \n",
       "stop_duration               0-15 Min      16-30 Min            NaN   \n",
       "out_of_state                   False          False            NaN   \n",
       "drugs_related_stop             False          False          False   \n",
       "district                     Zone K1        Zone X4        Zone X1   \n",
       "\n",
       "                                                    3  \\\n",
       "id                                      RI-2005-00004   \n",
       "state                                              RI   \n",
       "stop_date                                  2005-01-04   \n",
       "stop_time                                       12:55   \n",
       "location_raw                                  Zone X4   \n",
       "county_name                                       NaN   \n",
       "county_fips                                       NaN   \n",
       "fine_grained_location                             NaN   \n",
       "police_department                                 500   \n",
       "driver_gender                                       M   \n",
       "driver_age_raw                                 1986.0   \n",
       "driver_age                                       19.0   \n",
       "driver_race_raw                                     W   \n",
       "driver_race                                     White   \n",
       "violation_raw          Equipment/Inspection Violation   \n",
       "violation                                   Equipment   \n",
       "search_conducted                                False   \n",
       "search_type_raw                                   NaN   \n",
       "search_type                                       NaN   \n",
       "contraband_found                                False   \n",
       "stop_outcome                                 Citation   \n",
       "is_arrested                                     False   \n",
       "stop_duration                                0-15 Min   \n",
       "out_of_state                                    False   \n",
       "drugs_related_stop                              False   \n",
       "district                                      Zone X4   \n",
       "\n",
       "                                                    4  \n",
       "id                                      RI-2005-00005  \n",
       "state                                              RI  \n",
       "stop_date                                  2005-01-06  \n",
       "stop_time                                       01:30  \n",
       "location_raw                                  Zone X4  \n",
       "county_name                                       NaN  \n",
       "county_fips                                       NaN  \n",
       "fine_grained_location                             NaN  \n",
       "police_department                                 500  \n",
       "driver_gender                                       M  \n",
       "driver_age_raw                                 1978.0  \n",
       "driver_age                                       27.0  \n",
       "driver_race_raw                                     B  \n",
       "driver_race                                     Black  \n",
       "violation_raw          Equipment/Inspection Violation  \n",
       "violation                                   Equipment  \n",
       "search_conducted                                False  \n",
       "search_type_raw                                   NaN  \n",
       "search_type                                       NaN  \n",
       "contraband_found                                False  \n",
       "stop_outcome                                 Citation  \n",
       "is_arrested                                     False  \n",
       "stop_duration                                0-15 Min  \n",
       "out_of_state                                    False  \n",
       "drugs_related_stop                              False  \n",
       "district                                      Zone X4  "
      ]
     },
     "execution_count": 7,
     "metadata": {},
     "output_type": "execute_result"
    }
   ],
   "source": [
    "ri.head().T"
   ]
  },
  {
   "cell_type": "code",
   "execution_count": 6,
   "metadata": {},
   "outputs": [
    {
     "data": {
      "text/plain": [
       "Index(['id', 'state', 'stop_date', 'stop_time', 'location_raw', 'county_name',\n",
       "       'county_fips', 'fine_grained_location', 'police_department',\n",
       "       'driver_gender', 'driver_age_raw', 'driver_age', 'driver_race_raw',\n",
       "       'driver_race', 'violation_raw', 'violation', 'search_conducted',\n",
       "       'search_type_raw', 'search_type', 'contraband_found', 'stop_outcome',\n",
       "       'is_arrested', 'stop_duration', 'out_of_state', 'drugs_related_stop',\n",
       "       'district'],\n",
       "      dtype='object')"
      ]
     },
     "execution_count": 6,
     "metadata": {},
     "output_type": "execute_result"
    }
   ],
   "source": [
    "ri.columns"
   ]
  },
  {
   "cell_type": "code",
   "execution_count": 8,
   "metadata": {},
   "outputs": [
    {
     "name": "stdout",
     "output_type": "stream",
     "text": [
      "<class 'pandas.core.frame.DataFrame'>\n",
      "RangeIndex: 509681 entries, 0 to 509680\n",
      "Data columns (total 26 columns):\n",
      " #   Column                 Non-Null Count   Dtype  \n",
      "---  ------                 --------------   -----  \n",
      " 0   id                     509681 non-null  object \n",
      " 1   state                  509681 non-null  object \n",
      " 2   stop_date              509671 non-null  object \n",
      " 3   stop_time              509671 non-null  object \n",
      " 4   location_raw           509681 non-null  object \n",
      " 5   county_name            0 non-null       float64\n",
      " 6   county_fips            0 non-null       float64\n",
      " 7   fine_grained_location  0 non-null       float64\n",
      " 8   police_department      509671 non-null  object \n",
      " 9   driver_gender          480584 non-null  object \n",
      " 10  driver_age_raw         480632 non-null  float64\n",
      " 11  driver_age             478986 non-null  float64\n",
      " 12  driver_race_raw        480608 non-null  object \n",
      " 13  driver_race            480608 non-null  object \n",
      " 14  violation_raw          480608 non-null  object \n",
      " 15  violation              480608 non-null  object \n",
      " 16  search_conducted       509671 non-null  object \n",
      " 17  search_type_raw        17762 non-null   object \n",
      " 18  search_type            17762 non-null   object \n",
      " 19  contraband_found       509681 non-null  bool   \n",
      " 20  stop_outcome           480608 non-null  object \n",
      " 21  is_arrested            480608 non-null  object \n",
      " 22  stop_duration          480608 non-null  object \n",
      " 23  out_of_state           479800 non-null  object \n",
      " 24  drugs_related_stop     509681 non-null  bool   \n",
      " 25  district               509681 non-null  object \n",
      "dtypes: bool(2), float64(5), object(19)\n",
      "memory usage: 94.3+ MB\n"
     ]
    }
   ],
   "source": [
    "ri.info()"
   ]
  },
  {
   "cell_type": "code",
   "execution_count": 10,
   "metadata": {
    "id": "CFo6oRaMnN8U",
    "outputId": "3cf964d2-8c35-469e-87e8-577df305292a"
   },
   "outputs": [
    {
     "data": {
      "text/html": [
       "<div>\n",
       "<style scoped>\n",
       "    .dataframe tbody tr th:only-of-type {\n",
       "        vertical-align: middle;\n",
       "    }\n",
       "\n",
       "    .dataframe tbody tr th {\n",
       "        vertical-align: top;\n",
       "    }\n",
       "\n",
       "    .dataframe thead th {\n",
       "        text-align: right;\n",
       "    }\n",
       "</style>\n",
       "<table border=\"1\" class=\"dataframe\">\n",
       "  <thead>\n",
       "    <tr style=\"text-align: right;\">\n",
       "      <th></th>\n",
       "      <th>id</th>\n",
       "      <th>state</th>\n",
       "      <th>stop_date</th>\n",
       "      <th>stop_time</th>\n",
       "      <th>location_raw</th>\n",
       "      <th>county_name</th>\n",
       "      <th>county_fips</th>\n",
       "      <th>fine_grained_location</th>\n",
       "      <th>police_department</th>\n",
       "      <th>driver_gender</th>\n",
       "      <th>...</th>\n",
       "      <th>search_conducted</th>\n",
       "      <th>search_type_raw</th>\n",
       "      <th>search_type</th>\n",
       "      <th>contraband_found</th>\n",
       "      <th>stop_outcome</th>\n",
       "      <th>is_arrested</th>\n",
       "      <th>stop_duration</th>\n",
       "      <th>out_of_state</th>\n",
       "      <th>drugs_related_stop</th>\n",
       "      <th>district</th>\n",
       "    </tr>\n",
       "  </thead>\n",
       "  <tbody>\n",
       "    <tr>\n",
       "      <th>0</th>\n",
       "      <td>RI-2005-00001</td>\n",
       "      <td>RI</td>\n",
       "      <td>2005-01-02</td>\n",
       "      <td>01:55</td>\n",
       "      <td>Zone K1</td>\n",
       "      <td>NaN</td>\n",
       "      <td>NaN</td>\n",
       "      <td>NaN</td>\n",
       "      <td>600</td>\n",
       "      <td>M</td>\n",
       "      <td>...</td>\n",
       "      <td>False</td>\n",
       "      <td>NaN</td>\n",
       "      <td>NaN</td>\n",
       "      <td>False</td>\n",
       "      <td>Citation</td>\n",
       "      <td>False</td>\n",
       "      <td>0-15 Min</td>\n",
       "      <td>False</td>\n",
       "      <td>False</td>\n",
       "      <td>Zone K1</td>\n",
       "    </tr>\n",
       "    <tr>\n",
       "      <th>1</th>\n",
       "      <td>RI-2005-00002</td>\n",
       "      <td>RI</td>\n",
       "      <td>2005-01-02</td>\n",
       "      <td>20:30</td>\n",
       "      <td>Zone X4</td>\n",
       "      <td>NaN</td>\n",
       "      <td>NaN</td>\n",
       "      <td>NaN</td>\n",
       "      <td>500</td>\n",
       "      <td>M</td>\n",
       "      <td>...</td>\n",
       "      <td>False</td>\n",
       "      <td>NaN</td>\n",
       "      <td>NaN</td>\n",
       "      <td>False</td>\n",
       "      <td>Citation</td>\n",
       "      <td>False</td>\n",
       "      <td>16-30 Min</td>\n",
       "      <td>False</td>\n",
       "      <td>False</td>\n",
       "      <td>Zone X4</td>\n",
       "    </tr>\n",
       "    <tr>\n",
       "      <th>2</th>\n",
       "      <td>RI-2005-00003</td>\n",
       "      <td>RI</td>\n",
       "      <td>2005-01-04</td>\n",
       "      <td>11:30</td>\n",
       "      <td>Zone X1</td>\n",
       "      <td>NaN</td>\n",
       "      <td>NaN</td>\n",
       "      <td>NaN</td>\n",
       "      <td>0</td>\n",
       "      <td>NaN</td>\n",
       "      <td>...</td>\n",
       "      <td>False</td>\n",
       "      <td>NaN</td>\n",
       "      <td>NaN</td>\n",
       "      <td>False</td>\n",
       "      <td>NaN</td>\n",
       "      <td>NaN</td>\n",
       "      <td>NaN</td>\n",
       "      <td>NaN</td>\n",
       "      <td>False</td>\n",
       "      <td>Zone X1</td>\n",
       "    </tr>\n",
       "    <tr>\n",
       "      <th>3</th>\n",
       "      <td>RI-2005-00004</td>\n",
       "      <td>RI</td>\n",
       "      <td>2005-01-04</td>\n",
       "      <td>12:55</td>\n",
       "      <td>Zone X4</td>\n",
       "      <td>NaN</td>\n",
       "      <td>NaN</td>\n",
       "      <td>NaN</td>\n",
       "      <td>500</td>\n",
       "      <td>M</td>\n",
       "      <td>...</td>\n",
       "      <td>False</td>\n",
       "      <td>NaN</td>\n",
       "      <td>NaN</td>\n",
       "      <td>False</td>\n",
       "      <td>Citation</td>\n",
       "      <td>False</td>\n",
       "      <td>0-15 Min</td>\n",
       "      <td>False</td>\n",
       "      <td>False</td>\n",
       "      <td>Zone X4</td>\n",
       "    </tr>\n",
       "    <tr>\n",
       "      <th>4</th>\n",
       "      <td>RI-2005-00005</td>\n",
       "      <td>RI</td>\n",
       "      <td>2005-01-06</td>\n",
       "      <td>01:30</td>\n",
       "      <td>Zone X4</td>\n",
       "      <td>NaN</td>\n",
       "      <td>NaN</td>\n",
       "      <td>NaN</td>\n",
       "      <td>500</td>\n",
       "      <td>M</td>\n",
       "      <td>...</td>\n",
       "      <td>False</td>\n",
       "      <td>NaN</td>\n",
       "      <td>NaN</td>\n",
       "      <td>False</td>\n",
       "      <td>Citation</td>\n",
       "      <td>False</td>\n",
       "      <td>0-15 Min</td>\n",
       "      <td>False</td>\n",
       "      <td>False</td>\n",
       "      <td>Zone X4</td>\n",
       "    </tr>\n",
       "  </tbody>\n",
       "</table>\n",
       "<p>5 rows × 26 columns</p>\n",
       "</div>"
      ],
      "text/plain": [
       "              id state   stop_date stop_time location_raw  county_name  \\\n",
       "0  RI-2005-00001    RI  2005-01-02     01:55      Zone K1          NaN   \n",
       "1  RI-2005-00002    RI  2005-01-02     20:30      Zone X4          NaN   \n",
       "2  RI-2005-00003    RI  2005-01-04     11:30      Zone X1          NaN   \n",
       "3  RI-2005-00004    RI  2005-01-04     12:55      Zone X4          NaN   \n",
       "4  RI-2005-00005    RI  2005-01-06     01:30      Zone X4          NaN   \n",
       "\n",
       "   county_fips  fine_grained_location police_department driver_gender  ...  \\\n",
       "0          NaN                    NaN               600             M  ...   \n",
       "1          NaN                    NaN               500             M  ...   \n",
       "2          NaN                    NaN                 0           NaN  ...   \n",
       "3          NaN                    NaN               500             M  ...   \n",
       "4          NaN                    NaN               500             M  ...   \n",
       "\n",
       "   search_conducted  search_type_raw search_type contraband_found  \\\n",
       "0             False              NaN         NaN            False   \n",
       "1             False              NaN         NaN            False   \n",
       "2             False              NaN         NaN            False   \n",
       "3             False              NaN         NaN            False   \n",
       "4             False              NaN         NaN            False   \n",
       "\n",
       "  stop_outcome is_arrested stop_duration out_of_state drugs_related_stop  \\\n",
       "0     Citation       False      0-15 Min        False              False   \n",
       "1     Citation       False     16-30 Min        False              False   \n",
       "2          NaN         NaN           NaN          NaN              False   \n",
       "3     Citation       False      0-15 Min        False              False   \n",
       "4     Citation       False      0-15 Min        False              False   \n",
       "\n",
       "   district  \n",
       "0   Zone K1  \n",
       "1   Zone X4  \n",
       "2   Zone X1  \n",
       "3   Zone X4  \n",
       "4   Zone X4  \n",
       "\n",
       "[5 rows x 26 columns]"
      ]
     },
     "execution_count": 10,
     "metadata": {},
     "output_type": "execute_result"
    }
   ],
   "source": [
    "ri=ri.iloc[:50000]\n",
    "ri.head()"
   ]
  },
  {
   "cell_type": "code",
   "execution_count": 13,
   "metadata": {},
   "outputs": [
    {
     "data": {
      "text/html": [
       "<div>\n",
       "<style scoped>\n",
       "    .dataframe tbody tr th:only-of-type {\n",
       "        vertical-align: middle;\n",
       "    }\n",
       "\n",
       "    .dataframe tbody tr th {\n",
       "        vertical-align: top;\n",
       "    }\n",
       "\n",
       "    .dataframe thead th {\n",
       "        text-align: right;\n",
       "    }\n",
       "</style>\n",
       "<table border=\"1\" class=\"dataframe\">\n",
       "  <thead>\n",
       "    <tr style=\"text-align: right;\">\n",
       "      <th></th>\n",
       "      <th>49995</th>\n",
       "      <th>49996</th>\n",
       "      <th>49997</th>\n",
       "      <th>49998</th>\n",
       "      <th>49999</th>\n",
       "    </tr>\n",
       "  </thead>\n",
       "  <tbody>\n",
       "    <tr>\n",
       "      <th>id</th>\n",
       "      <td>RI-2006-35917</td>\n",
       "      <td>RI-2006-35918</td>\n",
       "      <td>RI-2006-35919</td>\n",
       "      <td>RI-2006-35920</td>\n",
       "      <td>RI-2006-35921</td>\n",
       "    </tr>\n",
       "    <tr>\n",
       "      <th>state</th>\n",
       "      <td>RI</td>\n",
       "      <td>RI</td>\n",
       "      <td>RI</td>\n",
       "      <td>RI</td>\n",
       "      <td>RI</td>\n",
       "    </tr>\n",
       "    <tr>\n",
       "      <th>stop_date</th>\n",
       "      <td>2006-08-08</td>\n",
       "      <td>2006-08-08</td>\n",
       "      <td>2006-08-08</td>\n",
       "      <td>2006-08-08</td>\n",
       "      <td>2006-08-08</td>\n",
       "    </tr>\n",
       "    <tr>\n",
       "      <th>stop_time</th>\n",
       "      <td>22:45</td>\n",
       "      <td>22:45</td>\n",
       "      <td>22:53</td>\n",
       "      <td>23:00</td>\n",
       "      <td>23:00</td>\n",
       "    </tr>\n",
       "    <tr>\n",
       "      <th>location_raw</th>\n",
       "      <td>Zone K3</td>\n",
       "      <td>Zone K3</td>\n",
       "      <td>Zone X4</td>\n",
       "      <td>Zone K1</td>\n",
       "      <td>Zone K3</td>\n",
       "    </tr>\n",
       "    <tr>\n",
       "      <th>county_name</th>\n",
       "      <td>NaN</td>\n",
       "      <td>NaN</td>\n",
       "      <td>NaN</td>\n",
       "      <td>NaN</td>\n",
       "      <td>NaN</td>\n",
       "    </tr>\n",
       "    <tr>\n",
       "      <th>county_fips</th>\n",
       "      <td>NaN</td>\n",
       "      <td>NaN</td>\n",
       "      <td>NaN</td>\n",
       "      <td>NaN</td>\n",
       "      <td>NaN</td>\n",
       "    </tr>\n",
       "    <tr>\n",
       "      <th>fine_grained_location</th>\n",
       "      <td>NaN</td>\n",
       "      <td>NaN</td>\n",
       "      <td>NaN</td>\n",
       "      <td>NaN</td>\n",
       "      <td>NaN</td>\n",
       "    </tr>\n",
       "    <tr>\n",
       "      <th>police_department</th>\n",
       "      <td>300</td>\n",
       "      <td>300</td>\n",
       "      <td>500</td>\n",
       "      <td>600</td>\n",
       "      <td>300</td>\n",
       "    </tr>\n",
       "    <tr>\n",
       "      <th>driver_gender</th>\n",
       "      <td>M</td>\n",
       "      <td>F</td>\n",
       "      <td>M</td>\n",
       "      <td>F</td>\n",
       "      <td>M</td>\n",
       "    </tr>\n",
       "    <tr>\n",
       "      <th>driver_age_raw</th>\n",
       "      <td>1973.0</td>\n",
       "      <td>1971.0</td>\n",
       "      <td>1952.0</td>\n",
       "      <td>1982.0</td>\n",
       "      <td>1965.0</td>\n",
       "    </tr>\n",
       "    <tr>\n",
       "      <th>driver_age</th>\n",
       "      <td>33.0</td>\n",
       "      <td>35.0</td>\n",
       "      <td>54.0</td>\n",
       "      <td>24.0</td>\n",
       "      <td>41.0</td>\n",
       "    </tr>\n",
       "    <tr>\n",
       "      <th>driver_race_raw</th>\n",
       "      <td>B</td>\n",
       "      <td>B</td>\n",
       "      <td>W</td>\n",
       "      <td>W</td>\n",
       "      <td>W</td>\n",
       "    </tr>\n",
       "    <tr>\n",
       "      <th>driver_race</th>\n",
       "      <td>Black</td>\n",
       "      <td>Black</td>\n",
       "      <td>White</td>\n",
       "      <td>White</td>\n",
       "      <td>White</td>\n",
       "    </tr>\n",
       "    <tr>\n",
       "      <th>violation_raw</th>\n",
       "      <td>Equipment/Inspection Violation</td>\n",
       "      <td>Speeding</td>\n",
       "      <td>Speeding</td>\n",
       "      <td>Speeding</td>\n",
       "      <td>Speeding</td>\n",
       "    </tr>\n",
       "    <tr>\n",
       "      <th>violation</th>\n",
       "      <td>Equipment</td>\n",
       "      <td>Speeding</td>\n",
       "      <td>Speeding</td>\n",
       "      <td>Speeding</td>\n",
       "      <td>Speeding</td>\n",
       "    </tr>\n",
       "    <tr>\n",
       "      <th>search_conducted</th>\n",
       "      <td>False</td>\n",
       "      <td>False</td>\n",
       "      <td>False</td>\n",
       "      <td>False</td>\n",
       "      <td>False</td>\n",
       "    </tr>\n",
       "    <tr>\n",
       "      <th>search_type_raw</th>\n",
       "      <td>NaN</td>\n",
       "      <td>NaN</td>\n",
       "      <td>NaN</td>\n",
       "      <td>NaN</td>\n",
       "      <td>NaN</td>\n",
       "    </tr>\n",
       "    <tr>\n",
       "      <th>search_type</th>\n",
       "      <td>NaN</td>\n",
       "      <td>NaN</td>\n",
       "      <td>NaN</td>\n",
       "      <td>NaN</td>\n",
       "      <td>NaN</td>\n",
       "    </tr>\n",
       "    <tr>\n",
       "      <th>contraband_found</th>\n",
       "      <td>False</td>\n",
       "      <td>False</td>\n",
       "      <td>False</td>\n",
       "      <td>False</td>\n",
       "      <td>False</td>\n",
       "    </tr>\n",
       "    <tr>\n",
       "      <th>stop_outcome</th>\n",
       "      <td>Citation</td>\n",
       "      <td>Citation</td>\n",
       "      <td>Citation</td>\n",
       "      <td>Citation</td>\n",
       "      <td>Citation</td>\n",
       "    </tr>\n",
       "    <tr>\n",
       "      <th>is_arrested</th>\n",
       "      <td>False</td>\n",
       "      <td>False</td>\n",
       "      <td>False</td>\n",
       "      <td>False</td>\n",
       "      <td>False</td>\n",
       "    </tr>\n",
       "    <tr>\n",
       "      <th>stop_duration</th>\n",
       "      <td>0-15 Min</td>\n",
       "      <td>0-15 Min</td>\n",
       "      <td>16-30 Min</td>\n",
       "      <td>0-15 Min</td>\n",
       "      <td>16-30 Min</td>\n",
       "    </tr>\n",
       "    <tr>\n",
       "      <th>out_of_state</th>\n",
       "      <td>False</td>\n",
       "      <td>True</td>\n",
       "      <td>True</td>\n",
       "      <td>False</td>\n",
       "      <td>False</td>\n",
       "    </tr>\n",
       "    <tr>\n",
       "      <th>drugs_related_stop</th>\n",
       "      <td>False</td>\n",
       "      <td>False</td>\n",
       "      <td>False</td>\n",
       "      <td>False</td>\n",
       "      <td>False</td>\n",
       "    </tr>\n",
       "    <tr>\n",
       "      <th>district</th>\n",
       "      <td>Zone K3</td>\n",
       "      <td>Zone K3</td>\n",
       "      <td>Zone X4</td>\n",
       "      <td>Zone K1</td>\n",
       "      <td>Zone K3</td>\n",
       "    </tr>\n",
       "  </tbody>\n",
       "</table>\n",
       "</div>"
      ],
      "text/plain": [
       "                                                49995          49996  \\\n",
       "id                                      RI-2006-35917  RI-2006-35918   \n",
       "state                                              RI             RI   \n",
       "stop_date                                  2006-08-08     2006-08-08   \n",
       "stop_time                                       22:45          22:45   \n",
       "location_raw                                  Zone K3        Zone K3   \n",
       "county_name                                       NaN            NaN   \n",
       "county_fips                                       NaN            NaN   \n",
       "fine_grained_location                             NaN            NaN   \n",
       "police_department                                 300            300   \n",
       "driver_gender                                       M              F   \n",
       "driver_age_raw                                 1973.0         1971.0   \n",
       "driver_age                                       33.0           35.0   \n",
       "driver_race_raw                                     B              B   \n",
       "driver_race                                     Black          Black   \n",
       "violation_raw          Equipment/Inspection Violation       Speeding   \n",
       "violation                                   Equipment       Speeding   \n",
       "search_conducted                                False          False   \n",
       "search_type_raw                                   NaN            NaN   \n",
       "search_type                                       NaN            NaN   \n",
       "contraband_found                                False          False   \n",
       "stop_outcome                                 Citation       Citation   \n",
       "is_arrested                                     False          False   \n",
       "stop_duration                                0-15 Min       0-15 Min   \n",
       "out_of_state                                    False           True   \n",
       "drugs_related_stop                              False          False   \n",
       "district                                      Zone K3        Zone K3   \n",
       "\n",
       "                               49997          49998          49999  \n",
       "id                     RI-2006-35919  RI-2006-35920  RI-2006-35921  \n",
       "state                             RI             RI             RI  \n",
       "stop_date                 2006-08-08     2006-08-08     2006-08-08  \n",
       "stop_time                      22:53          23:00          23:00  \n",
       "location_raw                 Zone X4        Zone K1        Zone K3  \n",
       "county_name                      NaN            NaN            NaN  \n",
       "county_fips                      NaN            NaN            NaN  \n",
       "fine_grained_location            NaN            NaN            NaN  \n",
       "police_department                500            600            300  \n",
       "driver_gender                      M              F              M  \n",
       "driver_age_raw                1952.0         1982.0         1965.0  \n",
       "driver_age                      54.0           24.0           41.0  \n",
       "driver_race_raw                    W              W              W  \n",
       "driver_race                    White          White          White  \n",
       "violation_raw               Speeding       Speeding       Speeding  \n",
       "violation                   Speeding       Speeding       Speeding  \n",
       "search_conducted               False          False          False  \n",
       "search_type_raw                  NaN            NaN            NaN  \n",
       "search_type                      NaN            NaN            NaN  \n",
       "contraband_found               False          False          False  \n",
       "stop_outcome                Citation       Citation       Citation  \n",
       "is_arrested                    False          False          False  \n",
       "stop_duration              16-30 Min       0-15 Min      16-30 Min  \n",
       "out_of_state                    True          False          False  \n",
       "drugs_related_stop             False          False          False  \n",
       "district                     Zone X4        Zone K1        Zone K3  "
      ]
     },
     "execution_count": 13,
     "metadata": {},
     "output_type": "execute_result"
    }
   ],
   "source": [
    "ri.tail().T"
   ]
  },
  {
   "cell_type": "code",
   "execution_count": 11,
   "metadata": {},
   "outputs": [
    {
     "name": "stdout",
     "output_type": "stream",
     "text": [
      "<class 'pandas.core.frame.DataFrame'>\n",
      "RangeIndex: 50000 entries, 0 to 49999\n",
      "Data columns (total 26 columns):\n",
      " #   Column                 Non-Null Count  Dtype  \n",
      "---  ------                 --------------  -----  \n",
      " 0   id                     50000 non-null  object \n",
      " 1   state                  50000 non-null  object \n",
      " 2   stop_date              50000 non-null  object \n",
      " 3   stop_time              50000 non-null  object \n",
      " 4   location_raw           50000 non-null  object \n",
      " 5   county_name            0 non-null      float64\n",
      " 6   county_fips            0 non-null      float64\n",
      " 7   fine_grained_location  0 non-null      float64\n",
      " 8   police_department      50000 non-null  object \n",
      " 9   driver_gender          48010 non-null  object \n",
      " 10  driver_age_raw         48029 non-null  float64\n",
      " 11  driver_age             47792 non-null  float64\n",
      " 12  driver_race_raw        48012 non-null  object \n",
      " 13  driver_race            48012 non-null  object \n",
      " 14  violation_raw          48012 non-null  object \n",
      " 15  violation              48012 non-null  object \n",
      " 16  search_conducted       50000 non-null  object \n",
      " 17  search_type_raw        2012 non-null   object \n",
      " 18  search_type            2012 non-null   object \n",
      " 19  contraband_found       50000 non-null  bool   \n",
      " 20  stop_outcome           48012 non-null  object \n",
      " 21  is_arrested            48012 non-null  object \n",
      " 22  stop_duration          48012 non-null  object \n",
      " 23  out_of_state           47797 non-null  object \n",
      " 24  drugs_related_stop     50000 non-null  bool   \n",
      " 25  district               50000 non-null  object \n",
      "dtypes: bool(2), float64(5), object(19)\n",
      "memory usage: 9.3+ MB\n"
     ]
    }
   ],
   "source": [
    "ri.info()"
   ]
  },
  {
   "cell_type": "code",
   "execution_count": 15,
   "metadata": {},
   "outputs": [
    {
     "data": {
      "text/plain": [
       "id                           0\n",
       "state                        0\n",
       "stop_date                    0\n",
       "stop_time                    0\n",
       "location_raw                 0\n",
       "county_name              50000\n",
       "county_fips              50000\n",
       "fine_grained_location    50000\n",
       "police_department            0\n",
       "driver_gender             1990\n",
       "driver_age_raw            1971\n",
       "driver_age                2208\n",
       "driver_race_raw           1988\n",
       "driver_race               1988\n",
       "violation_raw             1988\n",
       "violation                 1988\n",
       "search_conducted             0\n",
       "search_type_raw          47988\n",
       "search_type              47988\n",
       "contraband_found             0\n",
       "stop_outcome              1988\n",
       "is_arrested               1988\n",
       "stop_duration             1988\n",
       "out_of_state              2203\n",
       "drugs_related_stop           0\n",
       "district                     0\n",
       "dtype: int64"
      ]
     },
     "execution_count": 15,
     "metadata": {},
     "output_type": "execute_result"
    }
   ],
   "source": [
    "ri.isnull().sum()"
   ]
  },
  {
   "cell_type": "code",
   "execution_count": null,
   "metadata": {},
   "outputs": [],
   "source": []
  },
  {
   "cell_type": "markdown",
   "metadata": {},
   "source": [
    "***"
   ]
  },
  {
   "cell_type": "markdown",
   "metadata": {
    "id": "pdZ2vrcnwYh7"
   },
   "source": [
    "## Dropping columns"
   ]
  },
  {
   "cell_type": "markdown",
   "metadata": {
    "id": "0SBCnN6wwYh7"
   },
   "source": [
    "Often, a DataFrame will contain columns that are not useful to your analysis. Such columns should be dropped from the ``DataFrame``, to make it easier for you to focus on the remaining columns.\n",
    "\n",
    "You'll drop the ``county_name`` column because it only contains missing values, and you'll drop the ``state`` column because all of the traffic stops took place in one state (Rhode Island). Thus, these columns can be dropped because they contain no useful information."
   ]
  },
  {
   "cell_type": "markdown",
   "metadata": {
    "id": "xY_8SVFCwYh8"
   },
   "source": [
    "**INSTRUCTIONS**\n",
    "\n",
    "*   Examine the ``DataFrame``'s shape to find out the number of rows and columns.\n",
    "\n",
    "*   Drop the columns that almost consist of missing values. \n",
    "\n",
    "*   Examine the ``.shape`` again to verify that there are now two fewer columns."
   ]
  },
  {
   "cell_type": "code",
   "execution_count": 16,
   "metadata": {},
   "outputs": [
    {
     "data": {
      "text/plain": [
       "(50000, 26)"
      ]
     },
     "execution_count": 16,
     "metadata": {},
     "output_type": "execute_result"
    }
   ],
   "source": [
    "ri.shape"
   ]
  },
  {
   "cell_type": "code",
   "execution_count": 17,
   "metadata": {},
   "outputs": [],
   "source": [
    "ri.drop(columns=[\"state\", \"county_name\", \"county_fips\", \"fine_grained_location\", \"search_type_raw\", \"search_type\"], inplace=True)"
   ]
  },
  {
   "cell_type": "code",
   "execution_count": 18,
   "metadata": {},
   "outputs": [
    {
     "data": {
      "text/plain": [
       "(50000, 20)"
      ]
     },
     "execution_count": 18,
     "metadata": {},
     "output_type": "execute_result"
    }
   ],
   "source": [
    "ri.shape"
   ]
  },
  {
   "cell_type": "markdown",
   "metadata": {
    "id": "AwfajJoowYh8"
   },
   "source": [
    "***"
   ]
  },
  {
   "cell_type": "markdown",
   "metadata": {
    "id": "8TOdufeDwYh9"
   },
   "source": [
    "## Dropping rows"
   ]
  },
  {
   "cell_type": "markdown",
   "metadata": {
    "id": "DHlgLgLDwYh9"
   },
   "source": [
    "When you know that a specific column will be critical to your analysis, and only a small fraction of rows are missing a value in that column, it often makes sense to remove those rows from the dataset.\n",
    "\n",
    "During this course, the ``driver_gender`` column will be critical to many of your analyses. Because only a small fraction of rows are missing ``driver_gender``, we'll drop those rows from the dataset."
   ]
  },
  {
   "cell_type": "markdown",
   "metadata": {
    "id": "VkKtUSclwYh9"
   },
   "source": [
    "**INSTRUCTIONS**\n",
    "\n",
    "*   Count the number of missing values in each column.\n",
    "\n",
    "*   Drop all rows that are missing ``driver_gender`` by passing the column name to the subset parameter of ``.dropna()``.\n",
    "*   Count the number of missing values in each column again, to verify that none of the remaining rows are missing ``driver_gender``.\n",
    "*   Examine the ``DataFrame``'s ``.shape`` to see how many rows and columns remain."
   ]
  },
  {
   "cell_type": "code",
   "execution_count": 19,
   "metadata": {},
   "outputs": [
    {
     "data": {
      "text/plain": [
       "id                       0\n",
       "stop_date                0\n",
       "stop_time                0\n",
       "location_raw             0\n",
       "police_department        0\n",
       "driver_gender         1990\n",
       "driver_age_raw        1971\n",
       "driver_age            2208\n",
       "driver_race_raw       1988\n",
       "driver_race           1988\n",
       "violation_raw         1988\n",
       "violation             1988\n",
       "search_conducted         0\n",
       "contraband_found         0\n",
       "stop_outcome          1988\n",
       "is_arrested           1988\n",
       "stop_duration         1988\n",
       "out_of_state          2203\n",
       "drugs_related_stop       0\n",
       "district                 0\n",
       "dtype: int64"
      ]
     },
     "execution_count": 19,
     "metadata": {},
     "output_type": "execute_result"
    }
   ],
   "source": [
    "ri.isnull().sum()"
   ]
  },
  {
   "cell_type": "code",
   "execution_count": 25,
   "metadata": {},
   "outputs": [
    {
     "data": {
      "text/html": [
       "<div>\n",
       "<style scoped>\n",
       "    .dataframe tbody tr th:only-of-type {\n",
       "        vertical-align: middle;\n",
       "    }\n",
       "\n",
       "    .dataframe tbody tr th {\n",
       "        vertical-align: top;\n",
       "    }\n",
       "\n",
       "    .dataframe thead th {\n",
       "        text-align: right;\n",
       "    }\n",
       "</style>\n",
       "<table border=\"1\" class=\"dataframe\">\n",
       "  <thead>\n",
       "    <tr style=\"text-align: right;\">\n",
       "      <th></th>\n",
       "      <th>id</th>\n",
       "      <th>stop_date</th>\n",
       "      <th>stop_time</th>\n",
       "      <th>location_raw</th>\n",
       "      <th>police_department</th>\n",
       "      <th>driver_gender</th>\n",
       "      <th>driver_age_raw</th>\n",
       "      <th>driver_age</th>\n",
       "      <th>driver_race_raw</th>\n",
       "      <th>driver_race</th>\n",
       "      <th>violation_raw</th>\n",
       "      <th>violation</th>\n",
       "      <th>search_conducted</th>\n",
       "      <th>contraband_found</th>\n",
       "      <th>stop_outcome</th>\n",
       "      <th>is_arrested</th>\n",
       "      <th>stop_duration</th>\n",
       "      <th>out_of_state</th>\n",
       "      <th>drugs_related_stop</th>\n",
       "      <th>district</th>\n",
       "    </tr>\n",
       "  </thead>\n",
       "  <tbody>\n",
       "    <tr>\n",
       "      <th>2</th>\n",
       "      <td>RI-2005-00003</td>\n",
       "      <td>2005-01-04</td>\n",
       "      <td>11:30</td>\n",
       "      <td>Zone X1</td>\n",
       "      <td>0</td>\n",
       "      <td>NaN</td>\n",
       "      <td>NaN</td>\n",
       "      <td>NaN</td>\n",
       "      <td>NaN</td>\n",
       "      <td>NaN</td>\n",
       "      <td>NaN</td>\n",
       "      <td>NaN</td>\n",
       "      <td>False</td>\n",
       "      <td>False</td>\n",
       "      <td>NaN</td>\n",
       "      <td>NaN</td>\n",
       "      <td>NaN</td>\n",
       "      <td>NaN</td>\n",
       "      <td>False</td>\n",
       "      <td>Zone X1</td>\n",
       "    </tr>\n",
       "    <tr>\n",
       "      <th>17</th>\n",
       "      <td>RI-2005-00018</td>\n",
       "      <td>2005-03-05</td>\n",
       "      <td>00:20</td>\n",
       "      <td>Zone X4</td>\n",
       "      <td>500</td>\n",
       "      <td>NaN</td>\n",
       "      <td>NaN</td>\n",
       "      <td>NaN</td>\n",
       "      <td>NaN</td>\n",
       "      <td>NaN</td>\n",
       "      <td>NaN</td>\n",
       "      <td>NaN</td>\n",
       "      <td>False</td>\n",
       "      <td>False</td>\n",
       "      <td>NaN</td>\n",
       "      <td>NaN</td>\n",
       "      <td>NaN</td>\n",
       "      <td>NaN</td>\n",
       "      <td>False</td>\n",
       "      <td>Zone X4</td>\n",
       "    </tr>\n",
       "    <tr>\n",
       "      <th>35</th>\n",
       "      <td>RI-2005-00036</td>\n",
       "      <td>2005-06-08</td>\n",
       "      <td>08:40</td>\n",
       "      <td>Zone X4</td>\n",
       "      <td>500</td>\n",
       "      <td>NaN</td>\n",
       "      <td>NaN</td>\n",
       "      <td>NaN</td>\n",
       "      <td>NaN</td>\n",
       "      <td>NaN</td>\n",
       "      <td>NaN</td>\n",
       "      <td>NaN</td>\n",
       "      <td>False</td>\n",
       "      <td>False</td>\n",
       "      <td>NaN</td>\n",
       "      <td>NaN</td>\n",
       "      <td>NaN</td>\n",
       "      <td>NaN</td>\n",
       "      <td>False</td>\n",
       "      <td>Zone X4</td>\n",
       "    </tr>\n",
       "    <tr>\n",
       "      <th>74</th>\n",
       "      <td>RI-2005-00075</td>\n",
       "      <td>2005-08-17</td>\n",
       "      <td>13:20</td>\n",
       "      <td>Zone X1</td>\n",
       "      <td>0</td>\n",
       "      <td>NaN</td>\n",
       "      <td>NaN</td>\n",
       "      <td>NaN</td>\n",
       "      <td>NaN</td>\n",
       "      <td>NaN</td>\n",
       "      <td>NaN</td>\n",
       "      <td>NaN</td>\n",
       "      <td>False</td>\n",
       "      <td>False</td>\n",
       "      <td>NaN</td>\n",
       "      <td>NaN</td>\n",
       "      <td>NaN</td>\n",
       "      <td>NaN</td>\n",
       "      <td>False</td>\n",
       "      <td>Zone X1</td>\n",
       "    </tr>\n",
       "    <tr>\n",
       "      <th>75</th>\n",
       "      <td>RI-2005-00076</td>\n",
       "      <td>2005-08-17</td>\n",
       "      <td>15:59</td>\n",
       "      <td>Zone X1</td>\n",
       "      <td>0</td>\n",
       "      <td>NaN</td>\n",
       "      <td>NaN</td>\n",
       "      <td>NaN</td>\n",
       "      <td>NaN</td>\n",
       "      <td>NaN</td>\n",
       "      <td>NaN</td>\n",
       "      <td>NaN</td>\n",
       "      <td>False</td>\n",
       "      <td>False</td>\n",
       "      <td>NaN</td>\n",
       "      <td>NaN</td>\n",
       "      <td>NaN</td>\n",
       "      <td>NaN</td>\n",
       "      <td>False</td>\n",
       "      <td>Zone X1</td>\n",
       "    </tr>\n",
       "    <tr>\n",
       "      <th>...</th>\n",
       "      <td>...</td>\n",
       "      <td>...</td>\n",
       "      <td>...</td>\n",
       "      <td>...</td>\n",
       "      <td>...</td>\n",
       "      <td>...</td>\n",
       "      <td>...</td>\n",
       "      <td>...</td>\n",
       "      <td>...</td>\n",
       "      <td>...</td>\n",
       "      <td>...</td>\n",
       "      <td>...</td>\n",
       "      <td>...</td>\n",
       "      <td>...</td>\n",
       "      <td>...</td>\n",
       "      <td>...</td>\n",
       "      <td>...</td>\n",
       "      <td>...</td>\n",
       "      <td>...</td>\n",
       "      <td>...</td>\n",
       "    </tr>\n",
       "    <tr>\n",
       "      <th>49836</th>\n",
       "      <td>RI-2006-35758</td>\n",
       "      <td>2006-08-08</td>\n",
       "      <td>01:15</td>\n",
       "      <td>Zone X4</td>\n",
       "      <td>500</td>\n",
       "      <td>NaN</td>\n",
       "      <td>NaN</td>\n",
       "      <td>NaN</td>\n",
       "      <td>NaN</td>\n",
       "      <td>NaN</td>\n",
       "      <td>NaN</td>\n",
       "      <td>NaN</td>\n",
       "      <td>False</td>\n",
       "      <td>False</td>\n",
       "      <td>NaN</td>\n",
       "      <td>NaN</td>\n",
       "      <td>NaN</td>\n",
       "      <td>NaN</td>\n",
       "      <td>False</td>\n",
       "      <td>Zone X4</td>\n",
       "    </tr>\n",
       "    <tr>\n",
       "      <th>49848</th>\n",
       "      <td>RI-2006-35770</td>\n",
       "      <td>2006-08-08</td>\n",
       "      <td>06:45</td>\n",
       "      <td>Zone X1</td>\n",
       "      <td>000</td>\n",
       "      <td>NaN</td>\n",
       "      <td>NaN</td>\n",
       "      <td>NaN</td>\n",
       "      <td>NaN</td>\n",
       "      <td>NaN</td>\n",
       "      <td>NaN</td>\n",
       "      <td>NaN</td>\n",
       "      <td>False</td>\n",
       "      <td>False</td>\n",
       "      <td>NaN</td>\n",
       "      <td>NaN</td>\n",
       "      <td>NaN</td>\n",
       "      <td>NaN</td>\n",
       "      <td>False</td>\n",
       "      <td>Zone X1</td>\n",
       "    </tr>\n",
       "    <tr>\n",
       "      <th>49937</th>\n",
       "      <td>RI-2006-35859</td>\n",
       "      <td>2006-08-08</td>\n",
       "      <td>14:30</td>\n",
       "      <td>Zone K2</td>\n",
       "      <td>900</td>\n",
       "      <td>NaN</td>\n",
       "      <td>NaN</td>\n",
       "      <td>NaN</td>\n",
       "      <td>NaN</td>\n",
       "      <td>NaN</td>\n",
       "      <td>NaN</td>\n",
       "      <td>NaN</td>\n",
       "      <td>False</td>\n",
       "      <td>False</td>\n",
       "      <td>NaN</td>\n",
       "      <td>NaN</td>\n",
       "      <td>NaN</td>\n",
       "      <td>NaN</td>\n",
       "      <td>False</td>\n",
       "      <td>Zone K2</td>\n",
       "    </tr>\n",
       "    <tr>\n",
       "      <th>49968</th>\n",
       "      <td>RI-2006-35890</td>\n",
       "      <td>2006-08-08</td>\n",
       "      <td>19:15</td>\n",
       "      <td>Zone X1</td>\n",
       "      <td>000</td>\n",
       "      <td>NaN</td>\n",
       "      <td>NaN</td>\n",
       "      <td>NaN</td>\n",
       "      <td>NaN</td>\n",
       "      <td>NaN</td>\n",
       "      <td>NaN</td>\n",
       "      <td>NaN</td>\n",
       "      <td>False</td>\n",
       "      <td>False</td>\n",
       "      <td>NaN</td>\n",
       "      <td>NaN</td>\n",
       "      <td>NaN</td>\n",
       "      <td>NaN</td>\n",
       "      <td>False</td>\n",
       "      <td>Zone X1</td>\n",
       "    </tr>\n",
       "    <tr>\n",
       "      <th>49982</th>\n",
       "      <td>RI-2006-35904</td>\n",
       "      <td>2006-08-08</td>\n",
       "      <td>21:10</td>\n",
       "      <td>Zone X1</td>\n",
       "      <td>000</td>\n",
       "      <td>NaN</td>\n",
       "      <td>NaN</td>\n",
       "      <td>NaN</td>\n",
       "      <td>NaN</td>\n",
       "      <td>NaN</td>\n",
       "      <td>NaN</td>\n",
       "      <td>NaN</td>\n",
       "      <td>False</td>\n",
       "      <td>False</td>\n",
       "      <td>NaN</td>\n",
       "      <td>NaN</td>\n",
       "      <td>NaN</td>\n",
       "      <td>NaN</td>\n",
       "      <td>False</td>\n",
       "      <td>Zone X1</td>\n",
       "    </tr>\n",
       "  </tbody>\n",
       "</table>\n",
       "<p>1990 rows × 20 columns</p>\n",
       "</div>"
      ],
      "text/plain": [
       "                  id   stop_date stop_time location_raw police_department  \\\n",
       "2      RI-2005-00003  2005-01-04     11:30      Zone X1                 0   \n",
       "17     RI-2005-00018  2005-03-05     00:20      Zone X4               500   \n",
       "35     RI-2005-00036  2005-06-08     08:40      Zone X4               500   \n",
       "74     RI-2005-00075  2005-08-17     13:20      Zone X1                 0   \n",
       "75     RI-2005-00076  2005-08-17     15:59      Zone X1                 0   \n",
       "...              ...         ...       ...          ...               ...   \n",
       "49836  RI-2006-35758  2006-08-08     01:15      Zone X4               500   \n",
       "49848  RI-2006-35770  2006-08-08     06:45      Zone X1               000   \n",
       "49937  RI-2006-35859  2006-08-08     14:30      Zone K2               900   \n",
       "49968  RI-2006-35890  2006-08-08     19:15      Zone X1               000   \n",
       "49982  RI-2006-35904  2006-08-08     21:10      Zone X1               000   \n",
       "\n",
       "      driver_gender  driver_age_raw  driver_age driver_race_raw driver_race  \\\n",
       "2               NaN             NaN         NaN             NaN         NaN   \n",
       "17              NaN             NaN         NaN             NaN         NaN   \n",
       "35              NaN             NaN         NaN             NaN         NaN   \n",
       "74              NaN             NaN         NaN             NaN         NaN   \n",
       "75              NaN             NaN         NaN             NaN         NaN   \n",
       "...             ...             ...         ...             ...         ...   \n",
       "49836           NaN             NaN         NaN             NaN         NaN   \n",
       "49848           NaN             NaN         NaN             NaN         NaN   \n",
       "49937           NaN             NaN         NaN             NaN         NaN   \n",
       "49968           NaN             NaN         NaN             NaN         NaN   \n",
       "49982           NaN             NaN         NaN             NaN         NaN   \n",
       "\n",
       "      violation_raw violation search_conducted  contraband_found stop_outcome  \\\n",
       "2               NaN       NaN            False             False          NaN   \n",
       "17              NaN       NaN            False             False          NaN   \n",
       "35              NaN       NaN            False             False          NaN   \n",
       "74              NaN       NaN            False             False          NaN   \n",
       "75              NaN       NaN            False             False          NaN   \n",
       "...             ...       ...              ...               ...          ...   \n",
       "49836           NaN       NaN            False             False          NaN   \n",
       "49848           NaN       NaN            False             False          NaN   \n",
       "49937           NaN       NaN            False             False          NaN   \n",
       "49968           NaN       NaN            False             False          NaN   \n",
       "49982           NaN       NaN            False             False          NaN   \n",
       "\n",
       "      is_arrested stop_duration out_of_state  drugs_related_stop district  \n",
       "2             NaN           NaN          NaN               False  Zone X1  \n",
       "17            NaN           NaN          NaN               False  Zone X4  \n",
       "35            NaN           NaN          NaN               False  Zone X4  \n",
       "74            NaN           NaN          NaN               False  Zone X1  \n",
       "75            NaN           NaN          NaN               False  Zone X1  \n",
       "...           ...           ...          ...                 ...      ...  \n",
       "49836         NaN           NaN          NaN               False  Zone X4  \n",
       "49848         NaN           NaN          NaN               False  Zone X1  \n",
       "49937         NaN           NaN          NaN               False  Zone K2  \n",
       "49968         NaN           NaN          NaN               False  Zone X1  \n",
       "49982         NaN           NaN          NaN               False  Zone X1  \n",
       "\n",
       "[1990 rows x 20 columns]"
      ]
     },
     "execution_count": 25,
     "metadata": {},
     "output_type": "execute_result"
    }
   ],
   "source": [
    "ri[ri.driver_gender.isnull()]"
   ]
  },
  {
   "cell_type": "code",
   "execution_count": 26,
   "metadata": {},
   "outputs": [],
   "source": [
    "ri.dropna(subset=[\"driver_gender\"], inplace=True)"
   ]
  },
  {
   "cell_type": "code",
   "execution_count": 28,
   "metadata": {},
   "outputs": [
    {
     "data": {
      "text/plain": [
       "id                      0\n",
       "stop_date               0\n",
       "stop_time               0\n",
       "location_raw            0\n",
       "police_department       0\n",
       "driver_gender           0\n",
       "driver_age_raw          0\n",
       "driver_age            232\n",
       "driver_race_raw         0\n",
       "driver_race             0\n",
       "violation_raw           0\n",
       "violation               0\n",
       "search_conducted        0\n",
       "contraband_found        0\n",
       "stop_outcome            0\n",
       "is_arrested             0\n",
       "stop_duration           0\n",
       "out_of_state          215\n",
       "drugs_related_stop      0\n",
       "district                0\n",
       "dtype: int64"
      ]
     },
     "execution_count": 28,
     "metadata": {},
     "output_type": "execute_result"
    }
   ],
   "source": [
    "ri.isnull().sum()"
   ]
  },
  {
   "cell_type": "code",
   "execution_count": 29,
   "metadata": {},
   "outputs": [
    {
     "data": {
      "text/plain": [
       "(48010, 20)"
      ]
     },
     "execution_count": 29,
     "metadata": {},
     "output_type": "execute_result"
    }
   ],
   "source": [
    "ri.shape"
   ]
  },
  {
   "cell_type": "markdown",
   "metadata": {
    "id": "ucaBeBc_wYh-"
   },
   "source": [
    "***"
   ]
  },
  {
   "cell_type": "markdown",
   "metadata": {
    "id": "MzFlcH9UwYh-"
   },
   "source": [
    "## Fixing a data type"
   ]
  },
  {
   "cell_type": "markdown",
   "metadata": {
    "id": "KIPRoJzuwYh-"
   },
   "source": [
    "We know that the ``is_arrested`` column currently has the ``object`` data type. In this exercise, we'll change the data type to ``bool``, which is the most suitable type for a column containing ``True`` and ``False`` values.\n",
    "\n",
    "Fixing the data type will enable us to use mathematical operations on the ``is_arrested`` column that would not be possible otherwise."
   ]
  },
  {
   "cell_type": "markdown",
   "metadata": {
    "id": "SF5vL2TFwYh-"
   },
   "source": [
    "**INSTRUCTIONS**\n",
    "\n",
    "*   Examine the values of the ``is_arrested`` column to verify that it contains ``True`` and ``False`` values.\n",
    "*   Check the current data type of ``is_arrested``.\n",
    "*   Use the ``.astype()`` method to convert ``is_arrested`` to a ``bool`` column.\n",
    "*   Check the new data type of ``is_arrested``, to confirm that it is now a ``bool`` column."
   ]
  },
  {
   "cell_type": "code",
   "execution_count": 30,
   "metadata": {},
   "outputs": [
    {
     "data": {
      "text/plain": [
       "False    45522\n",
       "True      2488\n",
       "Name: is_arrested, dtype: int64"
      ]
     },
     "execution_count": 30,
     "metadata": {},
     "output_type": "execute_result"
    }
   ],
   "source": [
    "ri.is_arrested.value_counts(dropna=False)"
   ]
  },
  {
   "cell_type": "code",
   "execution_count": 32,
   "metadata": {},
   "outputs": [
    {
     "name": "stdout",
     "output_type": "stream",
     "text": [
      "<class 'pandas.core.frame.DataFrame'>\n",
      "Int64Index: 48010 entries, 0 to 49999\n",
      "Data columns (total 20 columns):\n",
      " #   Column              Non-Null Count  Dtype  \n",
      "---  ------              --------------  -----  \n",
      " 0   id                  48010 non-null  object \n",
      " 1   stop_date           48010 non-null  object \n",
      " 2   stop_time           48010 non-null  object \n",
      " 3   location_raw        48010 non-null  object \n",
      " 4   police_department   48010 non-null  object \n",
      " 5   driver_gender       48010 non-null  object \n",
      " 6   driver_age_raw      48010 non-null  float64\n",
      " 7   driver_age          47778 non-null  float64\n",
      " 8   driver_race_raw     48010 non-null  object \n",
      " 9   driver_race         48010 non-null  object \n",
      " 10  violation_raw       48010 non-null  object \n",
      " 11  violation           48010 non-null  object \n",
      " 12  search_conducted    48010 non-null  object \n",
      " 13  contraband_found    48010 non-null  bool   \n",
      " 14  stop_outcome        48010 non-null  object \n",
      " 15  is_arrested         48010 non-null  object \n",
      " 16  stop_duration       48010 non-null  object \n",
      " 17  out_of_state        47795 non-null  object \n",
      " 18  drugs_related_stop  48010 non-null  bool   \n",
      " 19  district            48010 non-null  object \n",
      "dtypes: bool(2), float64(2), object(16)\n",
      "memory usage: 7.1+ MB\n"
     ]
    }
   ],
   "source": [
    "ri.info()"
   ]
  },
  {
   "cell_type": "code",
   "execution_count": 34,
   "metadata": {},
   "outputs": [
    {
     "data": {
      "text/plain": [
       "dtype('O')"
      ]
     },
     "execution_count": 34,
     "metadata": {},
     "output_type": "execute_result"
    }
   ],
   "source": [
    "ri.is_arrested.dtype"
   ]
  },
  {
   "cell_type": "code",
   "execution_count": 37,
   "metadata": {},
   "outputs": [],
   "source": [
    "ri.is_arrested=ri.is_arrested.astype(bool)"
   ]
  },
  {
   "cell_type": "code",
   "execution_count": 38,
   "metadata": {},
   "outputs": [
    {
     "data": {
      "text/plain": [
       "dtype('bool')"
      ]
     },
     "execution_count": 38,
     "metadata": {},
     "output_type": "execute_result"
    }
   ],
   "source": [
    "ri.is_arrested.dtype"
   ]
  },
  {
   "cell_type": "markdown",
   "metadata": {
    "id": "a_hpehkiwYh_"
   },
   "source": [
    "***"
   ]
  },
  {
   "cell_type": "markdown",
   "metadata": {
    "id": "-GEUf8yKwYh_"
   },
   "source": [
    "## Combining object columns"
   ]
  },
  {
   "cell_type": "markdown",
   "metadata": {
    "id": "1Df-ilz2wYh_"
   },
   "source": [
    "Currently, the date and time of each traffic stop are stored in separate object columns: ``stop_date`` and ``stop_time``.\n",
    "\n",
    "You'll combine these two columns into a single column, and then convert it to ``datetime`` format. This will enable convenient date-based attributes that we'll use later in the course."
   ]
  },
  {
   "cell_type": "markdown",
   "metadata": {
    "id": "hZd8wKUMwYiA"
   },
   "source": [
    "**INSTRUCTIONS**\n",
    "\n",
    "*    Get the first row of the data frame and see the dtypes of ``stop_date`` and ``stop_time`` columns.\n",
    "*    Use a string method to concatenate ``stop_date`` and ``stop_time`` (separated by a space), and store the result in ``combined``.\n",
    "*    Convert ``combined`` to ``datetime`` format, and store the result in a new column named ``stop_datetime``.\n",
    "*    Drop ``stop_date`` and ``stop_time`` columns from dataframe and check after dropping by getting first row.\n",
    "*    Examine the ``DataFrame`` ``.dtypes`` to confirm that ``stop_datetime`` is a datetime column."
   ]
  },
  {
   "cell_type": "code",
   "execution_count": 39,
   "metadata": {},
   "outputs": [
    {
     "data": {
      "text/html": [
       "<div>\n",
       "<style scoped>\n",
       "    .dataframe tbody tr th:only-of-type {\n",
       "        vertical-align: middle;\n",
       "    }\n",
       "\n",
       "    .dataframe tbody tr th {\n",
       "        vertical-align: top;\n",
       "    }\n",
       "\n",
       "    .dataframe thead th {\n",
       "        text-align: right;\n",
       "    }\n",
       "</style>\n",
       "<table border=\"1\" class=\"dataframe\">\n",
       "  <thead>\n",
       "    <tr style=\"text-align: right;\">\n",
       "      <th></th>\n",
       "      <th>id</th>\n",
       "      <th>stop_date</th>\n",
       "      <th>stop_time</th>\n",
       "      <th>location_raw</th>\n",
       "      <th>police_department</th>\n",
       "      <th>driver_gender</th>\n",
       "      <th>driver_age_raw</th>\n",
       "      <th>driver_age</th>\n",
       "      <th>driver_race_raw</th>\n",
       "      <th>driver_race</th>\n",
       "      <th>violation_raw</th>\n",
       "      <th>violation</th>\n",
       "      <th>search_conducted</th>\n",
       "      <th>contraband_found</th>\n",
       "      <th>stop_outcome</th>\n",
       "      <th>is_arrested</th>\n",
       "      <th>stop_duration</th>\n",
       "      <th>out_of_state</th>\n",
       "      <th>drugs_related_stop</th>\n",
       "      <th>district</th>\n",
       "    </tr>\n",
       "  </thead>\n",
       "  <tbody>\n",
       "    <tr>\n",
       "      <th>0</th>\n",
       "      <td>RI-2005-00001</td>\n",
       "      <td>2005-01-02</td>\n",
       "      <td>01:55</td>\n",
       "      <td>Zone K1</td>\n",
       "      <td>600</td>\n",
       "      <td>M</td>\n",
       "      <td>1985.0</td>\n",
       "      <td>20.0</td>\n",
       "      <td>W</td>\n",
       "      <td>White</td>\n",
       "      <td>Speeding</td>\n",
       "      <td>Speeding</td>\n",
       "      <td>False</td>\n",
       "      <td>False</td>\n",
       "      <td>Citation</td>\n",
       "      <td>False</td>\n",
       "      <td>0-15 Min</td>\n",
       "      <td>False</td>\n",
       "      <td>False</td>\n",
       "      <td>Zone K1</td>\n",
       "    </tr>\n",
       "  </tbody>\n",
       "</table>\n",
       "</div>"
      ],
      "text/plain": [
       "              id   stop_date stop_time location_raw police_department  \\\n",
       "0  RI-2005-00001  2005-01-02     01:55      Zone K1               600   \n",
       "\n",
       "  driver_gender  driver_age_raw  driver_age driver_race_raw driver_race  \\\n",
       "0             M          1985.0        20.0               W       White   \n",
       "\n",
       "  violation_raw violation search_conducted  contraband_found stop_outcome  \\\n",
       "0      Speeding  Speeding            False             False     Citation   \n",
       "\n",
       "   is_arrested stop_duration out_of_state  drugs_related_stop district  \n",
       "0        False      0-15 Min        False               False  Zone K1  "
      ]
     },
     "execution_count": 39,
     "metadata": {},
     "output_type": "execute_result"
    }
   ],
   "source": [
    "ri.head(1)"
   ]
  },
  {
   "cell_type": "code",
   "execution_count": 40,
   "metadata": {},
   "outputs": [],
   "source": [
    "ri[\"combined\"] = ri.stop_date +\" \"+ ri.stop_time"
   ]
  },
  {
   "cell_type": "code",
   "execution_count": 41,
   "metadata": {},
   "outputs": [
    {
     "data": {
      "text/html": [
       "<div>\n",
       "<style scoped>\n",
       "    .dataframe tbody tr th:only-of-type {\n",
       "        vertical-align: middle;\n",
       "    }\n",
       "\n",
       "    .dataframe tbody tr th {\n",
       "        vertical-align: top;\n",
       "    }\n",
       "\n",
       "    .dataframe thead th {\n",
       "        text-align: right;\n",
       "    }\n",
       "</style>\n",
       "<table border=\"1\" class=\"dataframe\">\n",
       "  <thead>\n",
       "    <tr style=\"text-align: right;\">\n",
       "      <th></th>\n",
       "      <th>id</th>\n",
       "      <th>stop_date</th>\n",
       "      <th>stop_time</th>\n",
       "      <th>location_raw</th>\n",
       "      <th>police_department</th>\n",
       "      <th>driver_gender</th>\n",
       "      <th>driver_age_raw</th>\n",
       "      <th>driver_age</th>\n",
       "      <th>driver_race_raw</th>\n",
       "      <th>driver_race</th>\n",
       "      <th>...</th>\n",
       "      <th>violation</th>\n",
       "      <th>search_conducted</th>\n",
       "      <th>contraband_found</th>\n",
       "      <th>stop_outcome</th>\n",
       "      <th>is_arrested</th>\n",
       "      <th>stop_duration</th>\n",
       "      <th>out_of_state</th>\n",
       "      <th>drugs_related_stop</th>\n",
       "      <th>district</th>\n",
       "      <th>combined</th>\n",
       "    </tr>\n",
       "  </thead>\n",
       "  <tbody>\n",
       "    <tr>\n",
       "      <th>0</th>\n",
       "      <td>RI-2005-00001</td>\n",
       "      <td>2005-01-02</td>\n",
       "      <td>01:55</td>\n",
       "      <td>Zone K1</td>\n",
       "      <td>600</td>\n",
       "      <td>M</td>\n",
       "      <td>1985.0</td>\n",
       "      <td>20.0</td>\n",
       "      <td>W</td>\n",
       "      <td>White</td>\n",
       "      <td>...</td>\n",
       "      <td>Speeding</td>\n",
       "      <td>False</td>\n",
       "      <td>False</td>\n",
       "      <td>Citation</td>\n",
       "      <td>False</td>\n",
       "      <td>0-15 Min</td>\n",
       "      <td>False</td>\n",
       "      <td>False</td>\n",
       "      <td>Zone K1</td>\n",
       "      <td>2005-01-02 01:55</td>\n",
       "    </tr>\n",
       "  </tbody>\n",
       "</table>\n",
       "<p>1 rows × 21 columns</p>\n",
       "</div>"
      ],
      "text/plain": [
       "              id   stop_date stop_time location_raw police_department  \\\n",
       "0  RI-2005-00001  2005-01-02     01:55      Zone K1               600   \n",
       "\n",
       "  driver_gender  driver_age_raw  driver_age driver_race_raw driver_race  ...  \\\n",
       "0             M          1985.0        20.0               W       White  ...   \n",
       "\n",
       "  violation search_conducted contraband_found  stop_outcome is_arrested  \\\n",
       "0  Speeding            False            False      Citation       False   \n",
       "\n",
       "   stop_duration out_of_state drugs_related_stop  district          combined  \n",
       "0       0-15 Min        False              False   Zone K1  2005-01-02 01:55  \n",
       "\n",
       "[1 rows x 21 columns]"
      ]
     },
     "execution_count": 41,
     "metadata": {},
     "output_type": "execute_result"
    }
   ],
   "source": [
    "ri.head(1)"
   ]
  },
  {
   "cell_type": "code",
   "execution_count": 42,
   "metadata": {},
   "outputs": [],
   "source": [
    "ri[\"stop_datetime\"] = pd.to_datetime(ri.combined)"
   ]
  },
  {
   "cell_type": "code",
   "execution_count": 43,
   "metadata": {},
   "outputs": [
    {
     "data": {
      "text/plain": [
       "dtype('O')"
      ]
     },
     "execution_count": 43,
     "metadata": {},
     "output_type": "execute_result"
    }
   ],
   "source": [
    "ri.combined.dtype"
   ]
  },
  {
   "cell_type": "code",
   "execution_count": 46,
   "metadata": {},
   "outputs": [
    {
     "data": {
      "text/plain": [
       "dtype('<M8[ns]')"
      ]
     },
     "execution_count": 46,
     "metadata": {},
     "output_type": "execute_result"
    }
   ],
   "source": [
    "ri.stop_datetime.dtypes"
   ]
  },
  {
   "cell_type": "code",
   "execution_count": 47,
   "metadata": {},
   "outputs": [
    {
     "name": "stdout",
     "output_type": "stream",
     "text": [
      "<class 'pandas.core.frame.DataFrame'>\n",
      "Int64Index: 48010 entries, 0 to 49999\n",
      "Data columns (total 22 columns):\n",
      " #   Column              Non-Null Count  Dtype         \n",
      "---  ------              --------------  -----         \n",
      " 0   id                  48010 non-null  object        \n",
      " 1   stop_date           48010 non-null  object        \n",
      " 2   stop_time           48010 non-null  object        \n",
      " 3   location_raw        48010 non-null  object        \n",
      " 4   police_department   48010 non-null  object        \n",
      " 5   driver_gender       48010 non-null  object        \n",
      " 6   driver_age_raw      48010 non-null  float64       \n",
      " 7   driver_age          47778 non-null  float64       \n",
      " 8   driver_race_raw     48010 non-null  object        \n",
      " 9   driver_race         48010 non-null  object        \n",
      " 10  violation_raw       48010 non-null  object        \n",
      " 11  violation           48010 non-null  object        \n",
      " 12  search_conducted    48010 non-null  object        \n",
      " 13  contraband_found    48010 non-null  bool          \n",
      " 14  stop_outcome        48010 non-null  object        \n",
      " 15  is_arrested         48010 non-null  bool          \n",
      " 16  stop_duration       48010 non-null  object        \n",
      " 17  out_of_state        47795 non-null  object        \n",
      " 18  drugs_related_stop  48010 non-null  bool          \n",
      " 19  district            48010 non-null  object        \n",
      " 20  combined            48010 non-null  object        \n",
      " 21  stop_datetime       48010 non-null  datetime64[ns]\n",
      "dtypes: bool(3), datetime64[ns](1), float64(2), object(16)\n",
      "memory usage: 7.5+ MB\n"
     ]
    }
   ],
   "source": [
    "ri.info()"
   ]
  },
  {
   "cell_type": "code",
   "execution_count": 48,
   "metadata": {},
   "outputs": [],
   "source": [
    "ri.drop(columns=[\"stop_date\", \"stop_time\", \"combined\"], inplace=True)"
   ]
  },
  {
   "cell_type": "markdown",
   "metadata": {},
   "source": [
    "***"
   ]
  },
  {
   "cell_type": "markdown",
   "metadata": {
    "id": "UJoHwRVvwYiA"
   },
   "source": [
    "The last step that you'll take in this chapter is to set the ``stop_datetime`` column as the ``DataFrame``'s index. By replacing the default index with a ``DatetimeIndex``, you'll make it easier to analyze the dataset by date and time, which will come in handy later in the course."
   ]
  },
  {
   "cell_type": "markdown",
   "metadata": {
    "id": "01tck5-WwYiB"
   },
   "source": [
    "**INSTRUCTIONS**\n",
    "\n",
    "*   First check out the shape of the dataframe.\n",
    "*   Set ``stop_datetime`` as the ``DataFrame`` index.\n",
    "*   Examine the index to verify that it is a ``DatetimeIndex``.\n",
    "*   Check again the shape of the dataframe to confirm that ``stop_datetime`` is no longer one of the columns. \n",
    "*   Examine the ``DataFrame`` columns to confirm that ``stop_datetime`` is no longer one of the columns."
   ]
  },
  {
   "cell_type": "code",
   "execution_count": 49,
   "metadata": {},
   "outputs": [
    {
     "data": {
      "text/plain": [
       "(48010, 19)"
      ]
     },
     "execution_count": 49,
     "metadata": {},
     "output_type": "execute_result"
    }
   ],
   "source": [
    "ri.shape"
   ]
  },
  {
   "cell_type": "code",
   "execution_count": 50,
   "metadata": {},
   "outputs": [],
   "source": [
    "ri.set_index(\"stop_datetime\", inplace=True)"
   ]
  },
  {
   "cell_type": "code",
   "execution_count": 51,
   "metadata": {},
   "outputs": [
    {
     "data": {
      "text/plain": [
       "(48010, 18)"
      ]
     },
     "execution_count": 51,
     "metadata": {},
     "output_type": "execute_result"
    }
   ],
   "source": [
    "ri.shape"
   ]
  },
  {
   "cell_type": "code",
   "execution_count": 57,
   "metadata": {},
   "outputs": [],
   "source": [
    "ri.to_csv(\"RI_Part_1\", index_label=False)"
   ]
  },
  {
   "cell_type": "code",
   "execution_count": 59,
   "metadata": {},
   "outputs": [
    {
     "name": "stderr",
     "output_type": "stream",
     "text": [
      "C:\\Users\\user\\anaconda3\\lib\\site-packages\\IPython\\core\\interactiveshell.py:3444: DtypeWarning: Columns (3) have mixed types.Specify dtype option on import or set low_memory=False.\n",
      "  exec(code_obj, self.user_global_ns, self.user_ns)\n"
     ]
    }
   ],
   "source": [
    "df = pd.read_csv(\"RI_Part_1\")"
   ]
  },
  {
   "cell_type": "code",
   "execution_count": 60,
   "metadata": {},
   "outputs": [
    {
     "data": {
      "text/html": [
       "<div>\n",
       "<style scoped>\n",
       "    .dataframe tbody tr th:only-of-type {\n",
       "        vertical-align: middle;\n",
       "    }\n",
       "\n",
       "    .dataframe tbody tr th {\n",
       "        vertical-align: top;\n",
       "    }\n",
       "\n",
       "    .dataframe thead th {\n",
       "        text-align: right;\n",
       "    }\n",
       "</style>\n",
       "<table border=\"1\" class=\"dataframe\">\n",
       "  <thead>\n",
       "    <tr style=\"text-align: right;\">\n",
       "      <th></th>\n",
       "      <th>id</th>\n",
       "      <th>location_raw</th>\n",
       "      <th>police_department</th>\n",
       "      <th>driver_gender</th>\n",
       "      <th>driver_age_raw</th>\n",
       "      <th>driver_age</th>\n",
       "      <th>driver_race_raw</th>\n",
       "      <th>driver_race</th>\n",
       "      <th>violation_raw</th>\n",
       "      <th>violation</th>\n",
       "      <th>search_conducted</th>\n",
       "      <th>contraband_found</th>\n",
       "      <th>stop_outcome</th>\n",
       "      <th>is_arrested</th>\n",
       "      <th>stop_duration</th>\n",
       "      <th>out_of_state</th>\n",
       "      <th>drugs_related_stop</th>\n",
       "      <th>district</th>\n",
       "    </tr>\n",
       "  </thead>\n",
       "  <tbody>\n",
       "    <tr>\n",
       "      <th>2005-01-02 01:55:00</th>\n",
       "      <td>RI-2005-00001</td>\n",
       "      <td>Zone K1</td>\n",
       "      <td>600</td>\n",
       "      <td>M</td>\n",
       "      <td>1985.0</td>\n",
       "      <td>20.0</td>\n",
       "      <td>W</td>\n",
       "      <td>White</td>\n",
       "      <td>Speeding</td>\n",
       "      <td>Speeding</td>\n",
       "      <td>False</td>\n",
       "      <td>False</td>\n",
       "      <td>Citation</td>\n",
       "      <td>False</td>\n",
       "      <td>0-15 Min</td>\n",
       "      <td>False</td>\n",
       "      <td>False</td>\n",
       "      <td>Zone K1</td>\n",
       "    </tr>\n",
       "    <tr>\n",
       "      <th>2005-01-02 20:30:00</th>\n",
       "      <td>RI-2005-00002</td>\n",
       "      <td>Zone X4</td>\n",
       "      <td>500</td>\n",
       "      <td>M</td>\n",
       "      <td>1987.0</td>\n",
       "      <td>18.0</td>\n",
       "      <td>W</td>\n",
       "      <td>White</td>\n",
       "      <td>Speeding</td>\n",
       "      <td>Speeding</td>\n",
       "      <td>False</td>\n",
       "      <td>False</td>\n",
       "      <td>Citation</td>\n",
       "      <td>False</td>\n",
       "      <td>16-30 Min</td>\n",
       "      <td>False</td>\n",
       "      <td>False</td>\n",
       "      <td>Zone X4</td>\n",
       "    </tr>\n",
       "    <tr>\n",
       "      <th>2005-01-04 12:55:00</th>\n",
       "      <td>RI-2005-00004</td>\n",
       "      <td>Zone X4</td>\n",
       "      <td>500</td>\n",
       "      <td>M</td>\n",
       "      <td>1986.0</td>\n",
       "      <td>19.0</td>\n",
       "      <td>W</td>\n",
       "      <td>White</td>\n",
       "      <td>Equipment/Inspection Violation</td>\n",
       "      <td>Equipment</td>\n",
       "      <td>False</td>\n",
       "      <td>False</td>\n",
       "      <td>Citation</td>\n",
       "      <td>False</td>\n",
       "      <td>0-15 Min</td>\n",
       "      <td>False</td>\n",
       "      <td>False</td>\n",
       "      <td>Zone X4</td>\n",
       "    </tr>\n",
       "    <tr>\n",
       "      <th>2005-01-06 01:30:00</th>\n",
       "      <td>RI-2005-00005</td>\n",
       "      <td>Zone X4</td>\n",
       "      <td>500</td>\n",
       "      <td>M</td>\n",
       "      <td>1978.0</td>\n",
       "      <td>27.0</td>\n",
       "      <td>B</td>\n",
       "      <td>Black</td>\n",
       "      <td>Equipment/Inspection Violation</td>\n",
       "      <td>Equipment</td>\n",
       "      <td>False</td>\n",
       "      <td>False</td>\n",
       "      <td>Citation</td>\n",
       "      <td>False</td>\n",
       "      <td>0-15 Min</td>\n",
       "      <td>False</td>\n",
       "      <td>False</td>\n",
       "      <td>Zone X4</td>\n",
       "    </tr>\n",
       "    <tr>\n",
       "      <th>2005-01-12 08:05:00</th>\n",
       "      <td>RI-2005-00006</td>\n",
       "      <td>Zone X1</td>\n",
       "      <td>0</td>\n",
       "      <td>M</td>\n",
       "      <td>1973.0</td>\n",
       "      <td>32.0</td>\n",
       "      <td>B</td>\n",
       "      <td>Black</td>\n",
       "      <td>Call for Service</td>\n",
       "      <td>Other</td>\n",
       "      <td>False</td>\n",
       "      <td>False</td>\n",
       "      <td>Citation</td>\n",
       "      <td>False</td>\n",
       "      <td>30+ Min</td>\n",
       "      <td>True</td>\n",
       "      <td>False</td>\n",
       "      <td>Zone X1</td>\n",
       "    </tr>\n",
       "  </tbody>\n",
       "</table>\n",
       "</div>"
      ],
      "text/plain": [
       "                                id location_raw police_department  \\\n",
       "2005-01-02 01:55:00  RI-2005-00001      Zone K1               600   \n",
       "2005-01-02 20:30:00  RI-2005-00002      Zone X4               500   \n",
       "2005-01-04 12:55:00  RI-2005-00004      Zone X4               500   \n",
       "2005-01-06 01:30:00  RI-2005-00005      Zone X4               500   \n",
       "2005-01-12 08:05:00  RI-2005-00006      Zone X1                 0   \n",
       "\n",
       "                    driver_gender  driver_age_raw  driver_age driver_race_raw  \\\n",
       "2005-01-02 01:55:00             M          1985.0        20.0               W   \n",
       "2005-01-02 20:30:00             M          1987.0        18.0               W   \n",
       "2005-01-04 12:55:00             M          1986.0        19.0               W   \n",
       "2005-01-06 01:30:00             M          1978.0        27.0               B   \n",
       "2005-01-12 08:05:00             M          1973.0        32.0               B   \n",
       "\n",
       "                    driver_race                   violation_raw  violation  \\\n",
       "2005-01-02 01:55:00       White                        Speeding   Speeding   \n",
       "2005-01-02 20:30:00       White                        Speeding   Speeding   \n",
       "2005-01-04 12:55:00       White  Equipment/Inspection Violation  Equipment   \n",
       "2005-01-06 01:30:00       Black  Equipment/Inspection Violation  Equipment   \n",
       "2005-01-12 08:05:00       Black                Call for Service      Other   \n",
       "\n",
       "                     search_conducted  contraband_found stop_outcome  \\\n",
       "2005-01-02 01:55:00             False             False     Citation   \n",
       "2005-01-02 20:30:00             False             False     Citation   \n",
       "2005-01-04 12:55:00             False             False     Citation   \n",
       "2005-01-06 01:30:00             False             False     Citation   \n",
       "2005-01-12 08:05:00             False             False     Citation   \n",
       "\n",
       "                     is_arrested stop_duration out_of_state  \\\n",
       "2005-01-02 01:55:00        False      0-15 Min        False   \n",
       "2005-01-02 20:30:00        False     16-30 Min        False   \n",
       "2005-01-04 12:55:00        False      0-15 Min        False   \n",
       "2005-01-06 01:30:00        False      0-15 Min        False   \n",
       "2005-01-12 08:05:00        False       30+ Min         True   \n",
       "\n",
       "                     drugs_related_stop district  \n",
       "2005-01-02 01:55:00               False  Zone K1  \n",
       "2005-01-02 20:30:00               False  Zone X4  \n",
       "2005-01-04 12:55:00               False  Zone X4  \n",
       "2005-01-06 01:30:00               False  Zone X4  \n",
       "2005-01-12 08:05:00               False  Zone X1  "
      ]
     },
     "execution_count": 60,
     "metadata": {},
     "output_type": "execute_result"
    }
   ],
   "source": [
    "df.head()"
   ]
  },
  {
   "cell_type": "code",
   "execution_count": 61,
   "metadata": {},
   "outputs": [
    {
     "data": {
      "text/plain": [
       "(48010, 18)"
      ]
     },
     "execution_count": 61,
     "metadata": {},
     "output_type": "execute_result"
    }
   ],
   "source": [
    "df.shape"
   ]
  },
  {
   "cell_type": "code",
   "execution_count": 62,
   "metadata": {},
   "outputs": [
    {
     "name": "stdout",
     "output_type": "stream",
     "text": [
      "<class 'pandas.core.frame.DataFrame'>\n",
      "Index: 48010 entries, 2005-01-02 01:55:00 to 2006-08-08 23:00:00\n",
      "Data columns (total 18 columns):\n",
      " #   Column              Non-Null Count  Dtype  \n",
      "---  ------              --------------  -----  \n",
      " 0   id                  48010 non-null  object \n",
      " 1   location_raw        48010 non-null  object \n",
      " 2   police_department   48010 non-null  object \n",
      " 3   driver_gender       48010 non-null  object \n",
      " 4   driver_age_raw      48010 non-null  float64\n",
      " 5   driver_age          47778 non-null  float64\n",
      " 6   driver_race_raw     48010 non-null  object \n",
      " 7   driver_race         48010 non-null  object \n",
      " 8   violation_raw       48010 non-null  object \n",
      " 9   violation           48010 non-null  object \n",
      " 10  search_conducted    48010 non-null  bool   \n",
      " 11  contraband_found    48010 non-null  bool   \n",
      " 12  stop_outcome        48010 non-null  object \n",
      " 13  is_arrested         48010 non-null  bool   \n",
      " 14  stop_duration       48010 non-null  object \n",
      " 15  out_of_state        47795 non-null  object \n",
      " 16  drugs_related_stop  48010 non-null  bool   \n",
      " 17  district            48010 non-null  object \n",
      "dtypes: bool(4), float64(2), object(12)\n",
      "memory usage: 5.7+ MB\n"
     ]
    }
   ],
   "source": [
    "df.info()"
   ]
  },
  {
   "cell_type": "markdown",
   "metadata": {},
   "source": [
    "___\n",
    "\n",
    "<p style=\"text-align: center;\"><img src=\"https://docs.google.com/uc?id=1lY0Uj5R04yMY3-ZppPWxqCr5pvBLYPnV\" class=\"img-fluid\" alt=\"CLRSWY\"></p>\n",
    "\n",
    "___"
   ]
  },
  {
   "cell_type": "markdown",
   "metadata": {},
   "source": [
    "**- Please save the edits made so far to a new csv file with the name RI_Part_1 to use it in the next step.**\n",
    "\n",
    "**- Load and read new csv file.**\n",
    "\n",
    "**- Check the first five rows.***\n",
    "\n",
    "**- Check the shape of the dataframe.**"
   ]
  },
  {
   "cell_type": "code",
   "execution_count": null,
   "metadata": {},
   "outputs": [],
   "source": []
  }
 ],
 "metadata": {
  "colab": {
   "collapsed_sections": [],
   "include_colab_link": true,
   "name": "01 01_Preparing_The_Data_For_Analysis(Student-C8301-Sam).ipynb",
   "provenance": []
  },
  "kernelspec": {
   "display_name": "Python 3 (ipykernel)",
   "language": "python",
   "name": "python3"
  },
  "language_info": {
   "codemirror_mode": {
    "name": "ipython",
    "version": 3
   },
   "file_extension": ".py",
   "mimetype": "text/x-python",
   "name": "python",
   "nbconvert_exporter": "python",
   "pygments_lexer": "ipython3",
   "version": "3.9.7"
  }
 },
 "nbformat": 4,
 "nbformat_minor": 1
}
