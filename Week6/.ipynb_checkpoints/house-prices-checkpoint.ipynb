{
 "cells": [
  {
   "cell_type": "code",
   "execution_count": null,
   "metadata": {
    "execution": {
     "iopub.execute_input": "2022-06-10T23:07:26.560429Z",
     "iopub.status.busy": "2022-06-10T23:07:26.55981Z",
     "iopub.status.idle": "2022-06-10T23:07:26.59331Z",
     "shell.execute_reply": "2022-06-10T23:07:26.592504Z",
     "shell.execute_reply.started": "2022-06-10T23:07:26.560346Z"
    }
   },
   "outputs": [],
   "source": [
    "# This Python 3 environment comes with many helpful analytics libraries installed\n",
    "# It is defined by the kaggle/python Docker image: https://github.com/kaggle/docker-python\n",
    "# For example, here's several helpful packages to load\n",
    "\n",
    "import numpy as np # linear algebra\n",
    "import pandas as pd # data processing, CSV file I/O (e.g. pd.read_csv)\n",
    "\n",
    "# Input data files are available in the read-only \"../input/\" directory\n",
    "# For example, running this (by clicking run or pressing Shift+Enter) will list all files under the input directory\n",
    "\n",
    "import os\n",
    "for dirname, _, filenames in os.walk('/kaggle/input'):\n",
    "    for filename in filenames:\n",
    "        print(os.path.join(dirname, filename))\n",
    "\n",
    "# You can write up to 20GB to the current directory (/kaggle/working/) that gets preserved as output when you create a version using \"Save & Run All\" \n",
    "# You can also write temporary files to /kaggle/temp/, but they won't be saved outside of the current session"
   ]
  },
  {
   "cell_type": "markdown",
   "metadata": {},
   "source": [
    "# <font color='firebrick'> House Prices - Advanced Regression Techniques  </font>"
   ]
  },
  {
   "cell_type": "markdown",
   "metadata": {},
   "source": [
    "### Predict sales prices and practice feature engineering, RFs, and gradient boosting"
   ]
  },
  {
   "cell_type": "markdown",
   "metadata": {},
   "source": [
    "# <font color='goldenrod'> Introduction </font>"
   ]
  },
  {
   "cell_type": "markdown",
   "metadata": {},
   "source": [
    "### <font color='black'> Problem Description <font>"
   ]
  },
  {
   "cell_type": "markdown",
   "metadata": {},
   "source": [
    "This project is addressing factors which can influence price negotiations besides the number of bedrooms or a white-picket fence in the real estate realm.\n",
    "\n",
    "- Two types of dataset are provided: training data set and test data set. In fact, the training data set is the initial dataset we will use to teach our machine learning models to recognize patterns or to extract features that are relevant to this specific goal. while the test data set will be used to evaluate the model’s accuracy and to make prediction as well.\n",
    "\n",
    "- Both data sets we have at hand consist of 79 explanatory variables describing (almost) every aspect of residential homes in Ames and Iowa. See [Data](https://www.kaggle.com/competitions/house-prices-advanced-regression-techniques/data) for full description. \n",
    "\n",
    "- Our goal is to predict the final price of each home. That's, for each Id in the test data set, we want to predict the value of the SalePrice variable.\n",
    "\n",
    "- Personally, this project is timely in that a wide range of Machine Learning algorithms will be revisited including: Linear Regression, Rigide Regression, Lasso Regression, SVM, Random Forest Regression, XGBoost and so forth.\n",
    "\n",
    "- Finally, my major contribution to Kaggle's Community is all about some new approaches for conducting data analysis tasks based on a deep scientific thinking focused on the \"Why\" instead of only the \"How\"."
   ]
  },
  {
   "cell_type": "markdown",
   "metadata": {},
   "source": [
    "### <font color='black'> Step-by-Step Procedure <font>\n",
    "\n",
    "<font color='darkblue'> In order to tackle efficiently this project, we will follow the steps below suggested by [A. Qua](https://www.kaggle.com/adibouayjan). <front>\n",
    "    \n",
    "I.\tExplarotory data analysis\n",
    "    \n",
    "    I.1. General exploration\n",
    "\n",
    "    I.2. Numerical features\n",
    "        I.2.1. Explore and clean Numerical features\n",
    "        I.2.2. Missing data of Numerical features\n",
    "\n",
    "    I.3. Categorical features\n",
    "        I.3.1. Explore and clean Categorical features\n",
    "        I.3.2. Missing data of Categorical features\n",
    "        I.3.3. Transform Categorical features into Binary features (get_dummies)\n",
    "\n",
    "    I.4. Merge numerical and binary features into one data set\n",
    "    \n",
    "    I.5. Drop outliers from the train set\n",
    "\n",
    "II.\tFeature engineering\n",
    "\n",
    "III.\tPreparing data for modeling\n",
    "    \n",
    "    III.1. Split data into train and test and Standardization\n",
    "\n",
    "    III.2. Backward Stepwise Regression\n",
    "\n",
    "    III.3. Variance Inflation Factor\n",
    "\n",
    "    III.4. Cook distance\n",
    "\n",
    "IV.\tModeling\n",
    "\n",
    "    IV.1. Models and metrics selection\n",
    "\n",
    "    IV.2. Hyperparameters tuning and model optimization\n",
    "        IV.2.1. Ridge regression\n",
    "        IV.2.2. Lasso regression\n",
    "        IV.2.3. XGBoost regression\n",
    "        IV.2.4. LightGBM regression\n",
    "\n",
    "    IV.3. Choosing the best model\n",
    "\n",
    " V.\tPrediction"
   ]
  },
  {
   "cell_type": "markdown",
   "metadata": {},
   "source": [
    "# <font color='goldenrod'> I. Exploratory Data Analysis </font>"
   ]
  },
  {
   "cell_type": "markdown",
   "metadata": {},
   "source": [
    "These are the core parts of this session, based on the work of [Pedro Marcelino, Ph.D.](https://www.kaggle.com/code/pmarcelino/comprehensive-data-exploration-with-python/notebook): \n",
    "    \n",
    "* Understand the problem. We'll look at each variable and do a philosophical analysis about their meaning and importance for this problem.\n",
    "    \n",
    "* Univariable study. We'll just focus on the dependent variable ('SalePrice') and try to know a little bit more about it.\n",
    "    \n",
    "* Multivariate study. We'll try to understand how the dependent variable and independent variables relate.\n",
    "    \n",
    "* Basic cleaning. We'll clean the dataset and handle the missing data, outliers and categorical variables.\n",
    "    \n",
    "* Test assumptions. We'll check if our data meets the assumptions required by most multivariate techniques.\n"
   ]
  },
  {
   "cell_type": "markdown",
   "metadata": {},
   "source": [
    "### <font color='forestgreen'>  I.1. General Exploration <front>"
   ]
  },
  {
   "cell_type": "markdown",
   "metadata": {},
   "source": [
    "#### 1.1. Loading libraries"
   ]
  },
  {
   "cell_type": "code",
   "execution_count": null,
   "metadata": {
    "execution": {
     "iopub.execute_input": "2022-06-10T23:07:26.623638Z",
     "iopub.status.busy": "2022-06-10T23:07:26.623345Z",
     "iopub.status.idle": "2022-06-10T23:07:26.627804Z",
     "shell.execute_reply": "2022-06-10T23:07:26.627059Z",
     "shell.execute_reply.started": "2022-06-10T23:07:26.623613Z"
    }
   },
   "outputs": [],
   "source": [
    "import pandas as pd "
   ]
  },
  {
   "cell_type": "markdown",
   "metadata": {},
   "source": [
    "Pandas is a Python library for data analysis. Started by Wes McKinney in 2008 out of a need for a powerful and flexible quantitative analysis tool, pandas has grown into one of the most popular Python libraries. It has an extremely active community of contributors. \n",
    "Pandas features: \n",
    "\n",
    "* Times series Analysis\n",
    "* Split-Apply-Combine\n",
    "* Data visualisation\n",
    "* Pivot Table\n",
    "    \n",
    "See [Pandas](https://mode.com/python-tutorial/libraries/pandas/) for more details. "
   ]
  },
  {
   "cell_type": "code",
   "execution_count": null,
   "metadata": {
    "execution": {
     "iopub.execute_input": "2022-06-10T23:07:26.660136Z",
     "iopub.status.busy": "2022-06-10T23:07:26.659869Z",
     "iopub.status.idle": "2022-06-10T23:07:26.664679Z",
     "shell.execute_reply": "2022-06-10T23:07:26.663784Z",
     "shell.execute_reply.started": "2022-06-10T23:07:26.660112Z"
    }
   },
   "outputs": [],
   "source": [
    "import matplotlib.pyplot as plt\n",
    "from matplotlib import patches"
   ]
  },
  {
   "cell_type": "markdown",
   "metadata": {},
   "source": [
    "Matplotlib is a python library used to create 2D graphs and plots by using python scripts. It has a module named pyplot which makes things easy for plotting by providing feature to control line styles, font properties, formatting axes etc. It supports a very wide variety of graphs and plots namely - histogram, bar charts, power spectra, error charts etc. \n",
    "\n",
    "See [Matplotlib](https://matplotlib.org) for more details. "
   ]
  },
  {
   "cell_type": "code",
   "execution_count": null,
   "metadata": {
    "execution": {
     "iopub.execute_input": "2022-06-10T23:07:26.667433Z",
     "iopub.status.busy": "2022-06-10T23:07:26.666768Z",
     "iopub.status.idle": "2022-06-10T23:07:27.733852Z",
     "shell.execute_reply": "2022-06-10T23:07:27.733066Z",
     "shell.execute_reply.started": "2022-06-10T23:07:26.667393Z"
    }
   },
   "outputs": [],
   "source": [
    "import seaborn as sns"
   ]
  },
  {
   "cell_type": "markdown",
   "metadata": {},
   "source": [
    "Seaborn is a Python data visualization library based on matplotlib. It provides a high-level interface for drawing attractive and informative statistical graphics.\n",
    "\n",
    "See [Seaborn](https://seaborn.pydata.org) for more details. "
   ]
  },
  {
   "cell_type": "code",
   "execution_count": null,
   "metadata": {
    "execution": {
     "iopub.execute_input": "2022-06-10T23:07:27.74347Z",
     "iopub.status.busy": "2022-06-10T23:07:27.740078Z",
     "iopub.status.idle": "2022-06-10T23:07:27.750357Z",
     "shell.execute_reply": "2022-06-10T23:07:27.74933Z",
     "shell.execute_reply.started": "2022-06-10T23:07:27.743431Z"
    }
   },
   "outputs": [],
   "source": [
    "import numpy as np"
   ]
  },
  {
   "cell_type": "markdown",
   "metadata": {},
   "source": [
    "NumPy brings the computational power of languages like C and Fortran to Python. With this power comes simplicity: a solution in NumPy is often clear and elegant.\n",
    "\n",
    "See [NumPy](https://numpy.org) for more details. "
   ]
  },
  {
   "cell_type": "code",
   "execution_count": null,
   "metadata": {
    "execution": {
     "iopub.execute_input": "2022-06-10T23:07:27.754447Z",
     "iopub.status.busy": "2022-06-10T23:07:27.753452Z",
     "iopub.status.idle": "2022-06-10T23:07:27.762043Z",
     "shell.execute_reply": "2022-06-10T23:07:27.761244Z",
     "shell.execute_reply.started": "2022-06-10T23:07:27.754408Z"
    }
   },
   "outputs": [],
   "source": [
    "import warnings"
   ]
  },
  {
   "cell_type": "markdown",
   "metadata": {},
   "source": [
    "Warnings are provided to warn the developer of situations that aren’t necessarily exceptions. Usually, a warning occurs when there is some obsolete of certain programming elements, such as keyword, function or class, etc. A warning in a program is distinct from an error. Python program terminates immediately if an error occurs. \n",
    "\n",
    "Conversely, a warning is not critical. It shows some message, but the program runs. The warn() function defined in the ‘warning‘ module is used to show warning messages. The warning module is actually a subclass of Exception which is a built-in class in Python. \n",
    "\n",
    "See [Warning](https://docs.python.org/3/library/warnings.html) for more details. "
   ]
  },
  {
   "cell_type": "code",
   "execution_count": null,
   "metadata": {
    "execution": {
     "iopub.execute_input": "2022-06-10T23:07:27.767961Z",
     "iopub.status.busy": "2022-06-10T23:07:27.766156Z",
     "iopub.status.idle": "2022-06-10T23:07:28.425618Z",
     "shell.execute_reply": "2022-06-10T23:07:28.424768Z",
     "shell.execute_reply.started": "2022-06-10T23:07:27.767923Z"
    }
   },
   "outputs": [],
   "source": [
    "import statsmodels.api as sm #Cross-sectional models and methods.\n",
    "import statsmodels.formula.api as smf #A convenience interface for specifying models using formula strings and DataFrames."
   ]
  },
  {
   "cell_type": "markdown",
   "metadata": {},
   "source": [
    "Statsmodels is a Python module that provides classes and functions for the estimation of many different statistical models, as well as for conducting statistical tests, and statistical data exploration.\n",
    "\n",
    "See [Statsmodels](https://www.statsmodels.org/stable/index.html) for more details. "
   ]
  },
  {
   "cell_type": "code",
   "execution_count": null,
   "metadata": {
    "execution": {
     "iopub.execute_input": "2022-06-10T23:07:28.427532Z",
     "iopub.status.busy": "2022-06-10T23:07:28.42666Z",
     "iopub.status.idle": "2022-06-10T23:07:28.434619Z",
     "shell.execute_reply": "2022-06-10T23:07:28.433482Z",
     "shell.execute_reply.started": "2022-06-10T23:07:28.427494Z"
    }
   },
   "outputs": [],
   "source": [
    "from statsmodels.stats.outliers_influence import variance_inflation_factor"
   ]
  },
  {
   "cell_type": "markdown",
   "metadata": {},
   "source": [
    "The variance inflation factor is a measure for the increase of the variance of the parameter estimates if an additional variable, given by exog_idx is added to the linear regression. It is a measure for multicollinearity of the design matrix, exog.\n",
    "\n",
    "One recommendation is that if VIF is greater than 5, then the explanatory variable given by exog_idx is highly collinear with the other explanatory variables, and the parameter estimates will have large standard errors because of this."
   ]
  },
  {
   "cell_type": "code",
   "execution_count": null,
   "metadata": {
    "execution": {
     "iopub.execute_input": "2022-06-10T23:07:28.436691Z",
     "iopub.status.busy": "2022-06-10T23:07:28.436237Z",
     "iopub.status.idle": "2022-06-10T23:07:28.475965Z",
     "shell.execute_reply": "2022-06-10T23:07:28.475178Z",
     "shell.execute_reply.started": "2022-06-10T23:07:28.436633Z"
    }
   },
   "outputs": [],
   "source": [
    "import sklearn"
   ]
  },
  {
   "cell_type": "markdown",
   "metadata": {},
   "source": [
    "Scikit-learn (Sklearn) is the most useful and robust library for machine learning in Python. It provides a selection of efficient tools for machine learning and statistical modeling including classification, regression, clustering and dimensionality reduction via a consistence interface in Python. This library, which is largely written in Python, is built upon NumPy, SciPy and Matplotlib.\n",
    "\n",
    "See [Sckit-learn](https://www.tutorialspoint.com/scikit_learn/index.htm) for more details. "
   ]
  },
  {
   "cell_type": "code",
   "execution_count": null,
   "metadata": {
    "execution": {
     "iopub.execute_input": "2022-06-10T23:07:28.477868Z",
     "iopub.status.busy": "2022-06-10T23:07:28.477593Z",
     "iopub.status.idle": "2022-06-10T23:07:28.637408Z",
     "shell.execute_reply": "2022-06-10T23:07:28.63664Z",
     "shell.execute_reply.started": "2022-06-10T23:07:28.477838Z"
    }
   },
   "outputs": [],
   "source": [
    "# Function to deal with missing values via imputation\n",
    "from sklearn.impute import SimpleImputer"
   ]
  },
  {
   "cell_type": "code",
   "execution_count": null,
   "metadata": {
    "execution": {
     "iopub.execute_input": "2022-06-10T23:07:28.639126Z",
     "iopub.status.busy": "2022-06-10T23:07:28.638775Z",
     "iopub.status.idle": "2022-06-10T23:07:28.643354Z",
     "shell.execute_reply": "2022-06-10T23:07:28.64261Z",
     "shell.execute_reply.started": "2022-06-10T23:07:28.639091Z"
    }
   },
   "outputs": [],
   "source": [
    "# Function that converts categorical values into numerical values via ordinal encoding or one-hot encoding\n",
    "from sklearn.preprocessing import OrdinalEncoder\n",
    "from sklearn.preprocessing import OneHotEncoder\n",
    "from sklearn.preprocessing import StandardScaler"
   ]
  },
  {
   "cell_type": "code",
   "execution_count": null,
   "metadata": {
    "execution": {
     "iopub.execute_input": "2022-06-10T23:07:28.645586Z",
     "iopub.status.busy": "2022-06-10T23:07:28.64496Z",
     "iopub.status.idle": "2022-06-10T23:07:28.661365Z",
     "shell.execute_reply": "2022-06-10T23:07:28.660631Z",
     "shell.execute_reply.started": "2022-06-10T23:07:28.645549Z"
    }
   },
   "outputs": [],
   "source": [
    "# Function to split data into different groups\n",
    "from sklearn.model_selection import train_test_split\n",
    "from sklearn.model_selection import cross_val_score\n",
    "from sklearn.model_selection import GridSearchCV\n",
    "from sklearn.feature_selection import VarianceThreshold\n"
   ]
  },
  {
   "cell_type": "code",
   "execution_count": null,
   "metadata": {
    "execution": {
     "iopub.execute_input": "2022-06-10T23:07:28.666049Z",
     "iopub.status.busy": "2022-06-10T23:07:28.665606Z",
     "iopub.status.idle": "2022-06-10T23:07:28.672428Z",
     "shell.execute_reply": "2022-06-10T23:07:28.671674Z",
     "shell.execute_reply.started": "2022-06-10T23:07:28.666021Z"
    }
   },
   "outputs": [],
   "source": [
    "# Statistics functions\n",
    "from scipy.stats import norm\n",
    "from scipy import stats\n",
    "from scipy.stats import chi2_contingency\n",
    "from scipy.stats import chi2"
   ]
  },
  {
   "cell_type": "markdown",
   "metadata": {},
   "source": [
    "SciPy is a scientific computation library that uses NumPy underneath. SciPy stands for Scientific Python. It provides more utility functions for optimization, stats and signal processing. Like NumPy, SciPy is open source so we can use it freely. SciPy was created by NumPy's creator Travis Olliphant.\n",
    "\n",
    "See [SciPy](https://scipy.org) for further details. "
   ]
  },
  {
   "cell_type": "code",
   "execution_count": null,
   "metadata": {
    "execution": {
     "iopub.execute_input": "2022-06-10T23:07:28.675985Z",
     "iopub.status.busy": "2022-06-10T23:07:28.675635Z",
     "iopub.status.idle": "2022-06-10T23:07:28.684878Z",
     "shell.execute_reply": "2022-06-10T23:07:28.68408Z",
     "shell.execute_reply.started": "2022-06-10T23:07:28.675941Z"
    }
   },
   "outputs": [],
   "source": [
    "# Suppressing a warning \n",
    "warnings.filterwarnings(\"ignore\") \n",
    "\n",
    "# It is a magic function that renders the figure in the notebook\n",
    "%matplotlib inline \n",
    "\n",
    "# Changing the figure size of a seaborn axes \n",
    "sns.set(rc={\"figure.figsize\": (20, 15)})\n",
    "\n",
    "# The style parameters control properties like the color of the background and whether a grid is enabled by default.\n",
    "sns.set_style(\"whitegrid\")"
   ]
  },
  {
   "cell_type": "markdown",
   "metadata": {},
   "source": [
    "#### 1.2. Loading the Data sets "
   ]
  },
  {
   "cell_type": "code",
   "execution_count": null,
   "metadata": {
    "execution": {
     "iopub.execute_input": "2022-06-10T23:07:28.686181Z",
     "iopub.status.busy": "2022-06-10T23:07:28.685862Z",
     "iopub.status.idle": "2022-06-10T23:07:28.740168Z",
     "shell.execute_reply": "2022-06-10T23:07:28.738989Z",
     "shell.execute_reply.started": "2022-06-10T23:07:28.686155Z"
    },
    "scrolled": true
   },
   "outputs": [],
   "source": [
    "# Train set\n",
    "df_train = pd.read_csv(\"/kaggle/input/house-prices-advanced-regression-techniques/train.csv\")\n",
    "\n",
    "# Printing the Training set\n",
    "print(df_train)\n",
    " \n",
    "# Checking the dimensions of this dataset\n",
    "print(df_train.shape)"
   ]
  },
  {
   "cell_type": "code",
   "execution_count": null,
   "metadata": {
    "execution": {
     "iopub.execute_input": "2022-06-10T23:07:28.742378Z",
     "iopub.status.busy": "2022-06-10T23:07:28.742031Z",
     "iopub.status.idle": "2022-06-10T23:07:28.747017Z",
     "shell.execute_reply": "2022-06-10T23:07:28.746055Z",
     "shell.execute_reply.started": "2022-06-10T23:07:28.742343Z"
    }
   },
   "outputs": [],
   "source": [
    "# Using f-string \n",
    "print(f\"Train set shape: {df_train.shape} \\n\")"
   ]
  },
  {
   "cell_type": "code",
   "execution_count": null,
   "metadata": {
    "execution": {
     "iopub.execute_input": "2022-06-10T23:07:28.749484Z",
     "iopub.status.busy": "2022-06-10T23:07:28.748702Z",
     "iopub.status.idle": "2022-06-10T23:07:28.783663Z",
     "shell.execute_reply": "2022-06-10T23:07:28.782865Z",
     "shell.execute_reply.started": "2022-06-10T23:07:28.749441Z"
    },
    "scrolled": true
   },
   "outputs": [],
   "source": [
    "# Test set\n",
    "df_test = pd.read_csv(\"/kaggle/input/house-prices-advanced-regression-techniques/test.csv\")\n",
    "\n",
    "# Printing the Training set\n",
    "#print(df_test)\n",
    "\n",
    "# Checking the dimensions of this dataset\n",
    "#print(df_test.shape)\n",
    "\n",
    "#df_test.head()"
   ]
  },
  {
   "cell_type": "code",
   "execution_count": null,
   "metadata": {
    "execution": {
     "iopub.execute_input": "2022-06-10T23:07:28.785518Z",
     "iopub.status.busy": "2022-06-10T23:07:28.785147Z",
     "iopub.status.idle": "2022-06-10T23:07:28.790149Z",
     "shell.execute_reply": "2022-06-10T23:07:28.789197Z",
     "shell.execute_reply.started": "2022-06-10T23:07:28.785483Z"
    }
   },
   "outputs": [],
   "source": [
    "# Using f-string \n",
    "print(f\"Train set shape: {df_test.shape} \\n\")"
   ]
  },
  {
   "cell_type": "markdown",
   "metadata": {},
   "source": [
    "* Firstly, the training set and the test set have the same sample size. \n",
    "\n",
    "* Secondly, tt's worth noticing that the test set contains one veraible less than the training set. Obviously, we might suspect that this variable is \"SalePrice\" since our purpose is to predict its value based on the test set. Consequently, our training set is a lebeled one setting up a supervised learning framework. \n",
    "\n",
    "* Finally, the raw data displayed reveals that there are some quasi-constant Features: One of the values is dominant. No worries, we will certainly tackle this issue later on while processing numerical features. \n",
    "\n",
    "But at this point, let's check the second claim using the commands below."
   ]
  },
  {
   "cell_type": "code",
   "execution_count": null,
   "metadata": {
    "execution": {
     "iopub.execute_input": "2022-06-10T23:07:28.792455Z",
     "iopub.status.busy": "2022-06-10T23:07:28.791666Z",
     "iopub.status.idle": "2022-06-10T23:07:28.800552Z",
     "shell.execute_reply": "2022-06-10T23:07:28.799557Z",
     "shell.execute_reply.started": "2022-06-10T23:07:28.792375Z"
    },
    "scrolled": true
   },
   "outputs": [],
   "source": [
    "# Checking if column headings are the same in both data set\n",
    "dif_1 = [x for x in df_train.columns if x not in df_test.columns]\n",
    "print(f\"Columns present in df_train and absent in df_test: {dif_1}\\n\")\n",
    "\n",
    "dif_2 = [x for x in df_test.columns if x not in df_train.columns]\n",
    "print(f\"Columns present in df_test set and absent in df_train: {dif_2}\")"
   ]
  },
  {
   "cell_type": "markdown",
   "metadata": {},
   "source": [
    "#### 1.3. Checking for missing data"
   ]
  },
  {
   "cell_type": "code",
   "execution_count": null,
   "metadata": {
    "execution": {
     "iopub.execute_input": "2022-06-10T23:07:28.802966Z",
     "iopub.status.busy": "2022-06-10T23:07:28.802198Z",
     "iopub.status.idle": "2022-06-10T23:07:28.834356Z",
     "shell.execute_reply": "2022-06-10T23:07:28.833416Z",
     "shell.execute_reply.started": "2022-06-10T23:07:28.802927Z"
    }
   },
   "outputs": [],
   "source": [
    "# info of each of the variables in our train set\n",
    "df_train.info()"
   ]
  },
  {
   "cell_type": "code",
   "execution_count": null,
   "metadata": {
    "execution": {
     "iopub.execute_input": "2022-06-10T23:07:28.836032Z",
     "iopub.status.busy": "2022-06-10T23:07:28.835625Z",
     "iopub.status.idle": "2022-06-10T23:07:28.860378Z",
     "shell.execute_reply": "2022-06-10T23:07:28.859591Z",
     "shell.execute_reply.started": "2022-06-10T23:07:28.835996Z"
    }
   },
   "outputs": [],
   "source": [
    "# info of each of the variables in our train set\n",
    "df_test.info()"
   ]
  },
  {
   "cell_type": "markdown",
   "metadata": {},
   "source": [
    "The main information arising from this output is that there are unfortunately some missing data in both sets including the training and the test samples, counted as null values. Fortunately, processing missing data is part of this preliminary work of the precedure stated right from the beginning. "
   ]
  },
  {
   "cell_type": "markdown",
   "metadata": {},
   "source": [
    "The chunk of instructions below is intended to cut the column relating to the house identifictaio off the training set and keep it aside. In fact, it's not a relevant feature needed to conduct the upcoming steps of the analysis. It's a designation variable we will use to present the final result as requested.   "
   ]
  },
  {
   "cell_type": "code",
   "execution_count": null,
   "metadata": {
    "execution": {
     "iopub.execute_input": "2022-06-10T23:07:28.861906Z",
     "iopub.status.busy": "2022-06-10T23:07:28.861532Z",
     "iopub.status.idle": "2022-06-10T23:07:28.871391Z",
     "shell.execute_reply": "2022-06-10T23:07:28.870301Z",
     "shell.execute_reply.started": "2022-06-10T23:07:28.86187Z"
    }
   },
   "outputs": [],
   "source": [
    "# Drop the 'Id' column from the train set\n",
    "df_train.drop([\"Id\"], axis=1, inplace=True)\n",
    "\n",
    "# Save the list of 'Id' before dropping it from the test set\n",
    "Id_test_list = df_test[\"Id\"].tolist()\n",
    "df_test.drop([\"Id\"], axis=1, inplace=True)"
   ]
  },
  {
   "cell_type": "markdown",
   "metadata": {},
   "source": [
    "### <font color='forestgreen'>  I.2. Numerical Feature <front>"
   ]
  },
  {
   "cell_type": "markdown",
   "metadata": {},
   "source": [
    "### <font color='darkblue'>I.2.1. Exploring and cleaning numerical features</font>"
   ]
  },
  {
   "cell_type": "markdown",
   "metadata": {},
   "source": [
    "#### 1.2.1.1. Extracting Nnumerical features"
   ]
  },
  {
   "cell_type": "markdown",
   "metadata": {},
   "source": [
    "The first address of this subsection is about isolating the culumns with numerical values from the whole training dataset. The lines of code underneath fulfill this task.  "
   ]
  },
  {
   "cell_type": "code",
   "execution_count": null,
   "metadata": {
    "execution": {
     "iopub.execute_input": "2022-06-10T23:07:28.873796Z",
     "iopub.status.busy": "2022-06-10T23:07:28.873022Z",
     "iopub.status.idle": "2022-06-10T23:07:28.902911Z",
     "shell.execute_reply": "2022-06-10T23:07:28.90207Z",
     "shell.execute_reply.started": "2022-06-10T23:07:28.873753Z"
    },
    "scrolled": true
   },
   "outputs": [],
   "source": [
    "df_train_num = df_train.select_dtypes(exclude=[\"object\"])\n",
    "df_train_num.head()"
   ]
  },
  {
   "cell_type": "markdown",
   "metadata": {},
   "source": [
    "Hence, we have 38 numerical independent variables all told in the training set. "
   ]
  },
  {
   "cell_type": "markdown",
   "metadata": {},
   "source": [
    "We can also use this alternative command leading to the same result. "
   ]
  },
  {
   "cell_type": "code",
   "execution_count": null,
   "metadata": {
    "execution": {
     "iopub.execute_input": "2022-06-10T23:07:28.904584Z",
     "iopub.status.busy": "2022-06-10T23:07:28.904199Z",
     "iopub.status.idle": "2022-06-10T23:07:28.925098Z",
     "shell.execute_reply": "2022-06-10T23:07:28.924089Z",
     "shell.execute_reply.started": "2022-06-10T23:07:28.904543Z"
    },
    "scrolled": true
   },
   "outputs": [],
   "source": [
    "df_train_num = df_train.select_dtypes(include=[np.number])\n",
    "df_train_num.head()"
   ]
  },
  {
   "cell_type": "markdown",
   "metadata": {},
   "source": [
    "We do the same thing with the test set. "
   ]
  },
  {
   "cell_type": "code",
   "execution_count": null,
   "metadata": {
    "execution": {
     "iopub.execute_input": "2022-06-10T23:07:28.927632Z",
     "iopub.status.busy": "2022-06-10T23:07:28.926793Z",
     "iopub.status.idle": "2022-06-10T23:07:28.957526Z",
     "shell.execute_reply": "2022-06-10T23:07:28.956665Z",
     "shell.execute_reply.started": "2022-06-10T23:07:28.927587Z"
    },
    "scrolled": true
   },
   "outputs": [],
   "source": [
    "df_test_num = df_test.select_dtypes(include=[np.number])\n",
    "df_test_num.head()"
   ]
  },
  {
   "cell_type": "markdown",
   "metadata": {},
   "source": [
    "Hence, we have 36 numerical independent variables all told in the training set. "
   ]
  },
  {
   "cell_type": "markdown",
   "metadata": {},
   "source": [
    "#### 1.2.1.2. Features distribution"
   ]
  },
  {
   "cell_type": "markdown",
   "metadata": {},
   "source": [
    "While there are a number of distributional assumptions in regression models, one distribution that has no assumptions is that of any predictor (i.e. independent) variables.\n",
    "\n",
    "However, it is sometime useful to understand the distribution of predictor variables to find influential outliers or concentrated values. Then, a highly skewed independent variable may be made more symmetric with a transformation. Then, it makes sense to think of a predictor as random. \n",
    "\n",
    "This is called Type II regression or Major Axis regression."
   ]
  },
  {
   "cell_type": "markdown",
   "metadata": {},
   "source": [
    "So let's look at the distribution of our two samples at hand. "
   ]
  },
  {
   "cell_type": "code",
   "execution_count": null,
   "metadata": {
    "execution": {
     "iopub.execute_input": "2022-06-10T23:07:28.959227Z",
     "iopub.status.busy": "2022-06-10T23:07:28.958898Z",
     "iopub.status.idle": "2022-06-10T23:07:39.012401Z",
     "shell.execute_reply": "2022-06-10T23:07:39.011633Z",
     "shell.execute_reply.started": "2022-06-10T23:07:28.959201Z"
    }
   },
   "outputs": [],
   "source": [
    "fig_ = df_train_num.hist(figsize=(25, 30), bins=50, color=\"darkcyan\", edgecolor=\"black\", xlabelsize=8, ylabelsize=8)"
   ]
  },
  {
   "cell_type": "code",
   "execution_count": null,
   "metadata": {
    "execution": {
     "iopub.execute_input": "2022-06-10T23:07:39.013945Z",
     "iopub.status.busy": "2022-06-10T23:07:39.013529Z",
     "iopub.status.idle": "2022-06-10T23:07:47.179311Z",
     "shell.execute_reply": "2022-06-10T23:07:47.17857Z",
     "shell.execute_reply.started": "2022-06-10T23:07:39.013914Z"
    },
    "scrolled": true
   },
   "outputs": [],
   "source": [
    "fig_ = df_test_num.hist(figsize=(25, 30), bins=50, color=\"brown\", edgecolor=\"black\", xlabelsize=8, ylabelsize=8)"
   ]
  },
  {
   "cell_type": "markdown",
   "metadata": {},
   "source": [
    "Without a shadow of doubt, we can assert that both samples of interest come from the same population. Sweet! "
   ]
  },
  {
   "cell_type": "markdown",
   "metadata": {},
   "source": [
    "#### 1.2.1.3. Quasi-Constant variables"
   ]
  },
  {
   "cell_type": "markdown",
   "metadata": {},
   "source": [
    "From the latter window of distributions, it is clearly noticeable that some features have pervasive values. The models we are about to train won’t learn anything insightful by keeping this feature in training set. So we are better off dropping this feature.\n",
    "\n",
    "Let's drop quasi-constant features where 95% of the values are similar or constant. Check out [sklearn.feature_selection.VarianceThreshold](https://scikit-learn.org/stable/modules/generated/sklearn.feature_selection.VarianceThreshold.html) for a better understanding of the process followed below. "
   ]
  },
  {
   "cell_type": "code",
   "execution_count": null,
   "metadata": {
    "execution": {
     "iopub.execute_input": "2022-06-10T23:07:47.181262Z",
     "iopub.status.busy": "2022-06-10T23:07:47.180711Z",
     "iopub.status.idle": "2022-06-10T23:07:47.189463Z",
     "shell.execute_reply": "2022-06-10T23:07:47.188671Z",
     "shell.execute_reply.started": "2022-06-10T23:07:47.181222Z"
    }
   },
   "outputs": [],
   "source": [
    "# Displaying a specific colunm\n",
    "df_train_num[:]['EnclosedPorch']"
   ]
  },
  {
   "cell_type": "code",
   "execution_count": null,
   "metadata": {
    "execution": {
     "iopub.execute_input": "2022-06-10T23:07:47.191498Z",
     "iopub.status.busy": "2022-06-10T23:07:47.190926Z",
     "iopub.status.idle": "2022-06-10T23:07:47.21751Z",
     "shell.execute_reply": "2022-06-10T23:07:47.216758Z",
     "shell.execute_reply.started": "2022-06-10T23:07:47.191459Z"
    }
   },
   "outputs": [],
   "source": [
    "sel = VarianceThreshold(threshold=0.05) # 0.05: drop column where 95% of the values are constant\n",
    "\n",
    "# fit finds the features with constant variance\n",
    "sel.fit(df_train_num.iloc[:, :-1])\n",
    "\n",
    "\n",
    "# Get the number of features that are not constant\n",
    "print(f\"Number of retained features: {sum(sel.get_support())}\")\n",
    "\n",
    "print(f\"\\nNumber of quasi_constant features: {len(df_train_num.iloc[:, :-1].columns) - sum(sel.get_support())}\")\n",
    "\n",
    "quasi_constant_features_list = [x for x in df_train_num.iloc[:, :-1].columns if x not in df_train_num.iloc[:, :-1].columns[sel.get_support()]]\n",
    "\n",
    "print(f\"\\nQuasi-constant features to be dropped: {quasi_constant_features_list}\")\n",
    "\n",
    "# Let's drop these columns from df_train_num\n",
    "df_train_num.drop(quasi_constant_features_list, axis=1, inplace=True)"
   ]
  },
  {
   "cell_type": "code",
   "execution_count": null,
   "metadata": {
    "execution": {
     "iopub.execute_input": "2022-06-10T23:07:47.219344Z",
     "iopub.status.busy": "2022-06-10T23:07:47.218812Z",
     "iopub.status.idle": "2022-06-10T23:07:47.223995Z",
     "shell.execute_reply": "2022-06-10T23:07:47.222894Z",
     "shell.execute_reply.started": "2022-06-10T23:07:47.219297Z"
    },
    "scrolled": true
   },
   "outputs": [],
   "source": [
    "# Checking the dimensions of the set obtained\n",
    "print(df_train_num.shape)"
   ]
  },
  {
   "cell_type": "code",
   "execution_count": null,
   "metadata": {
    "execution": {
     "iopub.execute_input": "2022-06-10T23:07:47.231826Z",
     "iopub.status.busy": "2022-06-10T23:07:47.231348Z",
     "iopub.status.idle": "2022-06-10T23:07:47.254382Z",
     "shell.execute_reply": "2022-06-10T23:07:47.253654Z",
     "shell.execute_reply.started": "2022-06-10T23:07:47.231801Z"
    }
   },
   "outputs": [],
   "source": [
    "sel = VarianceThreshold(threshold=0.05) # 0.05: drop column where 95% of the values are constant\n",
    "\n",
    "# fit finds the features with constant variance\n",
    "sel.fit(df_test_num.iloc[:, :-1])\n",
    "\n",
    "\n",
    "# Get the number of features that are not constant\n",
    "print(f\"Number of retained features: {sum(sel.get_support())}\")\n",
    "\n",
    "print(f\"\\nNumber of quasi_constant features: {len(df_test_num.iloc[:, :-1].columns) - sum(sel.get_support())}\")\n",
    "\n",
    "quasi_constant_features_list = [x for x in df_test_num.iloc[:, :-1].columns if x not in df_test_num.iloc[:, :-1].columns[sel.get_support()]]\n",
    "\n",
    "print(f\"\\nQuasi-constant features to be dropped: {quasi_constant_features_list}\")\n",
    "\n",
    "# Let's drop these columns from df_train_num\n",
    "df_test_num.drop(quasi_constant_features_list, axis=1, inplace=True)"
   ]
  },
  {
   "cell_type": "code",
   "execution_count": null,
   "metadata": {
    "execution": {
     "iopub.execute_input": "2022-06-10T23:07:47.256022Z",
     "iopub.status.busy": "2022-06-10T23:07:47.255489Z",
     "iopub.status.idle": "2022-06-10T23:07:47.260548Z",
     "shell.execute_reply": "2022-06-10T23:07:47.259765Z",
     "shell.execute_reply.started": "2022-06-10T23:07:47.255987Z"
    }
   },
   "outputs": [],
   "source": [
    "# Checking the dimensions of the set obtained\n",
    "print(df_test_num.shape)"
   ]
  },
  {
   "cell_type": "markdown",
   "metadata": {},
   "source": [
    "#### 1.2.1.4. Scatterplot"
   ]
  },
  {
   "cell_type": "markdown",
   "metadata": {},
   "source": [
    "A straightforward and widely used vizualisation technique for accessing the relationship between two or more variables is the scatterplot. \n",
    "\n",
    "In fact, scatterplots show possible associations or relationships between two variables. However, just because your graph or chart shows something is going on, it doesn’t mean that a cause-and-effect relationship exists. So we better be careful with how we interpret the graphs obtained.  \n",
    "\n",
    "Furthermore, a scatterplot can be used to assess the following features of your dataset:\n",
    "\n",
    "* Check for outliers and unusual observations.\n",
    "* Create a time series plot with irregular time-dependent data.\n",
    "* Evaluate the fit of a regression model."
   ]
  },
  {
   "cell_type": "markdown",
   "metadata": {},
   "source": [
    "#### 1.2.1.4.1.  Relationship Assessment"
   ]
  },
  {
   "cell_type": "code",
   "execution_count": null,
   "metadata": {
    "execution": {
     "iopub.execute_input": "2022-06-10T23:07:47.263076Z",
     "iopub.status.busy": "2022-06-10T23:07:47.261909Z",
     "iopub.status.idle": "2022-06-10T23:07:47.271269Z",
     "shell.execute_reply": "2022-06-10T23:07:47.270416Z",
     "shell.execute_reply.started": "2022-06-10T23:07:47.263038Z"
    }
   },
   "outputs": [],
   "source": [
    "# Extracting column names as a list\n",
    "# cols = list (df_train_num.columns)\n",
    "# cols"
   ]
  },
  {
   "cell_type": "code",
   "execution_count": null,
   "metadata": {
    "execution": {
     "iopub.execute_input": "2022-06-10T23:07:47.273099Z",
     "iopub.status.busy": "2022-06-10T23:07:47.272528Z",
     "iopub.status.idle": "2022-06-10T23:07:59.893312Z",
     "shell.execute_reply": "2022-06-10T23:07:59.892171Z",
     "shell.execute_reply.started": "2022-06-10T23:07:47.27306Z"
    }
   },
   "outputs": [],
   "source": [
    "fig = plt.figure(figsize=(30,50))\n",
    "plt.subplots_adjust(left=0.1,\n",
    "                    bottom=0.1,\n",
    "                    right=0.9,\n",
    "                    top=1.9,\n",
    "                    wspace=0.3,\n",
    "                    hspace=0.5)\n",
    "for i, col in enumerate(df_train_num.columns):\n",
    "        plt.subplot(15,3,i+1)\n",
    "        sns.regplot(x=col, y= \"SalePrice\", data=df_train_num, scatter_kws={\"color\": \"darkslateblue\"}, line_kws={\"color\": \"red\"})"
   ]
  },
  {
   "cell_type": "markdown",
   "metadata": {},
   "source": [
    "#### Interpretation\n",
    "\n",
    "##### Form and Direction\n",
    "\n",
    "\n",
    "One pattern of special interest is a linear pattern, where the data has a general look of a line going uphill or downhill. The red line shown on each graph is the fitted line from a linear regression. \n",
    "\n",
    "A linear relationship between X and Y exists when the pattern of X and Y-values is heading alongside the red line, either uphill (with a positive slope or positive correlation) or downhill (with a negative slope or negative correlation).\n",
    "\n",
    "So, looking at the preceding figure, we can see that a positive linear relationship appears between the sale price and each predictors. That is, as the value assigned to the predictor standing for the potential of the house increases, the sale price increases as well. \n",
    "\n",
    "Note that the scatterplot only suggests a linear relationship between the two sets of values. It does not suggest that an increase in the sale price is a consequence of an increase in the house potential.\n",
    "\n",
    "##### Strengh\n",
    "\n",
    "Another important component to a scatterplot is the strength of the relationship between the two variables. The slope provides information on the strength of the relationship.\n",
    "\n",
    "* The strongest linear relationship occurs when the slope is 1. This means that when one variable increases by one, the other variable also increases by the same amount. This line is at a 45 degree angle.\n",
    "\n",
    "* The strength of the relationship between two variables is a crucial piece of information. Relying on the interpretation of a scatterplot is too subjective. More precise evidence is needed, and this evidence is obtained by computing a coefficient that measures the strength of the relationship under investigation."
   ]
  },
  {
   "cell_type": "markdown",
   "metadata": {},
   "source": [
    "#### 1.2.1.4.2. Correlation"
   ]
  },
  {
   "cell_type": "markdown",
   "metadata": {},
   "source": [
    "A correlation matrix is simply a table which displays the correlation coefficients for different variables. The matrix depicts the correlation between all the possible pairs of values in a table. "
   ]
  },
  {
   "cell_type": "markdown",
   "metadata": {},
   "source": [
    "#### Pearson's Correlation"
   ]
  },
  {
   "cell_type": "markdown",
   "metadata": {},
   "source": [
    "It is a powerful tool to summarize a large dataset and to gauge how far the independent variables are linearly related to the target variable. So let's check this out."
   ]
  },
  {
   "cell_type": "code",
   "execution_count": null,
   "metadata": {
    "execution": {
     "iopub.execute_input": "2022-06-10T23:07:59.895251Z",
     "iopub.status.busy": "2022-06-10T23:07:59.894803Z",
     "iopub.status.idle": "2022-06-10T23:08:02.478159Z",
     "shell.execute_reply": "2022-06-10T23:08:02.477258Z",
     "shell.execute_reply.started": "2022-06-10T23:07:59.89522Z"
    }
   },
   "outputs": [],
   "source": [
    "# Heatmap for all the remaining numerical data including the taget 'SalePrice'\n",
    "\n",
    "# Define the heatmap parameters\n",
    "pd.options.display.float_format = \"{:,.2f}\".format\n",
    "\n",
    "# Define correlation matrix \n",
    "# (method = pearson: standard correlation coefficient)\n",
    "corr_matrix = df_train_num.corr(method = 'pearson')\n",
    "\n",
    "# Replace correlation < |0.3| by 0 for a better visibility\n",
    "corr_matrix[(corr_matrix < 0.3) & (corr_matrix > -0.3)] = 0\n",
    "\n",
    "# Mask the upper part of the heatmap\n",
    "mask = np.triu(np.ones_like(corr_matrix, dtype=bool))\n",
    "\n",
    "# Choose the color map\n",
    "cmap = \"viridis\"\n",
    "\n",
    "# plot the heatmap\n",
    "sns.heatmap(corr_matrix, mask=mask, vmax=1.0, vmin=-1.0, linewidths=0.1,\n",
    "            annot_kws={\"size\": 9, \"color\": \"black\"}, square=True, cmap=cmap, annot=True)"
   ]
  },
  {
   "cell_type": "markdown",
   "metadata": {},
   "source": [
    "##### Strengh of relationship\n",
    "\n",
    "* |r| < 0.3 $\\Rightarrow$ None or Very Weak\n",
    "* 0.3 < |r| < 0.5 $\\Rightarrow$ Weak\n",
    "* 0.5 < |r| < 0.7 $\\Rightarrow$ Moderate\n",
    "* |r| > 0.7 $\\Rightarrow$ Strong\n",
    "\n",
    "Correlation around 0.7 or above suggest a strong relationship and only one of the two variables is needed in the analysis. This need to be dealt with when adressing the features selection. \n",
    "\n",
    "Thus, we will look at two kinds of correlation: Those between the variable of interest and the predictors and those  within independent variables.\n",
    "\n",
    "As a result, we can deduce that there is a strong linear relationship between the sale price, our target variable and predictors cited in a descent order: \n",
    "\n",
    "* The overall quality of the material used and the finished house, which is without a doubt of shadow obvious.\n",
    "* The living area above grade or ground,\n",
    "\n",
    "Also, 8 predictors are moderately correlated with the dependent variable. To mention only a few:\n",
    "\n",
    "* The size of garage in car capacity, looks like people care a lot about their cars confort :),\n",
    "* The size of garage which was predicatable based on the previous customers expectation,\n",
    "* The total square feet of basement erea,\n",
    "* The first floor square feet, \n",
    "* etc.\n",
    "\n",
    "Finally, we are left with 8 weakly correlated predictors for a cut-off value equals 30% namely:\n",
    "\n",
    "* Year garage was built,\n",
    "* Masonry veneer area,\n",
    "* Number of fireplaces,\n",
    "* Type 1 finished,\n",
    "* etc.\n",
    "\n",
    "As for the second type of correlation we are interested in, we have a very strong positive correlation (of at least 0.7) including variable below also lined up in a descent order:\n",
    "\n",
    "* \"GarageArea\" and \"GarageCars\" \n",
    "* \"GarageYrBlt\" and \"YearBuilt\" \n",
    "* \"TotRmsAbvGrd\" and \"GrLivArea\" \n",
    "* \"1stFlrSF\" and \"TotalBsmtSF\" \n",
    "\n",
    "We recall that:\n",
    "\n",
    "* \"GarageYrBlt\" stands for the year the garage was build,\n",
    "* \"YearBuilt\" is the original construction date,\n",
    "* \"TotRmsAbvGrd\" is the total rooms above grade not including the bathrooms."
   ]
  },
  {
   "cell_type": "code",
   "execution_count": null,
   "metadata": {
    "execution": {
     "iopub.execute_input": "2022-06-10T23:08:02.479931Z",
     "iopub.status.busy": "2022-06-10T23:08:02.479478Z",
     "iopub.status.idle": "2022-06-10T23:08:02.486675Z",
     "shell.execute_reply": "2022-06-10T23:08:02.485653Z",
     "shell.execute_reply.started": "2022-06-10T23:08:02.479888Z"
    }
   },
   "outputs": [],
   "source": [
    "# Strongly Correlated Features\n",
    "XSC = [\"GarageCars\", \"GarageYrBlt\", \"1stFlrSF\", \"TotRmsAbvGrd\"]\n",
    "XSC"
   ]
  },
  {
   "cell_type": "markdown",
   "metadata": {},
   "source": [
    "#### Wrapping up"
   ]
  },
  {
   "cell_type": "code",
   "execution_count": null,
   "metadata": {
    "execution": {
     "iopub.execute_input": "2022-06-10T23:08:02.488889Z",
     "iopub.status.busy": "2022-06-10T23:08:02.488444Z",
     "iopub.status.idle": "2022-06-10T23:08:03.234702Z",
     "shell.execute_reply": "2022-06-10T23:08:03.233938Z",
     "shell.execute_reply.started": "2022-06-10T23:08:02.488852Z"
    }
   },
   "outputs": [],
   "source": [
    "df_num_corr = df_train_num.corr()[\"SalePrice\"][:-1]\n",
    "\n",
    "#################################\n",
    "# Correlated features (r2 > 0.7)\n",
    "strong_features_list = df_num_corr[abs(df_num_corr) >= 0.7].sort_values(ascending=False)\n",
    "print(f\"{len(strong_features_list)} strongly correlated values with SalePrice:\\n{strong_features_list}\\n\")\n",
    "\n",
    "strong_features = df_num_corr[abs(df_num_corr) >= 0.7].index.tolist()\n",
    "strong_features.append(\"SalePrice\")\n",
    "\n",
    "df_strong_features = df_train_num.loc[:, strong_features]\n",
    "\n",
    "plt.style.use(\"seaborn-whitegrid\")  # define figures style\n",
    "fig, ax = plt.subplots(round(len(strong_features) / 3), 2)\n",
    "\n",
    "for i, ax in enumerate(fig.axes):\n",
    "    # plot the correlation of each feature with SalePrice\n",
    "    if i < len(strong_features)-1:\n",
    "        sns.regplot(x=strong_features[i], y=\"SalePrice\", data=df_strong_features, ax=ax, scatter_kws={\n",
    "                    \"color\": \"blue\"}, line_kws={\"color\": \"red\"})"
   ]
  },
  {
   "cell_type": "code",
   "execution_count": null,
   "metadata": {
    "execution": {
     "iopub.execute_input": "2022-06-10T23:08:03.236753Z",
     "iopub.status.busy": "2022-06-10T23:08:03.235875Z",
     "iopub.status.idle": "2022-06-10T23:08:06.212531Z",
     "shell.execute_reply": "2022-06-10T23:08:06.211801Z",
     "shell.execute_reply.started": "2022-06-10T23:08:03.236697Z"
    }
   },
   "outputs": [],
   "source": [
    "######################################\n",
    "# Correlated features (0.5 < r2 < 0.7)\n",
    "moderate_features_list = df_num_corr[(abs(df_num_corr) < 0.7) & (abs(df_num_corr) >= 0.5)].sort_values(ascending=False)\n",
    "print(f\"{len(moderate_features_list)} moderately correlated values with SalePrice:\\n{moderate_features_list}\\n\")\n",
    "\n",
    "moderate_features = df_num_corr[(abs(df_num_corr) < 0.7) & (abs(df_num_corr) >= 0.5)].index.tolist()\n",
    "moderate_features.append(\"SalePrice\")\n",
    "\n",
    "df_moderate_features = df_train_num.loc[:, moderate_features]\n",
    "\n",
    "plt.style.use(\"seaborn-whitegrid\")  # define figures style\n",
    "fig, ax = plt.subplots(round(len(moderate_features) / 3), 3)\n",
    "\n",
    "for i, ax in enumerate(fig.axes):\n",
    "    # plot the correlation of each feature with SalePrice\n",
    "    if i < len(moderate_features)-1:\n",
    "        sns.regplot(x=moderate_features[i], y=\"SalePrice\", data=df_moderate_features, ax=ax, scatter_kws={\n",
    "                    \"color\": \"cornflowerblue\"}, line_kws={\"color\": \"red\"})"
   ]
  },
  {
   "cell_type": "code",
   "execution_count": null,
   "metadata": {
    "execution": {
     "iopub.execute_input": "2022-06-10T23:08:06.214536Z",
     "iopub.status.busy": "2022-06-10T23:08:06.213693Z",
     "iopub.status.idle": "2022-06-10T23:08:09.173606Z",
     "shell.execute_reply": "2022-06-10T23:08:09.172874Z",
     "shell.execute_reply.started": "2022-06-10T23:08:06.214493Z"
    }
   },
   "outputs": [],
   "source": [
    "######################################\n",
    "# Correlated features (0.3 < r2 < 0.5)\n",
    "weak_features_list = df_num_corr[(abs(df_num_corr) < 0.5) & (abs(df_num_corr) >= 0.3)].sort_values(ascending=False)\n",
    "print(f\"{len(weak_features_list)} weakly correlated values with SalePrice:\\n{weak_features_list}\")\n",
    "\n",
    "# Features with low correlation (between 0.3 and 0.5)\n",
    "weak_features = df_num_corr[(abs(df_num_corr) >= 0.3) & (\n",
    "    abs(df_num_corr) < 0.5)].index.tolist()\n",
    "weak_features.append(\"SalePrice\")\n",
    "\n",
    "df_weak_features = df_train_num.loc[:, weak_features]\n",
    "\n",
    "plt.style.use(\"seaborn-whitegrid\")  # define figures style\n",
    "fig, ax = plt.subplots(round(len(weak_features) / 3), 3)\n",
    "\n",
    "for i, ax in enumerate(fig.axes):\n",
    "    # plot the correlation of each feature with SalePrice\n",
    "    if i < len(weak_features) - 1:\n",
    "        sns.regplot(x=weak_features[i], y=\"SalePrice\", data=df_weak_features, ax=ax, scatter_kws={\n",
    "                    \"color\": \"deepskyblue\"}, line_kws={\"color\": \"red\"},)"
   ]
  },
  {
   "cell_type": "markdown",
   "metadata": {},
   "source": [
    "This piece of code below yields a summary output in terms of numbers regarding our recent interpretation. "
   ]
  },
  {
   "cell_type": "code",
   "execution_count": null,
   "metadata": {
    "execution": {
     "iopub.execute_input": "2022-06-10T23:08:09.175662Z",
     "iopub.status.busy": "2022-06-10T23:08:09.174715Z",
     "iopub.status.idle": "2022-06-10T23:08:09.200543Z",
     "shell.execute_reply": "2022-06-10T23:08:09.199703Z",
     "shell.execute_reply.started": "2022-06-10T23:08:09.175624Z"
    }
   },
   "outputs": [],
   "source": [
    "# Define the list of numerical fetaures to keep\n",
    "list_of_numerical_features = strong_features[:-1] + moderate_features[:-1] + weak_features\n",
    "\n",
    "# Let's select these features form our train set\n",
    "df_train_num = df_train_num.loc[:, list_of_numerical_features]\n",
    "\n",
    "# The same features are selected from the test set (-1 -> except 'SalePrice')\n",
    "df_test_num = df_test.loc[:, list_of_numerical_features[:-1]]\n",
    "\n",
    "# Display except the last column\n",
    "df_train_num.iloc[:, :-1]"
   ]
  },
  {
   "cell_type": "markdown",
   "metadata": {},
   "source": [
    "#### Rank Correlation"
   ]
  },
  {
   "cell_type": "markdown",
   "metadata": {},
   "source": [
    "In statistics, a rank correlation is any of several statistics that measure an ordinal association—the relationship between rankings of different ordinal variables or different rankings of the same variable, where a \"ranking\" is the assignment of the ordering labels \"first\", \"second\", \"third\", etc. to different observations of a particular variable. A rank correlation coefficient measures the degree of similarity between two rankings, and can be used to assess the significance of the relation between them. \n",
    "\n",
    "Some of the more popular rank correlation statistics include :\n",
    "\n",
    "* Kendall's $\\tau$\n",
    "* Spearman's $\\tau$  \n",
    "\n",
    "[Source: Wikipedia](https://en.wikipedia.org/wiki/Rank_correlation#General_correlation_coefficient)\n",
    "\n",
    "In this case, they can't be applied since we are dealing with numerical variables. "
   ]
  },
  {
   "cell_type": "markdown",
   "metadata": {},
   "source": [
    "#### Dropping Strongly Correlated Features"
   ]
  },
  {
   "cell_type": "code",
   "execution_count": null,
   "metadata": {
    "execution": {
     "iopub.execute_input": "2022-06-10T23:08:09.202643Z",
     "iopub.status.busy": "2022-06-10T23:08:09.201958Z",
     "iopub.status.idle": "2022-06-10T23:08:09.218482Z",
     "shell.execute_reply": "2022-06-10T23:08:09.217482Z",
     "shell.execute_reply.started": "2022-06-10T23:08:09.202599Z"
    }
   },
   "outputs": [],
   "source": [
    "# Training set\n",
    "for i, col in enumerate(XSC):\n",
    "    if col in df_train_num.columns:\n",
    "        df_train_num.drop(col, axis=1, inplace=True)\n",
    "\n",
    "# Checking if column headings are the same in both data sets\n",
    "dif_3 = [x for x in XSC if x not in df_train_num.columns]\n",
    "print(f\"Columns present in XSC and absent in df_train_num: {dif_3}\\n\")\n",
    "\n",
    "# Testing set\n",
    "for i, col in enumerate(XSC):\n",
    "    if col in df_test_num.columns:\n",
    "        df_test_num.drop(col, axis=1, inplace=True)\n",
    "\n",
    "# Checking if column headings are the same in both data sets\n",
    "dif_4 = [x for x in XSC if x not in df_test_num.columns]\n",
    "print(f\"Columns present in XSC and absent in df_test_num: {dif_4}\\n\")"
   ]
  },
  {
   "cell_type": "markdown",
   "metadata": {},
   "source": [
    "#### 1.2.1.4.3. Outliers"
   ]
  },
  {
   "cell_type": "markdown",
   "metadata": {},
   "source": [
    "The correlation coefficient is based on means and standard deviations, so it is not robust to outliers; it is strongly affected by extreme observations. These\n",
    "individuals are sometimes referred to as influential observations because they have a strong impact on the correlation coefficient.\n",
    "\n",
    "As a result, when included in the analysis, it can reduces a strong relationship to a moderate relationship. This case makes such a big difference when the dataset contains a very small number of individuals. As a general rule, as the size of the sample increases, the influence of extreme observations decreases.\n",
    "\n",
    "When describing the relationship between two variables, correlations are just one piece of the puzzle. This information is necessary, but not sufficient. Therefore, other analyses should also be conducted to provide more information.\n",
    "\n",
    "[Source: Scatterplots and Correlation](https://drive.google.com/file/d/1N8_AUDO2bo16qFHEEqYmBjLpRiU2C8i8/view?usp=sharing)"
   ]
  },
  {
   "cell_type": "markdown",
   "metadata": {},
   "source": [
    "Like box plots, scatterplots visualize outlying observations very well but do not identify or mark them for easy treatment. For instance, backing to our scatterplots, we can clearly see that some obersations are lying very far away from the line of statistical relationship regarding variables such as \"LotFrontage\", YearBuit\", \"GarageArea\", etc. But how far can we consider them as extreme obeservations, specially in a multidimensional fashion?\n",
    "\n",
    "Consequently, when dealing with multivariate outliers, distance metrics can be helpful for detection. With distance metrics, the distance between two vectors is determined. These two vectors can be two different observations (rows) or an observation (row) compared to the mean vector (row of means of all columns). Distance metrics can be calculated independently of the number of variables in the dataset (columns).\n",
    "\n",
    "[Source: Detecting And Treating Outliers In Python — Part 2](https://towardsdatascience.com/detecting-and-treating-outliers-in-python-part-2-3a3319ec2c33)"
   ]
  },
  {
   "cell_type": "markdown",
   "metadata": {},
   "source": [
    "#### 1.2.1.4.3.1. Bivariate Outliers detection Using Mahalanobis Distance"
   ]
  },
  {
   "cell_type": "markdown",
   "metadata": {},
   "source": [
    "Mahalanobis Distance (MD) is an effective distance metric that finds the distance between the point and the distribution. It works quite effectively on multivariate data because it uses a covariance matrix of variables to find the distance between data points and the center. This means that MD detects outliers based on the distribution pattern of data points, unlike the Euclidean distance. \n",
    "\n",
    "[Source: Multivariate Outlier Detection in Python](https://towardsdatascience.com/multivariate-outlier-detection-in-python-e946cfc843b3)"
   ]
  },
  {
   "cell_type": "code",
   "execution_count": null,
   "metadata": {
    "execution": {
     "iopub.execute_input": "2022-06-10T23:08:09.220721Z",
     "iopub.status.busy": "2022-06-10T23:08:09.220269Z",
     "iopub.status.idle": "2022-06-10T23:08:12.127072Z",
     "shell.execute_reply": "2022-06-10T23:08:12.126376Z",
     "shell.execute_reply.started": "2022-06-10T23:08:09.220677Z"
    }
   },
   "outputs": [],
   "source": [
    "fig = plt.figure(figsize=(30,40))\n",
    "plt.subplots_adjust(left=0.1,\n",
    "                    bottom=0.1,\n",
    "                    right=0.9,\n",
    "                    top=1.9,\n",
    "                    wspace=0.1,\n",
    "                    hspace=0.3) \n",
    "for i, col in enumerate(df_train_num.iloc[:, :-1].columns):\n",
    "    df = df_train_num[[col, 'SalePrice']]\n",
    "    df = df.dropna()\n",
    "    df = df.to_numpy()\n",
    "\n",
    "    # Covariance matrix\n",
    "    covariance  = np.cov(df , rowvar=False)\n",
    "\n",
    "    # Covariance matrix power of -1\n",
    "    covariance_pm1 = np.linalg.matrix_power(covariance, -1)\n",
    "\n",
    "    # Center point\n",
    "    centerpoint = np.mean(df , axis=0)\n",
    "\n",
    "    # Distances between center point and \n",
    "    distances = []\n",
    "    for j, val in enumerate(df):\n",
    "            p1 = val\n",
    "            p2 = centerpoint\n",
    "            distance = (p1-p2).T.dot(covariance_pm1).dot(p1-p2)\n",
    "            distances.append(distance)\n",
    "    distances = np.array(distances)\n",
    "\n",
    "    # Cutoff (threshold) value from Chi-Sqaure Distribution for detecting outliers \n",
    "    cutoff = chi2.ppf(0.95, df.shape[1])\n",
    "\n",
    "    # Index of outliers\n",
    "    outlierIndexes = np.where(distances > cutoff )\n",
    "\n",
    "    #print('--- Index of Outliers ----')\n",
    "    #print(outlierIndexes)\n",
    "\n",
    "    #print('--- Observations found as outlier -----')\n",
    "    #print(df[ distances > cutoff , :])\n",
    "\n",
    "    ## Finding ellipse dimensions \n",
    "    pearson = covariance[0, 1]/np.sqrt(covariance[0, 0] * covariance[1, 1])\n",
    "    ell_radius_x = np.sqrt(1 + pearson)\n",
    "    ell_radius_y = np.sqrt(1 - pearson)\n",
    "    lambda_, v = np.linalg.eig(covariance)\n",
    "    lambda_ = np.sqrt(lambda_)\n",
    "    \n",
    "    # Ellipse patch   \n",
    "    ellipse = patches.Ellipse(xy=(centerpoint[0], centerpoint[1]),\n",
    "                  width=lambda_[0]*np.sqrt(cutoff)*2, height=lambda_[1]*np.sqrt(cutoff)*2,\n",
    "                  angle=np.rad2deg(np.arccos(v[0, 0])), edgecolor='blue')\n",
    "    ellipse.set_facecolor('gold')\n",
    "    ellipse.set_alpha(0.4)\n",
    "    ax = plt.subplot(9, 2, i+1)\n",
    "    ax.add_artist(ellipse)\n",
    "    #ellipse.set_hatch('+')\n",
    "    plt.scatter(df[: , 0], df[ : , 1])\n",
    "    ax.text(.05, .95, col , transform=ax.transAxes, ha=\"left\", va=\"top\")"
   ]
  },
  {
   "cell_type": "markdown",
   "metadata": {},
   "source": [
    "As we can see on the graphs obtained above, the points outside the ellipse are detected as outliers. This ellipse represents the area that wraps non-outlier values according to Mahalanobis Distance.\n",
    "\n",
    "We will drop these outliers in the next subsection addressing that specially."
   ]
  },
  {
   "cell_type": "markdown",
   "metadata": {},
   "source": [
    "#### 1.2.1.4.3.2. Handling Outliers"
   ]
  },
  {
   "cell_type": "markdown",
   "metadata": {},
   "source": [
    "Below are some of the methods of treating the outliers:\n",
    "\n",
    "* Trimming/removing the outlier \n",
    "* Quantile based flooring and capping\n",
    "* Mean/Median imputation\n",
    "\n",
    "[Source: Detecting and Treating Outliers | Treating the odd one out!](https://www.analyticsvidhya.com/blog/2021/05/detecting-and-treating-outliers-treating-the-odd-one-out/)"
   ]
  },
  {
   "cell_type": "markdown",
   "metadata": {},
   "source": [
    "For lack of relevant arguments to support the reliability of this techniques, we will move on to the next steps, bearing in mind that some analysis need to be done here."
   ]
  },
  {
   "cell_type": "markdown",
   "metadata": {},
   "source": [
    "### <font color='darkblue'>I.2.2. Missing data of Numerical features </font>"
   ]
  },
  {
   "cell_type": "markdown",
   "metadata": {},
   "source": [
    "This subsection is intended to treat missing values among numerical features."
   ]
  },
  {
   "cell_type": "markdown",
   "metadata": {},
   "source": [
    "#### Training Data Set"
   ]
  },
  {
   "cell_type": "code",
   "execution_count": null,
   "metadata": {
    "execution": {
     "iopub.execute_input": "2022-06-10T23:08:12.128519Z",
     "iopub.status.busy": "2022-06-10T23:08:12.128089Z",
     "iopub.status.idle": "2022-06-10T23:08:12.357585Z",
     "shell.execute_reply": "2022-06-10T23:08:12.356618Z",
     "shell.execute_reply.started": "2022-06-10T23:08:12.128486Z"
    }
   },
   "outputs": [],
   "source": [
    "# Check the NaN of the train set by ploting percent of missing values per column\n",
    "column_with_nan = df_train_num.columns[df_train_num.isnull().any()]\n",
    "column_name = []\n",
    "percent_nan = []\n",
    "\n",
    "for i in column_with_nan:\n",
    "    column_name.append(i)\n",
    "    percent_nan.append(\n",
    "        round(df_train_num[i].isnull().sum()*100/len(df_train_num), 2))\n",
    "\n",
    "tab = pd.DataFrame(column_name, columns=[\"Column\"])\n",
    "tab[\"Percent_NaN\"] = percent_nan\n",
    "tab.sort_values(by=[\"Percent_NaN\"], ascending=False, inplace=True)\n",
    "\n",
    "\n",
    "# Define figure parameters\n",
    "sns.set(rc={\"figure.figsize\": (10, 7)})\n",
    "sns.set_style(\"whitegrid\")\n",
    "\n",
    "# Plot results\n",
    "p = sns.barplot(x=\"Percent_NaN\", y=\"Column\", data=tab,\n",
    "                edgecolor=\"black\", color=\"darkmagenta\")\n",
    "\n",
    "p.set_title(\"Percent of NaN per column of the train set\\n\", fontsize=20)\n",
    "p.set_xlabel(\"\\nPercent of NaN (%)\", fontsize=20)\n",
    "p.set_ylabel(\"Column Name\\n\", fontsize=20)"
   ]
  },
  {
   "cell_type": "markdown",
   "metadata": {},
   "source": [
    "Thus, from the graph obtained above, two numerical variables contain missing values: \n",
    "* The linear feet of street connected to property (17%)\n",
    "* The masonry veneer area (about 0.6%)\n",
    "\n",
    "A possible solution to fix this problem is about filling the missing values by the median because the distributions of both variables are skewed. "
   ]
  },
  {
   "cell_type": "code",
   "execution_count": null,
   "metadata": {
    "execution": {
     "iopub.execute_input": "2022-06-10T23:08:12.359643Z",
     "iopub.status.busy": "2022-06-10T23:08:12.358715Z",
     "iopub.status.idle": "2022-06-10T23:08:12.371553Z",
     "shell.execute_reply": "2022-06-10T23:08:12.370745Z",
     "shell.execute_reply.started": "2022-06-10T23:08:12.359603Z"
    }
   },
   "outputs": [],
   "source": [
    "# Imputation of missing values (NaNs) with SimpleImputer\n",
    "my_imputer = SimpleImputer(strategy=\"median\")\n",
    "df_train_imputed = pd.DataFrame(my_imputer.fit_transform(df_train_num))\n",
    "df_train_imputed.columns = df_train_num.columns"
   ]
  },
  {
   "cell_type": "markdown",
   "metadata": {},
   "source": [
    "The next step is now to look at the distibutions of these features before and after imputation.  "
   ]
  },
  {
   "cell_type": "code",
   "execution_count": null,
   "metadata": {
    "execution": {
     "iopub.execute_input": "2022-06-10T23:08:12.37385Z",
     "iopub.status.busy": "2022-06-10T23:08:12.373041Z",
     "iopub.status.idle": "2022-06-10T23:08:13.261975Z",
     "shell.execute_reply": "2022-06-10T23:08:13.261056Z",
     "shell.execute_reply.started": "2022-06-10T23:08:12.373812Z"
    }
   },
   "outputs": [],
   "source": [
    "# Define figure parameters\n",
    "sns.set(rc={\"figure.figsize\": (14, 12)})\n",
    "sns.set_style(\"whitegrid\")\n",
    "fig, axes = plt.subplots(2, 2)\n",
    "\n",
    "# Plot the results\n",
    "for feature, fig_pos in zip([\"LotFrontage\", \"MasVnrArea\"], [0, 1]):\n",
    "\n",
    "    \"\"\"Features distribution before and after imputation\"\"\"\n",
    "\n",
    "    # before imputation\n",
    "    p = sns.histplot(ax=axes[fig_pos, 0], x=df_train_num[feature],\n",
    "                     kde=True, bins=30, color=\"dodgerblue\", edgecolor=\"black\")\n",
    "    p.set_ylabel(f\"Before imputation\", fontsize=14)\n",
    "\n",
    "    # after imputation\n",
    "    q = sns.histplot(ax=axes[fig_pos, 1], x=df_train_imputed[feature],\n",
    "                     kde=True, bins=30, color=\"firebrick\", edgecolor=\"black\")\n",
    "    q.set_ylabel(f\"After imputation\", fontsize=14)"
   ]
  },
  {
   "cell_type": "markdown",
   "metadata": {},
   "source": [
    "Without a shadow of doubt, the shape of the first distribution is affected by this imputation performed on the observations. Consequently, this operation is a failure on the first variable and we can't consequently proceed with that. \n",
    "\n"
   ]
  },
  {
   "cell_type": "code",
   "execution_count": null,
   "metadata": {
    "execution": {
     "iopub.execute_input": "2022-06-10T23:08:13.263892Z",
     "iopub.status.busy": "2022-06-10T23:08:13.26351Z",
     "iopub.status.idle": "2022-06-10T23:08:13.280857Z",
     "shell.execute_reply": "2022-06-10T23:08:13.280022Z",
     "shell.execute_reply.started": "2022-06-10T23:08:13.263856Z"
    }
   },
   "outputs": [],
   "source": [
    "# Drop 'LotFrontage' from the training set\n",
    "df_train_imputed.drop([\"LotFrontage\"], axis=1, inplace=True)\n",
    "\n",
    "# Drop the same features from testing set \n",
    "df_test_num.drop([\"LotFrontage\"], axis=1, inplace=True)\n",
    "\n",
    "df_train_imputed.head()"
   ]
  },
  {
   "cell_type": "markdown",
   "metadata": {},
   "source": [
    "About the second feature, the trajectory of the distribution remains untouched. Therefore, imputing the median on this column is successful. "
   ]
  },
  {
   "cell_type": "markdown",
   "metadata": {},
   "source": [
    "#### Testing Data Set"
   ]
  },
  {
   "cell_type": "code",
   "execution_count": null,
   "metadata": {
    "execution": {
     "iopub.execute_input": "2022-06-10T23:08:13.28297Z",
     "iopub.status.busy": "2022-06-10T23:08:13.282168Z",
     "iopub.status.idle": "2022-06-10T23:08:13.515638Z",
     "shell.execute_reply": "2022-06-10T23:08:13.514774Z",
     "shell.execute_reply.started": "2022-06-10T23:08:13.282928Z"
    }
   },
   "outputs": [],
   "source": [
    "# Check the NaN of the test set by ploting percent of missing values per column\n",
    "column_with_nan = df_test_num.columns[df_test_num.isnull().any()]\n",
    "column_name = []\n",
    "percent_nan = []\n",
    "\n",
    "for i in column_with_nan:\n",
    "    column_name.append(i)\n",
    "    percent_nan.append(\n",
    "        round(df_test_num[i].isnull().sum()*100/len(df_test_num), 2))\n",
    "\n",
    "tab = pd.DataFrame(column_name, columns=[\"Column\"])\n",
    "tab[\"Percent_NaN\"] = percent_nan\n",
    "tab.sort_values(by=[\"Percent_NaN\"], ascending=False, inplace=True)\n",
    "\n",
    "\n",
    "# Define figure parameters\n",
    "sns.set(rc={\"figure.figsize\": (10, 7)})\n",
    "sns.set_style(\"whitegrid\")\n",
    "\n",
    "# Plot results\n",
    "p = sns.barplot(x=\"Percent_NaN\", y=\"Column\", data=tab,\n",
    "                edgecolor=\"black\", color=\"darkmagenta\")\n",
    "\n",
    "p.set_title(\"Percent of NaN per column of the test set\\n\", fontsize=20)\n",
    "p.set_xlabel(\"\\nPercent of NaN (%)\", fontsize=20)\n",
    "p.set_ylabel(\"Column Name\\n\", fontsize=20)"
   ]
  },
  {
   "cell_type": "markdown",
   "metadata": {},
   "source": [
    "In conntrast to the training set, here we have for features containing missing values in their observations. The highest one is the masonry veneer area (about 1%). So, let's apply the same procedure, that's imputation by the median. "
   ]
  },
  {
   "cell_type": "code",
   "execution_count": null,
   "metadata": {
    "execution": {
     "iopub.execute_input": "2022-06-10T23:08:13.517422Z",
     "iopub.status.busy": "2022-06-10T23:08:13.516997Z",
     "iopub.status.idle": "2022-06-10T23:08:13.528617Z",
     "shell.execute_reply": "2022-06-10T23:08:13.527777Z",
     "shell.execute_reply.started": "2022-06-10T23:08:13.517384Z"
    }
   },
   "outputs": [],
   "source": [
    "# Imputation of missing values (NaNs) with SimpleImputer\n",
    "my_imputer = SimpleImputer(strategy=\"median\")\n",
    "df_test_imputed = pd.DataFrame(my_imputer.fit_transform(df_test_num))\n",
    "df_test_imputed.columns = df_test_num.columns"
   ]
  },
  {
   "cell_type": "code",
   "execution_count": null,
   "metadata": {
    "execution": {
     "iopub.execute_input": "2022-06-10T23:08:13.530461Z",
     "iopub.status.busy": "2022-06-10T23:08:13.529981Z",
     "iopub.status.idle": "2022-06-10T23:08:15.207914Z",
     "shell.execute_reply": "2022-06-10T23:08:15.20701Z",
     "shell.execute_reply.started": "2022-06-10T23:08:13.530418Z"
    }
   },
   "outputs": [],
   "source": [
    "# Let's check the distribution of each imputed feature before and after imputation\n",
    "# Define figure parameters\n",
    "sns.set(rc={\"figure.figsize\": (20, 18)})\n",
    "sns.set_style(\"whitegrid\")\n",
    "fig, axes = plt.subplots(4, 2)\n",
    "\n",
    "# Plot the results\n",
    "for feature, fig_pos in zip(tab[\"Column\"].tolist(), range(0, 6)):\n",
    "\n",
    "    \"\"\"Features distribution before and after imputation\"\"\"\n",
    "\n",
    "    # before imputation\n",
    "    p = sns.histplot(ax=axes[fig_pos, 0], x=df_test_num[feature],\n",
    "                     kde=True, bins=30, color=\"dodgerblue\", edgecolor=\"black\")\n",
    "    p.set_ylabel(f\"Before imputation\", fontsize=14)\n",
    "\n",
    "    # after imputation\n",
    "    q = sns.histplot(ax=axes[fig_pos, 1], x=df_test_imputed[feature],\n",
    "                     kde=True, bins=30, color=\"firebrick\", edgecolor=\"black\",)\n",
    "    q.set_ylabel(f\"After imputation\", fontsize=14)"
   ]
  },
  {
   "cell_type": "markdown",
   "metadata": {},
   "source": [
    "No major change in the shape of the distributions. Thus, by imputing these missing data, few errors were introduced and the distributions are similar before and after imputation. Hence, the imputation operation is a success. "
   ]
  },
  {
   "cell_type": "markdown",
   "metadata": {},
   "source": [
    "### <font color='forestgreen'>  I.3. Categorical features <front>"
   ]
  },
  {
   "cell_type": "markdown",
   "metadata": {},
   "source": [
    "### <font color='darkblue'>I.3.1. Explore and clean Categorical features</font>"
   ]
  },
  {
   "cell_type": "markdown",
   "metadata": {},
   "source": [
    "This section will focus on categorical features in our pool explanatory variables. The first step will consist of separating thos features of interest from both data sets and then processing them. "
   ]
  },
  {
   "cell_type": "markdown",
   "metadata": {},
   "source": [
    "#### 1.3.1.1. Extracting Categorical Features"
   ]
  },
  {
   "cell_type": "code",
   "execution_count": null,
   "metadata": {
    "execution": {
     "iopub.execute_input": "2022-06-10T23:08:15.209746Z",
     "iopub.status.busy": "2022-06-10T23:08:15.209392Z",
     "iopub.status.idle": "2022-06-10T23:08:15.223693Z",
     "shell.execute_reply": "2022-06-10T23:08:15.222374Z",
     "shell.execute_reply.started": "2022-06-10T23:08:15.209697Z"
    }
   },
   "outputs": [],
   "source": [
    "# Categorical to Quantitative relationship\n",
    "categorical_features = [i for i in df_train.columns if df_train.dtypes[i] == \"object\"]\n",
    "categorical_features.append(\"SalePrice\")\n",
    "\n",
    "# Train set\n",
    "df_train_categ = df_train[categorical_features]\n",
    "\n",
    "# Test set (-1 because test set don't have 'Sale Price')\n",
    "df_test_categ = df_test[categorical_features[:-1]]"
   ]
  },
  {
   "cell_type": "code",
   "execution_count": null,
   "metadata": {
    "execution": {
     "iopub.execute_input": "2022-06-10T23:08:15.226016Z",
     "iopub.status.busy": "2022-06-10T23:08:15.225333Z",
     "iopub.status.idle": "2022-06-10T23:08:15.234793Z",
     "shell.execute_reply": "2022-06-10T23:08:15.233884Z",
     "shell.execute_reply.started": "2022-06-10T23:08:15.225979Z"
    }
   },
   "outputs": [],
   "source": [
    "print(f\"Training set shape (Categorical features): {df_train_categ.shape}\\n\")\n",
    "print(f\"Test set shape (Categorical features): {df_test_categ.shape}\\n\")"
   ]
  },
  {
   "cell_type": "markdown",
   "metadata": {},
   "source": [
    "As displayed, we have 43 categorical varaibles in the training data set as well as in the testing data set. \n",
    "\n",
    "The next setp now is to look at the Countplot for each of the categorical features in the training set in order to determine which categorical features are dominated by one outcome. This method is used to show the counts of observations in each categorical feature using bars."
   ]
  },
  {
   "cell_type": "markdown",
   "metadata": {},
   "source": [
    "#### 1.3.1.2. Counter Plots"
   ]
  },
  {
   "cell_type": "code",
   "execution_count": null,
   "metadata": {
    "execution": {
     "iopub.execute_input": "2022-06-10T23:08:15.237078Z",
     "iopub.status.busy": "2022-06-10T23:08:15.236115Z",
     "iopub.status.idle": "2022-06-10T23:08:19.788005Z",
     "shell.execute_reply": "2022-06-10T23:08:19.787277Z",
     "shell.execute_reply.started": "2022-06-10T23:08:15.23704Z"
    }
   },
   "outputs": [],
   "source": [
    "fig, axes = plt.subplots(round(len(df_train_categ.columns) / 3), 2, figsize=(20, 30))\n",
    "\n",
    "for i, ax in enumerate(fig.axes):\n",
    "    # plot barplot of each feature\n",
    "    if i < len(df_train_categ.columns) - 1:\n",
    "        ax.set_xticklabels(ax.xaxis.get_majorticklabels(), rotation=90)\n",
    "        sns.countplot(x=df_train_categ.columns[i], alpha=0.7, data=df_train_categ, ax=ax, palette = \"Set1\")\n",
    "\n",
    "fig.tight_layout()"
   ]
  },
  {
   "cell_type": "markdown",
   "metadata": {},
   "source": [
    "A count plot can be thought of as a histogram across a categorical, instead of quantitative variable. As a result, we don't want those predictors with a prevalent outcome because they don't contribute significantly to training our model. It's quite similar to the issue of quasi-constant variable we dealed with regarding numerical features. So, ww will drop these concerned feature in the folowing snippet of code.  \n",
    "\n",
    "[Source: seaborn.countplot](https://seaborn.pydata.org/generated/seaborn.countplot.html)"
   ]
  },
  {
   "cell_type": "code",
   "execution_count": null,
   "metadata": {
    "execution": {
     "iopub.execute_input": "2022-06-10T23:08:19.790187Z",
     "iopub.status.busy": "2022-06-10T23:08:19.789275Z",
     "iopub.status.idle": "2022-06-10T23:08:19.800538Z",
     "shell.execute_reply": "2022-06-10T23:08:19.799642Z",
     "shell.execute_reply.started": "2022-06-10T23:08:19.790148Z"
    }
   },
   "outputs": [],
   "source": [
    "cols_to_drop = [\n",
    "    'Street',\n",
    "    'LandContour',\n",
    "    'Utilities',\n",
    "    'LandSlope',\n",
    "    'Condition2',\n",
    "    'RoofMatl',\n",
    "    'BsmtCond',\n",
    "    'BsmtFinType2',\n",
    "    'Heating',\n",
    "    'CentralAir',\n",
    "    'Electrical',\n",
    "    'Functional',\n",
    "    'GarageQual',\n",
    "    'GarageCond',\n",
    "    'PavedDrive'\n",
    "]\n",
    "\n",
    "# Training set\n",
    "df_train_categ.drop(cols_to_drop, axis=1, inplace=True)\n",
    "\n",
    "# Test set\n",
    "df_test_categ.drop(cols_to_drop, axis=1, inplace=True)"
   ]
  },
  {
   "cell_type": "code",
   "execution_count": null,
   "metadata": {
    "execution": {
     "iopub.execute_input": "2022-06-10T23:08:19.802547Z",
     "iopub.status.busy": "2022-06-10T23:08:19.802028Z",
     "iopub.status.idle": "2022-06-10T23:08:19.811154Z",
     "shell.execute_reply": "2022-06-10T23:08:19.810287Z",
     "shell.execute_reply.started": "2022-06-10T23:08:19.802506Z"
    }
   },
   "outputs": [],
   "source": [
    "print(f\"Training set shape (Categorical features): {df_train_categ.shape}\\n\")\n",
    "print(f\"Test set shape (Categorical features): {df_test_categ.shape}\\n\")"
   ]
  },
  {
   "cell_type": "markdown",
   "metadata": {},
   "source": [
    "We are left now with exactly 28 categorical features in both data sets. \n",
    "\n",
    "Secondly, it's worth a look at the variation of the target variable with respect to each categorical feature."
   ]
  },
  {
   "cell_type": "markdown",
   "metadata": {},
   "source": [
    "#### 1.3.1.3. Box Plots "
   ]
  },
  {
   "cell_type": "code",
   "execution_count": null,
   "metadata": {
    "execution": {
     "iopub.execute_input": "2022-06-10T23:08:19.813249Z",
     "iopub.status.busy": "2022-06-10T23:08:19.812311Z",
     "iopub.status.idle": "2022-06-10T23:08:24.465618Z",
     "shell.execute_reply": "2022-06-10T23:08:24.464715Z",
     "shell.execute_reply.started": "2022-06-10T23:08:19.813209Z"
    }
   },
   "outputs": [],
   "source": [
    "fig, axes = plt.subplots(\n",
    "    round(len(df_train_categ.columns)/3), 2, figsize=(20, 30))\n",
    "\n",
    "for i, ax in enumerate(fig.axes):\n",
    "    # plot the variation of SalePrice in each feature\n",
    "    if i < len(df_train_categ.columns) - 1:\n",
    "        ax.set_xticklabels(ax.xaxis.get_majorticklabels(), rotation=75)\n",
    "        sns.boxplot(x=df_train_categ.columns[i], y=\"SalePrice\", data=df_train_categ, ax=ax, palette=\"Spectral_r\")\n",
    "\n",
    "fig.tight_layout()"
   ]
  },
  {
   "cell_type": "markdown",
   "metadata": {},
   "source": [
    "Looking thoroughly at each of these sets of box plots, we can notice that some feature tend to have similar behavior regarding some of their outcomes or categories. Thus, a formal way of accessing this is the so-called Chi-Square Test. "
   ]
  },
  {
   "cell_type": "markdown",
   "metadata": {},
   "source": [
    "#### 1.3.1.4 Chi-Square Test"
   ]
  },
  {
   "cell_type": "markdown",
   "metadata": {},
   "source": [
    "There are two types of chi-square tests. Both use the chi-square statistic and distribution for different purposes:\n",
    "\n",
    "* A chi-square goodness of fit test determines if sample data matches a population.\n",
    "\n",
    "* A chi-square test for independence compares two variables in a contingency table to see if they are related. In a more general sense, it tests to see whether distributions of categorical variables differ from each another.\n",
    "\n",
    "The second type is of interest here. \n",
    "\n",
    "[Source: Chi-Square Statistic: How to Calculate It / Distribution](https://www.statisticshowto.com/probability-and-statistics/chi-square/)"
   ]
  },
  {
   "cell_type": "markdown",
   "metadata": {},
   "source": [
    "There are three pairs of categorical variables for which the distribution of sale price is very similar:\n",
    "\n",
    "* \"Exterior1st\" and \"Exterior2nd\"\n",
    "* \"ExterQual\" and \"MasVnrType\"\n",
    "* \"BsmtQual\" and \"BsmtExposure\""
   ]
  },
  {
   "cell_type": "code",
   "execution_count": null,
   "metadata": {
    "execution": {
     "iopub.execute_input": "2022-06-10T23:08:24.467477Z",
     "iopub.status.busy": "2022-06-10T23:08:24.46702Z",
     "iopub.status.idle": "2022-06-10T23:08:26.0579Z",
     "shell.execute_reply": "2022-06-10T23:08:26.056933Z",
     "shell.execute_reply.started": "2022-06-10T23:08:24.46744Z"
    }
   },
   "outputs": [],
   "source": [
    "# Plot contingency table\n",
    "\n",
    "sns.set(rc={\"figure.figsize\": (10, 7)})\n",
    "\n",
    "X = [\"Exterior1st\", \"ExterQual\", \"BsmtQual\"]\n",
    "Y = [\"Exterior2nd\", \"MasVnrType\", \"BsmtExposure\"]\n",
    "\n",
    "for i, j in zip(X, Y):\n",
    "\n",
    "    # Contingency table\n",
    "    cont = df_train_categ[[i, j]].pivot_table(\n",
    "        index=i, columns=j, aggfunc=len, margins=True, margins_name=\"Total\")\n",
    "    tx = cont.loc[:, [\"Total\"]]\n",
    "    ty = cont.loc[[\"Total\"], :]\n",
    "    n = len(df_train_categ)\n",
    "    indep = tx.dot(ty) / n\n",
    "    c = cont.fillna(0)  # Replace NaN with 0 in the contingency table\n",
    "    measure = (c - indep) ** 2 / indep\n",
    "    xi_n = measure.sum().sum()\n",
    "    table = measure / xi_n\n",
    "\n",
    "    # Plot contingency table\n",
    "    p = sns.heatmap(table.iloc[:-1, :-1],\n",
    "                    annot=c.iloc[:-1, :-1], fmt=\".0f\", cmap=\"Oranges\")\n",
    "    p.set_xlabel(j, fontsize=18)\n",
    "    p.set_ylabel(i, fontsize=18)\n",
    "    p.set_title(f\"\\nχ² test between groups {i} and groups {j}\\n\", size=18)\n",
    "    plt.show()\n",
    "\n",
    "    # Performing Chi-sq test\n",
    "    CrosstabResult = pd.crosstab(\n",
    "        index=df_train_categ[i], columns=df_train_categ[j])\n",
    "    ChiSqResult = chi2_contingency(CrosstabResult)\n",
    "    # P-Value is the Probability of H0 being True\n",
    "    print(\n",
    "        f\"P-Value of the ChiSq Test bewteen {i} and {j} is: {ChiSqResult[1]}\\n\")"
   ]
  },
  {
   "cell_type": "markdown",
   "metadata": {},
   "source": [
    "After performing the Chi-squared test for each pairs of variables considered, we see that there is strong co-dependency for each of these variables. Since highly dependent/correlated variables do not add much relevant new information with regards to the value of the target variable, we will drop one of each co-dependent variable from the dataset."
   ]
  },
  {
   "cell_type": "code",
   "execution_count": null,
   "metadata": {
    "execution": {
     "iopub.execute_input": "2022-06-10T23:08:26.05967Z",
     "iopub.status.busy": "2022-06-10T23:08:26.059229Z",
     "iopub.status.idle": "2022-06-10T23:08:26.067662Z",
     "shell.execute_reply": "2022-06-10T23:08:26.066693Z",
     "shell.execute_reply.started": "2022-06-10T23:08:26.05963Z"
    }
   },
   "outputs": [],
   "source": [
    "# Drop the one of each co-dependent variables\n",
    "# Training set\n",
    "df_train_categ.drop(Y, axis=1, inplace=True)\n",
    "\n",
    "# Test set\n",
    "df_test_categ.drop(Y, axis=1, inplace=True)"
   ]
  },
  {
   "cell_type": "code",
   "execution_count": null,
   "metadata": {
    "execution": {
     "iopub.execute_input": "2022-06-10T23:08:26.07257Z",
     "iopub.status.busy": "2022-06-10T23:08:26.069016Z",
     "iopub.status.idle": "2022-06-10T23:08:26.078671Z",
     "shell.execute_reply": "2022-06-10T23:08:26.077674Z",
     "shell.execute_reply.started": "2022-06-10T23:08:26.072523Z"
    }
   },
   "outputs": [],
   "source": [
    "print(f\"Training set shape (Categorical features): {df_train_categ.shape}\\n\")\n",
    "print(f\"Test set shape (Categorical features): {df_test_categ.shape}\\n\")"
   ]
  },
  {
   "cell_type": "markdown",
   "metadata": {},
   "source": [
    "Eventually, we have 25 categorical features in our pool now. About a half of what we had initially has been dropped by conducting this cleaning operation.  "
   ]
  },
  {
   "cell_type": "markdown",
   "metadata": {},
   "source": [
    "### <font color='darkblue'>I.3.2. Missing data of Categorical features</font>"
   ]
  },
  {
   "cell_type": "markdown",
   "metadata": {
    "execution": {
     "iopub.execute_input": "2022-06-08T06:54:44.714654Z",
     "iopub.status.busy": "2022-06-08T06:54:44.713292Z",
     "iopub.status.idle": "2022-06-08T06:54:44.718846Z",
     "shell.execute_reply": "2022-06-08T06:54:44.717988Z",
     "shell.execute_reply.started": "2022-06-08T06:54:44.714592Z"
    }
   },
   "source": [
    "#### 1.3.2.1. Training Set"
   ]
  },
  {
   "cell_type": "code",
   "execution_count": null,
   "metadata": {
    "execution": {
     "iopub.execute_input": "2022-06-10T23:08:26.081784Z",
     "iopub.status.busy": "2022-06-10T23:08:26.080519Z",
     "iopub.status.idle": "2022-06-10T23:08:26.351843Z",
     "shell.execute_reply": "2022-06-10T23:08:26.351075Z",
     "shell.execute_reply.started": "2022-06-10T23:08:26.081711Z"
    }
   },
   "outputs": [],
   "source": [
    "# Check the NaN of the test set by ploting percent of missing values per column\n",
    "column_with_nan = df_train_categ.columns[df_train_categ.isnull().any()]\n",
    "column_name = []\n",
    "percent_nan = []\n",
    "\n",
    "for i in column_with_nan:\n",
    "    column_name.append(i)\n",
    "    percent_nan.append(\n",
    "        round(df_train_categ[i].isnull().sum() * 100 / len(df_train_categ), 2))\n",
    "\n",
    "tab = pd.DataFrame(column_name, columns=[\"Column\"])\n",
    "tab[\"Percent_NaN\"] = percent_nan\n",
    "tab.sort_values(by=[\"Percent_NaN\"], ascending=False, inplace=True)\n",
    "\n",
    "\n",
    "# Define figure parameters\n",
    "sns.set(rc={\"figure.figsize\": (10, 7)})\n",
    "sns.set_style(\"whitegrid\")\n",
    "\n",
    "# Plot results\n",
    "p = sns.barplot(x=\"Percent_NaN\", y=\"Column\", data=tab,\n",
    "                edgecolor=\"black\", color=\"orchid\")\n",
    "p.set_title(\"Percent of NaN per column of the test set\\n\", fontsize=20)\n",
    "p.set_xlabel(\"\\nPercent of NaN (%)\", fontsize=20)\n",
    "p.set_ylabel(\"Column Name\\n\", fontsize=20)"
   ]
  },
  {
   "cell_type": "code",
   "execution_count": null,
   "metadata": {
    "execution": {
     "iopub.execute_input": "2022-06-10T23:08:26.353591Z",
     "iopub.status.busy": "2022-06-10T23:08:26.353115Z",
     "iopub.status.idle": "2022-06-10T23:08:26.364682Z",
     "shell.execute_reply": "2022-06-10T23:08:26.363593Z",
     "shell.execute_reply.started": "2022-06-10T23:08:26.353553Z"
    }
   },
   "outputs": [],
   "source": [
    "# Displaying the exact percentages\n",
    "tab"
   ]
  },
  {
   "cell_type": "markdown",
   "metadata": {},
   "source": [
    "In the training set, it's clearly vewable that five categorical variables have a significant amount of missing values, that's larger than 50%. Hence, we will remove any columns with more than 30% NaN entries from both datasets. Imputation will be used to fill in the missing entries from the remaining columns in the training set using the modal class."
   ]
  },
  {
   "cell_type": "code",
   "execution_count": null,
   "metadata": {
    "execution": {
     "iopub.execute_input": "2022-06-10T23:08:26.367224Z",
     "iopub.status.busy": "2022-06-10T23:08:26.36648Z",
     "iopub.status.idle": "2022-06-10T23:08:26.381127Z",
     "shell.execute_reply": "2022-06-10T23:08:26.380207Z",
     "shell.execute_reply.started": "2022-06-10T23:08:26.367183Z"
    }
   },
   "outputs": [],
   "source": [
    "# Drop categorical columns that have at least 30% missing values\n",
    "large_na = [col for col in column_with_nan if (df_train_categ[col].isna().sum()/df_train_categ.shape[0]) > 0.3]\n",
    "\n",
    "print(\"Columns to be dropped:\")\n",
    "print(large_na)\n",
    "\n",
    "df_train_categ.drop(large_na, axis=1, inplace=True)"
   ]
  },
  {
   "cell_type": "code",
   "execution_count": null,
   "metadata": {
    "execution": {
     "iopub.execute_input": "2022-06-10T23:08:26.383161Z",
     "iopub.status.busy": "2022-06-10T23:08:26.382527Z",
     "iopub.status.idle": "2022-06-10T23:08:26.396857Z",
     "shell.execute_reply": "2022-06-10T23:08:26.395992Z",
     "shell.execute_reply.started": "2022-06-10T23:08:26.383115Z"
    }
   },
   "outputs": [],
   "source": [
    "# Fill the NaN of each feature by the corresponding modal class\n",
    "categ_fill_null = {\"GarageType\": df_train_categ[\"GarageType\"].mode().iloc[0],\n",
    "                   \"GarageFinish\": df_train_categ[\"GarageFinish\"].mode().iloc[0],\n",
    "                   \"BsmtQual\": df_train_categ[\"BsmtQual\"].mode().iloc[0],\n",
    "                   \"BsmtFinType1\": df_train_categ[\"BsmtFinType1\"].mode().iloc[0]}\n",
    "\n",
    "df_train_categ = df_train_categ.fillna(value=categ_fill_null)\n"
   ]
  },
  {
   "cell_type": "markdown",
   "metadata": {},
   "source": [
    "The columns that have been deleted in the training set must also be deleted in the testing set so that the two data sets remain identical for the modeling and prediction."
   ]
  },
  {
   "cell_type": "code",
   "execution_count": null,
   "metadata": {
    "execution": {
     "iopub.execute_input": "2022-06-10T23:08:26.399112Z",
     "iopub.status.busy": "2022-06-10T23:08:26.398172Z",
     "iopub.status.idle": "2022-06-10T23:08:26.405328Z",
     "shell.execute_reply": "2022-06-10T23:08:26.404103Z",
     "shell.execute_reply.started": "2022-06-10T23:08:26.39907Z"
    }
   },
   "outputs": [],
   "source": [
    "# Drop the same categorical columns from the test set\n",
    "df_test_categ.drop(large_na, axis=1, inplace=True)"
   ]
  },
  {
   "cell_type": "markdown",
   "metadata": {},
   "source": [
    "#### 1.3.2.2. Testing Set"
   ]
  },
  {
   "cell_type": "code",
   "execution_count": null,
   "metadata": {
    "execution": {
     "iopub.execute_input": "2022-06-10T23:08:26.40802Z",
     "iopub.status.busy": "2022-06-10T23:08:26.406831Z",
     "iopub.status.idle": "2022-06-10T23:08:26.710705Z",
     "shell.execute_reply": "2022-06-10T23:08:26.708024Z",
     "shell.execute_reply.started": "2022-06-10T23:08:26.407977Z"
    }
   },
   "outputs": [],
   "source": [
    "# Check the NaN of the test set by ploting percent of missing values per column\n",
    "column_with_nan = df_test_categ.columns[df_test_categ.isnull().any()]\n",
    "column_name = []\n",
    "percent_nan = []\n",
    "\n",
    "for i in column_with_nan:\n",
    "    column_name.append(i)\n",
    "    percent_nan.append(\n",
    "        round(df_test_categ[i].isnull().sum() * 100 / len(df_test_categ), 2))\n",
    "\n",
    "tab = pd.DataFrame(column_name, columns=[\"Column\"])\n",
    "tab[\"Percent_NaN\"] = percent_nan\n",
    "tab.sort_values(by=[\"Percent_NaN\"], ascending=False, inplace=True)\n",
    "\n",
    "\n",
    "# Define figure parameters\n",
    "sns.set(rc={\"figure.figsize\": (10, 7)})\n",
    "sns.set_style(\"whitegrid\")\n",
    "\n",
    "# Plot results\n",
    "p = sns.barplot(x=\"Percent_NaN\", y=\"Column\", data=tab,\n",
    "                edgecolor=\"black\", color=\"orchid\")\n",
    "p.set_title(\"Percent of NaN per column of the test set\\n\", fontsize=20)\n",
    "p.set_xlabel(\"\\nPercent of NaN (%)\", fontsize=20)\n",
    "p.set_ylabel(\"Column Name\\n\", fontsize=20)"
   ]
  },
  {
   "cell_type": "markdown",
   "metadata": {},
   "source": [
    "Apparently, columns in the test dataset have also missing values, but none of them have more than 6% missing values. Therefore, we will fill in each NaN entry for each feature using it's corresponding modal class as we did before."
   ]
  },
  {
   "cell_type": "code",
   "execution_count": null,
   "metadata": {
    "execution": {
     "iopub.execute_input": "2022-06-10T23:08:26.715413Z",
     "iopub.status.busy": "2022-06-10T23:08:26.714841Z",
     "iopub.status.idle": "2022-06-10T23:08:26.74058Z",
     "shell.execute_reply": "2022-06-10T23:08:26.739179Z",
     "shell.execute_reply.started": "2022-06-10T23:08:26.715372Z"
    }
   },
   "outputs": [],
   "source": [
    "# Fill the NaN of each feature by the corresponding modal class\n",
    "\n",
    "# Fill the NaN of each feature by the corresponding modal class\n",
    "categ_fill_null = {\"GarageType\": df_test_categ[\"GarageType\"].mode().iloc[0],\n",
    "                   \"GarageFinish\": df_test_categ[\"GarageFinish\"].mode().iloc[0],\n",
    "                   \"BsmtQual\": df_test_categ[\"BsmtQual\"].mode().iloc[0],\n",
    "                   \"BsmtFinType1\": df_test_categ[\"BsmtFinType1\"].mode().iloc[0],\n",
    "                   \"MSZoning\": df_test_categ[\"MSZoning\"].mode().iloc[0],\n",
    "                   \"Exterior1st\": df_test_categ[\"Exterior1st\"].mode().iloc[0],\n",
    "                   \"KitchenQual\": df_test_categ[\"KitchenQual\"].mode().iloc[0],\n",
    "                   \"SaleType\": df_test_categ[\"SaleType\"].mode().iloc[0]}\n",
    "\n",
    "df_test_categ = df_test_categ.fillna(value=categ_fill_null)\n"
   ]
  },
  {
   "cell_type": "code",
   "execution_count": null,
   "metadata": {
    "execution": {
     "iopub.execute_input": "2022-06-10T23:08:26.743629Z",
     "iopub.status.busy": "2022-06-10T23:08:26.743238Z",
     "iopub.status.idle": "2022-06-10T23:08:26.764713Z",
     "shell.execute_reply": "2022-06-10T23:08:26.762838Z",
     "shell.execute_reply.started": "2022-06-10T23:08:26.743599Z"
    }
   },
   "outputs": [],
   "source": [
    "print(f\"Training set shape (Categorical features): {df_train_categ.shape}\\n\")\n",
    "print(f\"Test set shape (Categorical features): {df_test_categ.shape}\\n\")"
   ]
  },
  {
   "cell_type": "markdown",
   "metadata": {},
   "source": [
    "At the end of the day, we have 20 categorical predictors in our data sets now to move forwad in our analysis.  "
   ]
  },
  {
   "cell_type": "markdown",
   "metadata": {},
   "source": [
    "### <font color='darkblue'>I.3.3. Transform Categorical features into Binary features</font>"
   ]
  },
  {
   "cell_type": "markdown",
   "metadata": {},
   "source": [
    "Before combining the categorical data with the numerical data obtained after cleansing, we need to transform the categorical entries into numerical entries. This will be done using the get_dummies() function where each categorical feature will be transformed into a binary feature."
   ]
  },
  {
   "cell_type": "code",
   "execution_count": null,
   "metadata": {
    "execution": {
     "iopub.execute_input": "2022-06-10T23:08:26.768568Z",
     "iopub.status.busy": "2022-06-10T23:08:26.767591Z",
     "iopub.status.idle": "2022-06-10T23:08:26.838883Z",
     "shell.execute_reply": "2022-06-10T23:08:26.837808Z",
     "shell.execute_reply.started": "2022-06-10T23:08:26.768527Z"
    }
   },
   "outputs": [],
   "source": [
    "# Drop the SalePrice column from the training dataset\n",
    "df_train_categ.drop([\"SalePrice\"], axis = 1, inplace = True)\n",
    "\n",
    "# Use get_dummies to transform the Categorical features into Binary features (Training dataset)\n",
    "df_train_dummies = pd.get_dummies(df_train_categ)\n",
    "df_train_dummies.head()"
   ]
  },
  {
   "cell_type": "code",
   "execution_count": null,
   "metadata": {
    "execution": {
     "iopub.execute_input": "2022-06-10T23:08:26.84445Z",
     "iopub.status.busy": "2022-06-10T23:08:26.843629Z",
     "iopub.status.idle": "2022-06-10T23:08:26.898082Z",
     "shell.execute_reply": "2022-06-10T23:08:26.895815Z",
     "shell.execute_reply.started": "2022-06-10T23:08:26.844402Z"
    }
   },
   "outputs": [],
   "source": [
    "# Apply get_dummies to the test dataset as well\n",
    "df_test_dummies = pd.get_dummies(df_test_categ)\n",
    "df_test_dummies.head()"
   ]
  },
  {
   "cell_type": "markdown",
   "metadata": {},
   "source": [
    "For precaution, let's check if the column headings are the same in both data sets just transformed. "
   ]
  },
  {
   "cell_type": "code",
   "execution_count": null,
   "metadata": {
    "execution": {
     "iopub.execute_input": "2022-06-10T23:08:26.904919Z",
     "iopub.status.busy": "2022-06-10T23:08:26.902131Z",
     "iopub.status.idle": "2022-06-10T23:08:26.916135Z",
     "shell.execute_reply": "2022-06-10T23:08:26.915084Z",
     "shell.execute_reply.started": "2022-06-10T23:08:26.904882Z"
    }
   },
   "outputs": [],
   "source": [
    "# Check if the column headings are the same in both data sets: data_train_dummies and data_test_dummies\n",
    "dif_1 = [x for x in df_train_dummies.columns if x not in df_test_dummies.columns]\n",
    "print(f\"Features present in df_train_categ and absent in df_test_categ: {dif_1}\\n\")\n",
    "\n",
    "dif_2 = [x for x in df_test_dummies.columns if x not in df_train_dummies.columns]\n",
    "print(f\"Features present in df_test_categ set and absent in df_train_categ: {dif_2}\")"
   ]
  },
  {
   "cell_type": "markdown",
   "metadata": {},
   "source": [
    "Three of these columns from the training dataset are not present in the test dataset. Thus they will be dropped from the training dataset to ensure that both datasets have exactly the same features."
   ]
  },
  {
   "cell_type": "code",
   "execution_count": null,
   "metadata": {
    "execution": {
     "iopub.execute_input": "2022-06-10T23:08:26.923813Z",
     "iopub.status.busy": "2022-06-10T23:08:26.921009Z",
     "iopub.status.idle": "2022-06-10T23:08:26.939409Z",
     "shell.execute_reply": "2022-06-10T23:08:26.936381Z",
     "shell.execute_reply.started": "2022-06-10T23:08:26.923767Z"
    }
   },
   "outputs": [],
   "source": [
    "# Drop the columns listed in dif_1 from data_train_dummies\n",
    "df_train_dummies.drop(dif_1, axis=1, inplace=True)\n",
    "\n",
    "# Check again if the column headings are the same in both data sets: data_train_dummies and data_test_dummies\n",
    "dif_1 = [x for x in df_train_dummies.columns if x not in df_test_dummies.columns]\n",
    "print(f\"Features present in df_train_categ and absent in df_test_categ: {dif_1}\\n\")\n",
    "\n",
    "dif_2 = [x for x in df_test_dummies.columns if x not in df_test_dummies.columns]\n",
    "print(f\"Features present in df_test_categ set and absent in df_train_categ: {dif_2}\")"
   ]
  },
  {
   "cell_type": "markdown",
   "metadata": {},
   "source": [
    "Perfect! What about the shape of both datasets now?"
   ]
  },
  {
   "cell_type": "code",
   "execution_count": null,
   "metadata": {
    "execution": {
     "iopub.execute_input": "2022-06-10T23:08:26.941354Z",
     "iopub.status.busy": "2022-06-10T23:08:26.940966Z",
     "iopub.status.idle": "2022-06-10T23:08:26.948889Z",
     "shell.execute_reply": "2022-06-10T23:08:26.947916Z",
     "shell.execute_reply.started": "2022-06-10T23:08:26.941315Z"
    }
   },
   "outputs": [],
   "source": [
    "print(f\"Training set shape (Categorical features): {df_train_dummies.shape}\\n\")\n",
    "print(f\"Test set shape (Categorical features): {df_test_dummies.shape}\\n\")"
   ]
  },
  {
   "cell_type": "markdown",
   "metadata": {},
   "source": [
    "### <font color='forestgreen'>I.4. Merge numerical and binary features into one data set</font>"
   ]
  },
  {
   "cell_type": "markdown",
   "metadata": {},
   "source": [
    "This short part aims to join numerical and categorical datasets together before priming the modeling. "
   ]
  },
  {
   "cell_type": "code",
   "execution_count": null,
   "metadata": {
    "execution": {
     "iopub.execute_input": "2022-06-10T23:08:26.958974Z",
     "iopub.status.busy": "2022-06-10T23:08:26.951021Z",
     "iopub.status.idle": "2022-06-10T23:08:26.970298Z",
     "shell.execute_reply": "2022-06-10T23:08:26.9689Z",
     "shell.execute_reply.started": "2022-06-10T23:08:26.958933Z"
    }
   },
   "outputs": [],
   "source": [
    "# Training set\n",
    "df_train_new = pd.concat([df_train_imputed, df_train_dummies], axis = 1)\n",
    "print(f\"Train set: {df_train_new.shape}\")\n",
    "\n",
    "# Test set\n",
    "df_test_new = pd.concat([df_test_imputed, df_test_dummies], axis = 1)\n",
    "print(f\"Test set: {df_test_new.shape}\")"
   ]
  },
  {
   "cell_type": "markdown",
   "metadata": {},
   "source": [
    "### <font color='forestgreen'>I.5. Drop outliers from the train set</font>"
   ]
  },
  {
   "cell_type": "code",
   "execution_count": null,
   "metadata": {
    "execution": {
     "iopub.execute_input": "2022-06-10T23:08:26.972359Z",
     "iopub.status.busy": "2022-06-10T23:08:26.971907Z",
     "iopub.status.idle": "2022-06-10T23:08:26.996908Z",
     "shell.execute_reply": "2022-06-10T23:08:26.99606Z",
     "shell.execute_reply.started": "2022-06-10T23:08:26.972319Z"
    }
   },
   "outputs": [],
   "source": [
    "# Let's handle the outliers in \"GrLivArea\", \"TotalBsmtSF\" and \"GarageArea\"\n",
    "# Outliers in \"GrLivArea\"\n",
    "outliers1 = df_train_new[(df_train_new[\"GrLivArea\"] > 4000) & (\n",
    "    df_train_new[\"SalePrice\"] <= 300000)].index.tolist()\n",
    "\n",
    "# Outliers in \"TotalBsmtSF\"\n",
    "outliers2 = df_train_new[(df_train_new[\"TotalBsmtSF\"] > 4000) & (\n",
    "    df_train_new[\"SalePrice\"] <= 200000)].index.tolist()\n",
    "\n",
    "# List of all the outliers\n",
    "outliers = outliers1 + outliers2\n",
    "outliers = list(set(outliers))\n",
    "print(outliers)\n",
    "\n",
    "# Drop these outlier\n",
    "df_train_new = df_train_new.drop(df_train_new.index[outliers])\n",
    "\n",
    "# Reset index\n",
    "df_train_new = df_train_new.reset_index().drop(\"index\", axis=1)"
   ]
  },
  {
   "cell_type": "markdown",
   "metadata": {},
   "source": [
    "# <font color='goldenrod'> II. Feature engineering </font>"
   ]
  },
  {
   "cell_type": "markdown",
   "metadata": {},
   "source": [
    "The Year of construction and the Year of Remodelling variables will be transformed into new variables representing the Age of the House and the Age since the house was remodelled - this will enable us to apply a log transformation to normalize those variables. After the transformation, the variables \"YearBuilt\" and \"YearRemodAdd\" will be removed."
   ]
  },
  {
   "cell_type": "code",
   "execution_count": null,
   "metadata": {
    "execution": {
     "iopub.execute_input": "2022-06-10T23:08:27.00098Z",
     "iopub.status.busy": "2022-06-10T23:08:27.000528Z",
     "iopub.status.idle": "2022-06-10T23:08:27.019132Z",
     "shell.execute_reply": "2022-06-10T23:08:27.018151Z",
     "shell.execute_reply.started": "2022-06-10T23:08:27.000943Z"
    }
   },
   "outputs": [],
   "source": [
    "# Convert Year of construction to the Age of the house since the construction\n",
    "df_train_new[\"AgeSinceConst\"] = (df_train_new[\"YearBuilt\"].max() - df_train_new[\"YearBuilt\"])\n",
    "\n",
    "df_test_new[\"AgeSinceConst\"] = (df_test_new[\"YearBuilt\"].max() - df_test_new[\"YearBuilt\"])\n",
    "\n",
    "# Drop \"YearBuilt\"\n",
    "df_train_new.drop([\"YearBuilt\"], axis=1, inplace=True)\n",
    "df_test_new.drop([\"YearBuilt\"], axis=1, inplace=True)"
   ]
  },
  {
   "cell_type": "code",
   "execution_count": null,
   "metadata": {
    "execution": {
     "iopub.execute_input": "2022-06-10T23:08:27.023252Z",
     "iopub.status.busy": "2022-06-10T23:08:27.022868Z",
     "iopub.status.idle": "2022-06-10T23:08:27.040067Z",
     "shell.execute_reply": "2022-06-10T23:08:27.039152Z",
     "shell.execute_reply.started": "2022-06-10T23:08:27.023217Z"
    }
   },
   "outputs": [],
   "source": [
    "# Convert Year of remodeling to the Age of the house since the remodeling\n",
    "df_train_new[\"AgeSinceRemod\"] = (df_train_new[\"YearRemodAdd\"].max() - df_train_new[\"YearRemodAdd\"])\n",
    "\n",
    "df_test_new[\"AgeSinceRemod\"] = (df_test_new[\"YearRemodAdd\"].max() - df_test_new[\"YearRemodAdd\"])\n",
    "\n",
    "# Drop \"YearRemodAdd\"\n",
    "df_train_new.drop([\"YearRemodAdd\"], axis=1, inplace=True)\n",
    "df_test_new.drop([\"YearRemodAdd\"], axis=1, inplace=True)"
   ]
  },
  {
   "cell_type": "code",
   "execution_count": null,
   "metadata": {
    "execution": {
     "iopub.execute_input": "2022-06-10T23:08:27.044255Z",
     "iopub.status.busy": "2022-06-10T23:08:27.043882Z",
     "iopub.status.idle": "2022-06-10T23:08:27.075336Z",
     "shell.execute_reply": "2022-06-10T23:08:27.074538Z",
     "shell.execute_reply.started": "2022-06-10T23:08:27.044218Z"
    }
   },
   "outputs": [],
   "source": [
    "df_test_new.head()"
   ]
  },
  {
   "cell_type": "markdown",
   "metadata": {},
   "source": [
    "Now, we consider the continuous numerical variables that are skewed. A Log transformation will be applied to the skewed numerical variables to help mitigate the strong variation of some variables, and to reduce redundancy. The continuous features are defined below."
   ]
  },
  {
   "cell_type": "code",
   "execution_count": null,
   "metadata": {
    "execution": {
     "iopub.execute_input": "2022-06-10T23:08:27.076961Z",
     "iopub.status.busy": "2022-06-10T23:08:27.076445Z",
     "iopub.status.idle": "2022-06-10T23:08:27.099185Z",
     "shell.execute_reply": "2022-06-10T23:08:27.097263Z",
     "shell.execute_reply.started": "2022-06-10T23:08:27.076922Z"
    }
   },
   "outputs": [],
   "source": [
    "continuous_features = [\"OverallQual\", \"TotalBsmtSF\", \"GrLivArea\",\n",
    "                       \"FullBath\", \"GarageArea\",\"MasVnrArea\", \"Fireplaces\", \"AgeSinceConst\", \"AgeSinceRemod\"]\n",
    "df_skew_verify = df_train_new.loc[:, continuous_features]\n",
    "df_skew_verify.head()"
   ]
  },
  {
   "cell_type": "markdown",
   "metadata": {},
   "source": [
    "To obtain the skewed features, we take out variables that are more than 50% skewed."
   ]
  },
  {
   "cell_type": "code",
   "execution_count": null,
   "metadata": {
    "execution": {
     "iopub.execute_input": "2022-06-10T23:08:27.10445Z",
     "iopub.status.busy": "2022-06-10T23:08:27.103947Z",
     "iopub.status.idle": "2022-06-10T23:08:27.133364Z",
     "shell.execute_reply": "2022-06-10T23:08:27.132521Z",
     "shell.execute_reply.started": "2022-06-10T23:08:27.104408Z"
    }
   },
   "outputs": [],
   "source": [
    "df_skew_verify = df_train_new.loc[:, continuous_features]\n",
    "\n",
    "# Select features with absolute Skew higher than 0.5\n",
    "skew_ft = []\n",
    "\n",
    "for i in continuous_features:\n",
    "    # list of skew for each corresponding feature\n",
    "    skew_ft.append(abs(df_skew_verify[i].skew()))\n",
    "\n",
    "df_skewed = pd.DataFrame({\"Columns\": continuous_features, \"Abs_Skew\": skew_ft})\n",
    "\n",
    "\n",
    "sk_features = df_skewed[df_skewed[\"Abs_Skew\"] > 0.5][\"Columns\"].tolist()\n",
    "print(f\"List of skewed features: {sk_features}\")"
   ]
  },
  {
   "cell_type": "markdown",
   "metadata": {},
   "source": [
    "A log transformation can now be applied to the skewed features listed above."
   ]
  },
  {
   "cell_type": "code",
   "execution_count": null,
   "metadata": {
    "execution": {
     "iopub.execute_input": "2022-06-10T23:08:27.134919Z",
     "iopub.status.busy": "2022-06-10T23:08:27.134423Z",
     "iopub.status.idle": "2022-06-10T23:08:27.151434Z",
     "shell.execute_reply": "2022-06-10T23:08:27.150341Z",
     "shell.execute_reply.started": "2022-06-10T23:08:27.134882Z"
    }
   },
   "outputs": [],
   "source": [
    "# Log transformation of the skewed features\n",
    "for i in sk_features:\n",
    "    # loop over i (features) to calculate Log of surfaces\n",
    "    # Training set\n",
    "    df_train_new[i] = np.log((df_train_new[i])+1)\n",
    "    \n",
    "    # Test set\n",
    "    df_test_new[i] = np.log((df_test_new[i])+1)"
   ]
  },
  {
   "cell_type": "markdown",
   "metadata": {},
   "source": [
    "Looking at the distribution of the numerical features right from the begining, we can notice that \"SalePrice\" is skewed as well. To help normalize this variable, a log transformation will be applied to \"SalePrice\" as well."
   ]
  },
  {
   "cell_type": "code",
   "execution_count": null,
   "metadata": {
    "execution": {
     "iopub.execute_input": "2022-06-10T23:08:27.15337Z",
     "iopub.status.busy": "2022-06-10T23:08:27.152859Z",
     "iopub.status.idle": "2022-06-10T23:08:27.161062Z",
     "shell.execute_reply": "2022-06-10T23:08:27.160152Z",
     "shell.execute_reply.started": "2022-06-10T23:08:27.153331Z"
    }
   },
   "outputs": [],
   "source": [
    "# Log transformation of the target variable \"SalePrice\"\n",
    "df_train_new[\"SalePriceLog\"] = np.log(df_train_new.SalePrice)\n",
    "\n",
    "# Drop the original SalePrice\n",
    "df_train_new.drop([\"SalePrice\"], axis=1, inplace=True)"
   ]
  },
  {
   "cell_type": "code",
   "execution_count": null,
   "metadata": {
    "execution": {
     "iopub.execute_input": "2022-06-10T23:08:27.164866Z",
     "iopub.status.busy": "2022-06-10T23:08:27.163542Z",
     "iopub.status.idle": "2022-06-10T23:08:27.203703Z",
     "shell.execute_reply": "2022-06-10T23:08:27.20277Z",
     "shell.execute_reply.started": "2022-06-10T23:08:27.164751Z"
    }
   },
   "outputs": [],
   "source": [
    "df_train_new"
   ]
  },
  {
   "cell_type": "code",
   "execution_count": null,
   "metadata": {
    "execution": {
     "iopub.execute_input": "2022-06-10T23:08:27.205656Z",
     "iopub.status.busy": "2022-06-10T23:08:27.20516Z",
     "iopub.status.idle": "2022-06-10T23:08:30.570773Z",
     "shell.execute_reply": "2022-06-10T23:08:30.569998Z",
     "shell.execute_reply.started": "2022-06-10T23:08:27.205621Z"
    }
   },
   "outputs": [],
   "source": [
    "numerical_cols_new = [cname for cname in df_train_new.columns if \n",
    "                      df_train_new[cname].dtype in ['int64', 'float64']]\n",
    "\n",
    "df_train_new_num = df_train_new[numerical_cols_new].copy()\n",
    "\n",
    "# Plot the distribution of all the numerical features\n",
    "fig_ = df_train_new_num.hist(figsize=(30, 35), bins=50, color=\"darkviolet\",\n",
    "                               edgecolor=\"black\", xlabelsize=8, ylabelsize=8)"
   ]
  },
  {
   "cell_type": "markdown",
   "metadata": {},
   "source": [
    "Looking at the distribution of the numerical features, we notice that most of the previously skewed variables have a more normal distribution with exception of the Age variables, which should result in better predictons."
   ]
  },
  {
   "cell_type": "markdown",
   "metadata": {},
   "source": [
    "# <font color='goldenrod'>III.  Preparing data for modeling</font>"
   ]
  },
  {
   "cell_type": "markdown",
   "metadata": {},
   "source": [
    "We cannot fit and evaluate machine learning algorithms on raw data; instead, we must transform the data to meet the requirements of individual machine learning algorithms. More than that, we must choose a representation for the data that best exposes the unknown underlying structure of the prediction problem to the learning algorithms in order to get the best performance given our available resources on this predictive modeling project.\n",
    "\n",
    "To achieve this goal, we will follow the steps below:"
   ]
  },
  {
   "cell_type": "markdown",
   "metadata": {},
   "source": [
    "### <font color='forestgreen'>III.1. Split data into train and test set and Standardization"
   ]
  },
  {
   "cell_type": "code",
   "execution_count": null,
   "metadata": {
    "execution": {
     "iopub.execute_input": "2022-06-10T23:08:30.572628Z",
     "iopub.status.busy": "2022-06-10T23:08:30.572118Z",
     "iopub.status.idle": "2022-06-10T23:08:30.580714Z",
     "shell.execute_reply": "2022-06-10T23:08:30.579966Z",
     "shell.execute_reply.started": "2022-06-10T23:08:30.572591Z"
    }
   },
   "outputs": [],
   "source": [
    "# Extract the features (X) and the target (y)\n",
    "# Features (X)\n",
    "X = df_train_new[[i for i in list(\n",
    "    df_train_new.columns) if i != \"SalePriceLog\"]]\n",
    "print(X.shape)\n",
    "\n",
    "# Target (y)\n",
    "y = df_train_new.loc[:, \"SalePriceLog\"]\n",
    "print(y.shape)"
   ]
  },
  {
   "cell_type": "code",
   "execution_count": null,
   "metadata": {
    "execution": {
     "iopub.execute_input": "2022-06-10T23:08:30.582662Z",
     "iopub.status.busy": "2022-06-10T23:08:30.582176Z",
     "iopub.status.idle": "2022-06-10T23:08:30.594405Z",
     "shell.execute_reply": "2022-06-10T23:08:30.593267Z",
     "shell.execute_reply.started": "2022-06-10T23:08:30.582624Z"
    }
   },
   "outputs": [],
   "source": [
    "# Split into X_train and X_test (by stratifying on y)\n",
    "# Stratify on a continuous variable by splitting it in bins\n",
    "# Create the bins.\n",
    "bins = np.linspace(0, len(y), 150)\n",
    "y_binned = np.digitize(y, bins)\n",
    "\n",
    "# Split the data\n",
    "X_train, X_test, y_train, y_test = train_test_split(X, y, test_size=0.2,\n",
    "                                                    stratify=y_binned, shuffle=True)\n",
    "print(f\"X_train:{X_train.shape}\\ny_train:{y_train.shape}\")\n",
    "print(f\"\\nX_test:{X_test.shape}\\ny_test:{y_test.shape}\")"
   ]
  },
  {
   "cell_type": "code",
   "execution_count": null,
   "metadata": {
    "execution": {
     "iopub.execute_input": "2022-06-10T23:08:30.604124Z",
     "iopub.status.busy": "2022-06-10T23:08:30.603636Z",
     "iopub.status.idle": "2022-06-10T23:08:30.630096Z",
     "shell.execute_reply": "2022-06-10T23:08:30.629336Z",
     "shell.execute_reply.started": "2022-06-10T23:08:30.604085Z"
    }
   },
   "outputs": [],
   "source": [
    "from sklearn import preprocessing\n",
    "\n",
    "# Standardize the data\n",
    "std_scale = preprocessing.StandardScaler().fit(X_train)\n",
    "X_train = std_scale.transform(X_train)\n",
    "X_test = std_scale.transform(X_test)\n",
    "# The same standardization is applied for df_test_new\n",
    "df_test_new = std_scale.transform(df_test_new)\n",
    "\n",
    "\n",
    "# The output of standardization is a vector. Let's turn it into a table\n",
    "# Convert X, y and test data into dataframe\n",
    "X_train = pd.DataFrame(X_train, columns=X.columns)\n",
    "X_test = pd.DataFrame(X_test, columns=X.columns)\n",
    "df_test_new = pd.DataFrame(df_test_new, columns=X.columns)\n",
    "\n",
    "y_train = pd.DataFrame(y_train)\n",
    "y_train = y_train.reset_index().drop(\"index\", axis=1)\n",
    "\n",
    "y_test = pd.DataFrame(y_test)\n",
    "y_test = y_test.reset_index().drop(\"index\", axis=1)"
   ]
  },
  {
   "cell_type": "markdown",
   "metadata": {},
   "source": [
    "### <font color='forestgreen'>III.2. Backward Stepwise Regression<font>"
   ]
  },
  {
   "cell_type": "markdown",
   "metadata": {},
   "source": [
    "Backward Stepwise Regression is a stepwise regression approach that begins with a full (saturated) model and at each step gradually eliminates variables from the regression model to find a reduced model that best explains the data. Also known as Backward Elimination regression."
   ]
  },
  {
   "cell_type": "code",
   "execution_count": null,
   "metadata": {
    "execution": {
     "iopub.execute_input": "2022-06-10T23:08:30.632004Z",
     "iopub.status.busy": "2022-06-10T23:08:30.631259Z",
     "iopub.status.idle": "2022-06-10T23:08:35.275011Z",
     "shell.execute_reply": "2022-06-10T23:08:35.274113Z",
     "shell.execute_reply.started": "2022-06-10T23:08:30.631967Z"
    }
   },
   "outputs": [],
   "source": [
    "Selected_Features = []\n",
    "\n",
    "\n",
    "def backward_regression(X, y, initial_list=[], threshold_in=0.01, threshold_out=0.05, verbose=True):\n",
    "    \"\"\"To select feature with Backward Stepwise Regression \n",
    "\n",
    "    Args:\n",
    "        X -- features values\n",
    "        y -- target variable\n",
    "        initial_list -- features header\n",
    "        threshold_in -- pvalue threshold of features to keep\n",
    "        threshold_out -- pvalue threshold of features to drop\n",
    "        verbose -- true to produce lots of logging output\n",
    "\n",
    "    Returns:\n",
    "        list of selected features for modeling \n",
    "    \"\"\"\n",
    "    included = list(X.columns)\n",
    "    while True:\n",
    "        changed = False\n",
    "        model = sm.OLS(y, sm.add_constant(pd.DataFrame(X[included]))).fit()\n",
    "        # use all coefs except intercept\n",
    "        pvalues = model.pvalues.iloc[1:]\n",
    "        worst_pval = pvalues.max()  # null if pvalues is empty\n",
    "        if worst_pval > threshold_out:\n",
    "            changed = True\n",
    "            worst_feature = pvalues.idxmax()\n",
    "            included.remove(worst_feature)\n",
    "            if verbose:\n",
    "                print(f\"worst_feature : {worst_feature}, {worst_pval} \")\n",
    "        if not changed:\n",
    "            break\n",
    "    Selected_Features.append(included)\n",
    "    print(f\"\\nSelected Features:\\n{Selected_Features[0]}\")\n",
    "\n",
    "\n",
    "# Application of the backward regression function on our training data\n",
    "backward_regression(X_train, y_train)"
   ]
  },
  {
   "cell_type": "code",
   "execution_count": null,
   "metadata": {
    "execution": {
     "iopub.execute_input": "2022-06-10T23:08:35.2799Z",
     "iopub.status.busy": "2022-06-10T23:08:35.279328Z",
     "iopub.status.idle": "2022-06-10T23:08:35.292846Z",
     "shell.execute_reply": "2022-06-10T23:08:35.291738Z",
     "shell.execute_reply.started": "2022-06-10T23:08:35.279857Z"
    }
   },
   "outputs": [],
   "source": [
    "# Keep the selected features only\n",
    "X_train = X_train.loc[:, Selected_Features[0]]\n",
    "X_test = X_test.loc[:, Selected_Features[0]]\n",
    "df_test_new = df_test_new.loc[:, Selected_Features[0]]"
   ]
  },
  {
   "cell_type": "markdown",
   "metadata": {},
   "source": [
    "### <font color='forestgreen'>III.3. Variance Inflation Factor (VIF) <font>"
   ]
  },
  {
   "cell_type": "markdown",
   "metadata": {},
   "source": [
    "Variance inflation factor (VIF) is a measure of the amount of multicollinearity in a set of multiple regression variables. Mathematically, the VIF for a regression model variable is equal to the ratio of the overall model variance to the variance of a model that includes only that single independent variable.\n",
    "\n",
    "A feature with a VIF higher than 10 implies (5 is also common) that there is a multi-collinearity with the latter."
   ]
  },
  {
   "cell_type": "code",
   "execution_count": null,
   "metadata": {
    "execution": {
     "iopub.execute_input": "2022-06-10T23:08:35.298104Z",
     "iopub.status.busy": "2022-06-10T23:08:35.295843Z",
     "iopub.status.idle": "2022-06-10T23:08:35.843803Z",
     "shell.execute_reply": "2022-06-10T23:08:35.842949Z",
     "shell.execute_reply.started": "2022-06-10T23:08:35.298031Z"
    }
   },
   "outputs": [],
   "source": [
    "# Here I calculate VIF for each feature\n",
    "vif = pd.DataFrame()\n",
    "vif[\"VIF Factor\"] = [variance_inflation_factor(\n",
    "    X_train.values, i) for i in range(X_train.shape[1])]\n",
    "\n",
    "# VIF results in a table\n",
    "vif[\"features\"] = X_train.columns\n",
    "vif.round(1)"
   ]
  },
  {
   "cell_type": "code",
   "execution_count": null,
   "metadata": {
    "execution": {
     "iopub.execute_input": "2022-06-10T23:08:35.850526Z",
     "iopub.status.busy": "2022-06-10T23:08:35.84816Z",
     "iopub.status.idle": "2022-06-10T23:08:35.862898Z",
     "shell.execute_reply": "2022-06-10T23:08:35.861869Z",
     "shell.execute_reply.started": "2022-06-10T23:08:35.850483Z"
    }
   },
   "outputs": [],
   "source": [
    "# Select features with high VIF\n",
    "high_vif_list = vif[vif[\"VIF Factor\"] > 10][\"features\"].tolist()\n",
    "\n",
    "if len(high_vif_list) == 0:\n",
    "    # print empty list if low multicolinearity\n",
    "    print(f\"None of the features have a high multicollinearity\")\n",
    "else:\n",
    "    # print list of features with high multicolinearity\n",
    "    print(f\"List of features with high multicollinearity: {high_vif_list}\")"
   ]
  },
  {
   "cell_type": "markdown",
   "metadata": {},
   "source": [
    "There are two features with high multicolinearity. Let's drop them from both the training and the testing set. "
   ]
  },
  {
   "cell_type": "code",
   "execution_count": null,
   "metadata": {
    "execution": {
     "iopub.execute_input": "2022-06-10T23:08:35.871456Z",
     "iopub.status.busy": "2022-06-10T23:08:35.868891Z",
     "iopub.status.idle": "2022-06-10T23:08:35.882259Z",
     "shell.execute_reply": "2022-06-10T23:08:35.881286Z",
     "shell.execute_reply.started": "2022-06-10T23:08:35.87141Z"
    }
   },
   "outputs": [],
   "source": [
    "# Drop features with high multicollinearity from X_train, X_test and df_test_new\n",
    "X_train.drop(high_vif_list, axis=1, inplace=True)\n",
    "\n",
    "X_test.drop(high_vif_list, axis=1, inplace=True)\n",
    "\n",
    "df_test_new.drop(high_vif_list, axis=1, inplace=True)"
   ]
  },
  {
   "cell_type": "markdown",
   "metadata": {},
   "source": [
    "### <font color='forestgreen'>III.4. Cook distance<font>"
   ]
  },
  {
   "cell_type": "markdown",
   "metadata": {},
   "source": [
    "By calculating Cook distance we can detect influential observations in a regression model. Cook distance detects data with large residuals (outliers) that can distort the prediction and the accuracy of a regression."
   ]
  },
  {
   "cell_type": "code",
   "execution_count": null,
   "metadata": {
    "execution": {
     "iopub.execute_input": "2022-06-10T23:08:35.88412Z",
     "iopub.status.busy": "2022-06-10T23:08:35.883708Z",
     "iopub.status.idle": "2022-06-10T23:08:35.931524Z",
     "shell.execute_reply": "2022-06-10T23:08:35.930644Z",
     "shell.execute_reply.started": "2022-06-10T23:08:35.884082Z"
    }
   },
   "outputs": [],
   "source": [
    "X_constant = sm.add_constant(X_train)\n",
    "\n",
    "model = sm.OLS(y_train, X_constant)\n",
    "lr = model.fit()\n",
    "\n",
    "# Cook distance\n",
    "np.set_printoptions(suppress=True)\n",
    "\n",
    "# Create an instance of influence\n",
    "influence = lr.get_influence()\n",
    "\n",
    "# Get Cook's distance for each observation\n",
    "cooks = influence.cooks_distance\n",
    "\n",
    "# Result as a dataframe\n",
    "cook_df = pd.DataFrame({\"Cook_Distance\": cooks[0], \"p_value\": cooks[1]})\n",
    "cook_df.head()"
   ]
  },
  {
   "cell_type": "code",
   "execution_count": null,
   "metadata": {
    "execution": {
     "iopub.execute_input": "2022-06-10T23:08:35.938757Z",
     "iopub.status.busy": "2022-06-10T23:08:35.936075Z",
     "iopub.status.idle": "2022-06-10T23:08:35.954641Z",
     "shell.execute_reply": "2022-06-10T23:08:35.95343Z",
     "shell.execute_reply.started": "2022-06-10T23:08:35.938692Z"
    }
   },
   "outputs": [],
   "source": [
    "# Remove the influential observation from X_train and y_train\n",
    "influent_observation = cook_df[cook_df[\"p_value\"] < 0.05].index.tolist()\n",
    "print(f\"Influential observations dropped: {influent_observation}\")\n",
    "\n",
    "# Drop these obsrevations\n",
    "X_train = X_train.drop(X_train.index[influent_observation])\n",
    "y_train = y_train.drop(y_train.index[influent_observation])"
   ]
  },
  {
   "cell_type": "markdown",
   "metadata": {},
   "source": [
    "No influencial observation detected based on Cook distance. "
   ]
  },
  {
   "cell_type": "markdown",
   "metadata": {},
   "source": [
    "# <font color='goldenrod'>IV. Modeling</font>"
   ]
  },
  {
   "cell_type": "markdown",
   "metadata": {},
   "source": [
    "### Outlines"
   ]
  },
  {
   "cell_type": "markdown",
   "metadata": {},
   "source": [
    "For this section, six supervised learning models will be considered:\n",
    "\n",
    "* Linear Regression\n",
    "* Ridge Regression\n",
    "* Lasso Regression\n",
    "* Decision Tree Regressor\n",
    "* Random Forest Regressor\n",
    "* XGBoost Regressor\n",
    "\n",
    "To measure model performance and their predicitons the RMSE and R^{2} scores will be used, and 5-fold cross-validation will also be used."
   ]
  },
  {
   "cell_type": "markdown",
   "metadata": {},
   "source": [
    "### Importing Libraries"
   ]
  },
  {
   "cell_type": "code",
   "execution_count": null,
   "metadata": {
    "execution": {
     "iopub.execute_input": "2022-06-10T23:08:35.957154Z",
     "iopub.status.busy": "2022-06-10T23:08:35.95667Z",
     "iopub.status.idle": "2022-06-10T23:08:38.439802Z",
     "shell.execute_reply": "2022-06-10T23:08:38.439038Z",
     "shell.execute_reply.started": "2022-06-10T23:08:35.957115Z"
    }
   },
   "outputs": [],
   "source": [
    "import sklearn\n",
    "from sklearn.metrics import mean_squared_error, r2_score\n",
    "from sklearn.linear_model import LinearRegression\n",
    "from sklearn.linear_model import Ridge\n",
    "from sklearn.linear_model import Lasso\n",
    "from sklearn.tree import DecisionTreeRegressor\n",
    "from sklearn.linear_model import ElasticNet\n",
    "from sklearn.svm import SVR\n",
    "from sklearn.ensemble import RandomForestRegressor\n",
    "from xgboost import XGBRegressor\n",
    "from lightgbm import LGBMRegressor"
   ]
  },
  {
   "cell_type": "markdown",
   "metadata": {},
   "source": [
    "### Defining Models"
   ]
  },
  {
   "cell_type": "code",
   "execution_count": null,
   "metadata": {
    "execution": {
     "iopub.execute_input": "2022-06-10T23:08:38.441577Z",
     "iopub.status.busy": "2022-06-10T23:08:38.441231Z",
     "iopub.status.idle": "2022-06-10T23:08:38.44747Z",
     "shell.execute_reply": "2022-06-10T23:08:38.446624Z",
     "shell.execute_reply.started": "2022-06-10T23:08:38.441541Z"
    }
   },
   "outputs": [],
   "source": [
    "model_lin = LinearRegression()\n",
    "model_ridge = Ridge(alpha = 0.001)\n",
    "model_lasso = Lasso(alpha = 0.001)\n",
    "model_tree = DecisionTreeRegressor()\n",
    "model_ran = RandomForestRegressor()\n",
    "model_xg = XGBRegressor()"
   ]
  },
  {
   "cell_type": "markdown",
   "metadata": {},
   "source": [
    "### Defining Performance Metrics"
   ]
  },
  {
   "cell_type": "code",
   "execution_count": null,
   "metadata": {
    "execution": {
     "iopub.execute_input": "2022-06-10T23:08:38.449495Z",
     "iopub.status.busy": "2022-06-10T23:08:38.448961Z",
     "iopub.status.idle": "2022-06-10T23:08:38.458023Z",
     "shell.execute_reply": "2022-06-10T23:08:38.45728Z",
     "shell.execute_reply.started": "2022-06-10T23:08:38.449434Z"
    }
   },
   "outputs": [],
   "source": [
    "from sklearn.metrics import mean_squared_error, r2_score\n",
    "\n",
    "# Define a function for each metric\n",
    "# R²\n",
    "def rsqr_score(test, pred):\n",
    "    \"\"\"Calculate R squared score \n",
    "\n",
    "    Args:\n",
    "        test -- test data\n",
    "        pred -- predicted data\n",
    "\n",
    "    Returns:\n",
    "        R squared score \n",
    "    \"\"\"\n",
    "    r2_ = r2_score(test, pred)\n",
    "    return r2_\n",
    "\n",
    "\n",
    "# RMSE\n",
    "def rmse_score(test, pred):\n",
    "    \"\"\"Calculate Root Mean Square Error score \n",
    "\n",
    "    Args:\n",
    "        test -- test data\n",
    "        pred -- predicted data\n",
    "\n",
    "    Returns:\n",
    "        Root Mean Square Error score\n",
    "    \"\"\"\n",
    "    rmse_ = np.sqrt(mean_squared_error(test, pred))\n",
    "    return rmse_\n",
    "\n",
    "\n",
    "# Print the scores\n",
    "def print_score(test, pred, model):\n",
    "    \"\"\"Print calculated score \n",
    "\n",
    "    Args:\n",
    "        test -- test data\n",
    "        pred -- predicted data\n",
    "\n",
    "    Returns:\n",
    "        print the regressor name\n",
    "        print the R squared score\n",
    "        print Root Mean Square Error score\n",
    "    \"\"\"\n",
    "\n",
    "    print(f\"**** Regressor: {model} ****\")\n",
    "    print(f\"R²: {rsqr_score(test, pred)}\")\n",
    "    print(f\"RMSE: {rmse_score(test, pred)}\\n\")"
   ]
  },
  {
   "cell_type": "markdown",
   "metadata": {
    "execution": {
     "iopub.execute_input": "2022-06-08T09:53:59.597588Z",
     "iopub.status.busy": "2022-06-08T09:53:59.597064Z",
     "iopub.status.idle": "2022-06-08T09:53:59.627399Z",
     "shell.execute_reply": "2022-06-08T09:53:59.626074Z",
     "shell.execute_reply.started": "2022-06-08T09:53:59.597549Z"
    }
   },
   "source": [
    "### <font color='forestgreen'>IV.1. Linear Regression <font>"
   ]
  },
  {
   "cell_type": "code",
   "execution_count": null,
   "metadata": {
    "execution": {
     "iopub.execute_input": "2022-06-10T23:08:38.460036Z",
     "iopub.status.busy": "2022-06-10T23:08:38.459589Z",
     "iopub.status.idle": "2022-06-10T23:08:38.55321Z",
     "shell.execute_reply": "2022-06-10T23:08:38.552392Z",
     "shell.execute_reply.started": "2022-06-10T23:08:38.459998Z"
    }
   },
   "outputs": [],
   "source": [
    "scores_lin = cross_val_score(model_lin, X_train, y_train,\n",
    "                 cv=5)\n",
    "\n",
    "print(\"Mean scores (Linear Model):\\n\", np.mean(scores_lin))\n",
    "print(\"Standard deviation of scores (Linear Model):\\n\", np.std(scores_lin))"
   ]
  },
  {
   "cell_type": "code",
   "execution_count": null,
   "metadata": {
    "execution": {
     "iopub.execute_input": "2022-06-10T23:08:38.558261Z",
     "iopub.status.busy": "2022-06-10T23:08:38.55755Z",
     "iopub.status.idle": "2022-06-10T23:08:38.573974Z",
     "shell.execute_reply": "2022-06-10T23:08:38.572695Z",
     "shell.execute_reply.started": "2022-06-10T23:08:38.558217Z"
    }
   },
   "outputs": [],
   "source": [
    "scores_lin"
   ]
  },
  {
   "cell_type": "code",
   "execution_count": null,
   "metadata": {
    "execution": {
     "iopub.execute_input": "2022-06-10T23:08:38.58336Z",
     "iopub.status.busy": "2022-06-10T23:08:38.579617Z",
     "iopub.status.idle": "2022-06-10T23:08:38.634615Z",
     "shell.execute_reply": "2022-06-10T23:08:38.633843Z",
     "shell.execute_reply.started": "2022-06-10T23:08:38.583315Z"
    }
   },
   "outputs": [],
   "source": [
    "model_lin.fit(X_train, y_train)\n",
    "y_pred_lin = model_lin.predict(X_test)\n",
    "print_score(y_test, y_pred_lin, \"Linear\")"
   ]
  },
  {
   "cell_type": "code",
   "execution_count": null,
   "metadata": {
    "execution": {
     "iopub.execute_input": "2022-06-10T23:08:38.64257Z",
     "iopub.status.busy": "2022-06-10T23:08:38.639047Z",
     "iopub.status.idle": "2022-06-10T23:08:38.665996Z",
     "shell.execute_reply": "2022-06-10T23:08:38.665146Z",
     "shell.execute_reply.started": "2022-06-10T23:08:38.642526Z"
    }
   },
   "outputs": [],
   "source": [
    "# Save the model results into lists\n",
    "model_list = []\n",
    "r2_list = []\n",
    "rmse_list = []\n",
    "\n",
    "model_list.append(model_lin.__class__.__name__)\n",
    "r2_list.append(round(rsqr_score(y_test, y_pred_lin), 4))\n",
    "rmse_list.append(round(rmse_score(y_test, y_pred_lin), 4))"
   ]
  },
  {
   "cell_type": "code",
   "execution_count": null,
   "metadata": {
    "execution": {
     "iopub.execute_input": "2022-06-10T23:08:38.674555Z",
     "iopub.status.busy": "2022-06-10T23:08:38.670862Z",
     "iopub.status.idle": "2022-06-10T23:08:38.988328Z",
     "shell.execute_reply": "2022-06-10T23:08:38.987572Z",
     "shell.execute_reply.started": "2022-06-10T23:08:38.674507Z"
    }
   },
   "outputs": [],
   "source": [
    "plt.figure()\n",
    "plt.title(\"Actual vs. Predicted house prices\\n (Linear)\", fontsize=20)\n",
    "plt.scatter(np.exp(y_test), np.exp(y_pred_lin),\n",
    "            color=\"deepskyblue\", marker=\"o\", facecolors=\"none\")\n",
    "plt.plot([0, 800000], [0, 800000], \"orange\", lw=2)\n",
    "plt.xlim(0, 800000)\n",
    "plt.ylim(0, 800000)\n",
    "plt.xlabel(\"\\nActual Price\", fontsize=16)\n",
    "plt.ylabel(\"Predicted Price\\n\", fontsize=16)\n",
    "plt.show()"
   ]
  },
  {
   "cell_type": "markdown",
   "metadata": {},
   "source": [
    "### <font color='forestgreen'>IV.2. Rigide Regression <font>"
   ]
  },
  {
   "cell_type": "code",
   "execution_count": null,
   "metadata": {
    "execution": {
     "iopub.execute_input": "2022-06-10T23:08:38.990293Z",
     "iopub.status.busy": "2022-06-10T23:08:38.989704Z",
     "iopub.status.idle": "2022-06-10T23:08:39.056038Z",
     "shell.execute_reply": "2022-06-10T23:08:39.055233Z",
     "shell.execute_reply.started": "2022-06-10T23:08:38.990257Z"
    }
   },
   "outputs": [],
   "source": [
    "scores_ridge = cross_val_score(model_ridge, X_train, y_train,\n",
    "                 cv=5)\n",
    "\n",
    "print(\"Mean scores (Ridge Model):\\n\", np.mean(scores_ridge))\n",
    "print(\"Standard deviation of scores (Ridge Model):\\n\", np.std(scores_ridge))"
   ]
  },
  {
   "cell_type": "code",
   "execution_count": null,
   "metadata": {
    "execution": {
     "iopub.execute_input": "2022-06-10T23:08:39.057997Z",
     "iopub.status.busy": "2022-06-10T23:08:39.057418Z",
     "iopub.status.idle": "2022-06-10T23:08:39.153657Z",
     "shell.execute_reply": "2022-06-10T23:08:39.152767Z",
     "shell.execute_reply.started": "2022-06-10T23:08:39.057958Z"
    }
   },
   "outputs": [],
   "source": [
    "scores_ridge_mse = -1 * cross_val_score(model_ridge, X_train, y_train,\n",
    "                      cv=5,\n",
    "                      scoring='neg_mean_squared_error')\n",
    "\n",
    "print(\"MSE scores (Ridge Model):\\n\", scores_ridge_mse)\n",
    "print(\"Mean MSE scores:\", scores_ridge_mse.mean())"
   ]
  },
  {
   "cell_type": "code",
   "execution_count": null,
   "metadata": {
    "execution": {
     "iopub.execute_input": "2022-06-10T23:08:39.160206Z",
     "iopub.status.busy": "2022-06-10T23:08:39.158162Z",
     "iopub.status.idle": "2022-06-10T23:08:39.184065Z",
     "shell.execute_reply": "2022-06-10T23:08:39.183314Z",
     "shell.execute_reply.started": "2022-06-10T23:08:39.160169Z"
    }
   },
   "outputs": [],
   "source": [
    "model_ridge.fit(X_train, y_train)\n",
    "y_pred_ridge = model_ridge.predict(X_test)\n",
    "print_score(y_test, y_pred_ridge, \"Ridge\")"
   ]
  },
  {
   "cell_type": "code",
   "execution_count": null,
   "metadata": {
    "execution": {
     "iopub.execute_input": "2022-06-10T23:08:39.190605Z",
     "iopub.status.busy": "2022-06-10T23:08:39.188526Z",
     "iopub.status.idle": "2022-06-10T23:08:39.207473Z",
     "shell.execute_reply": "2022-06-10T23:08:39.206779Z",
     "shell.execute_reply.started": "2022-06-10T23:08:39.190568Z"
    }
   },
   "outputs": [],
   "source": [
    "# Save the model results into lists\n",
    "model_list.append(model_ridge.__class__.__name__)\n",
    "r2_list.append(round(rsqr_score(y_test, y_pred_ridge), 4))\n",
    "rmse_list.append(round(rmse_score(y_test, y_pred_ridge), 4))"
   ]
  },
  {
   "cell_type": "code",
   "execution_count": null,
   "metadata": {
    "execution": {
     "iopub.execute_input": "2022-06-10T23:08:39.214754Z",
     "iopub.status.busy": "2022-06-10T23:08:39.211849Z",
     "iopub.status.idle": "2022-06-10T23:08:39.633417Z",
     "shell.execute_reply": "2022-06-10T23:08:39.632667Z",
     "shell.execute_reply.started": "2022-06-10T23:08:39.2147Z"
    }
   },
   "outputs": [],
   "source": [
    "plt.figure()\n",
    "plt.title(\"Actual vs. Predicted house prices\\n (Ridge)\", fontsize=20)\n",
    "plt.scatter(np.exp(y_test), np.exp(y_pred_ridge),\n",
    "            color=\"deepskyblue\", marker=\"o\", facecolors=\"none\")\n",
    "plt.plot([0, 800000], [0, 800000], \"darkorange\", lw=2)\n",
    "plt.xlim(0, 800000)\n",
    "plt.ylim(0, 800000)\n",
    "plt.xlabel(\"\\nActual Price\", fontsize=16)\n",
    "plt.ylabel(\"Predicted Price\\n\", fontsize=16)\n",
    "plt.show()"
   ]
  },
  {
   "cell_type": "markdown",
   "metadata": {},
   "source": [
    "#### <font color='darkblue'>Hyperparamter Tuning (Ridge)</font>"
   ]
  },
  {
   "cell_type": "code",
   "execution_count": null,
   "metadata": {
    "execution": {
     "iopub.execute_input": "2022-06-10T23:08:39.639474Z",
     "iopub.status.busy": "2022-06-10T23:08:39.637319Z",
     "iopub.status.idle": "2022-06-10T23:08:46.803011Z",
     "shell.execute_reply": "2022-06-10T23:08:46.801949Z",
     "shell.execute_reply.started": "2022-06-10T23:08:39.639436Z"
    }
   },
   "outputs": [],
   "source": [
    "# Define hyperparameters\n",
    "alphas = np.linspace(0, 10, 100).tolist()\n",
    "\n",
    "tuned_parameters = {\"alpha\": alphas}\n",
    "\n",
    "# GridSearch\n",
    "ridge_cv = GridSearchCV(Ridge(), tuned_parameters, cv=10, n_jobs=-1, verbose=1)\n",
    "\n",
    "# fit the GridSearch on train set\n",
    "ridge_cv.fit(X_train, y_train)\n",
    "\n",
    "# print best params and the corresponding R²\n",
    "print(f\"Best hyperparameters: {ridge_cv.best_params_}\")\n",
    "print(f\"Best R² (train): {ridge_cv.best_score_}\")"
   ]
  },
  {
   "cell_type": "code",
   "execution_count": null,
   "metadata": {
    "execution": {
     "iopub.execute_input": "2022-06-10T23:08:46.810825Z",
     "iopub.status.busy": "2022-06-10T23:08:46.808428Z",
     "iopub.status.idle": "2022-06-10T23:08:46.838422Z",
     "shell.execute_reply": "2022-06-10T23:08:46.837457Z",
     "shell.execute_reply.started": "2022-06-10T23:08:46.810773Z"
    }
   },
   "outputs": [],
   "source": [
    "model_ridge_opt = Ridge(alpha = ridge_cv.best_params_[\"alpha\"])\n",
    "model_ridge_opt.fit(X_train, y_train)\n",
    "y_pred_ridge_opt = model_ridge_opt.predict(X_test)\n",
    "print_score(y_test, y_pred_ridge_opt, \"Ridge\")"
   ]
  },
  {
   "cell_type": "code",
   "execution_count": null,
   "metadata": {
    "execution": {
     "iopub.execute_input": "2022-06-10T23:08:46.845951Z",
     "iopub.status.busy": "2022-06-10T23:08:46.843381Z",
     "iopub.status.idle": "2022-06-10T23:08:46.860482Z",
     "shell.execute_reply": "2022-06-10T23:08:46.859435Z",
     "shell.execute_reply.started": "2022-06-10T23:08:46.845904Z"
    }
   },
   "outputs": [],
   "source": [
    "# Save the model results into lists\n",
    "model_list.append(model_ridge_opt.__class__.__name__)\n",
    "r2_list.append(round(rsqr_score(y_test, y_pred_ridge_opt), 4))\n",
    "rmse_list.append(round(rmse_score(y_test, y_pred_ridge_opt), 4))"
   ]
  },
  {
   "cell_type": "code",
   "execution_count": null,
   "metadata": {
    "execution": {
     "iopub.execute_input": "2022-06-10T23:08:46.868766Z",
     "iopub.status.busy": "2022-06-10T23:08:46.86608Z",
     "iopub.status.idle": "2022-06-10T23:08:47.150327Z",
     "shell.execute_reply": "2022-06-10T23:08:47.14957Z",
     "shell.execute_reply.started": "2022-06-10T23:08:46.868702Z"
    }
   },
   "outputs": [],
   "source": [
    "plt.figure()\n",
    "plt.title(\"Actual vs. Predicted house prices\\n (Ridge - Optimal alpha value)\", fontsize=20)\n",
    "plt.scatter(np.exp(y_test), np.exp(y_pred_ridge_opt),\n",
    "            color=\"blue\", marker=\"o\", facecolors=\"none\")\n",
    "plt.plot([0, 800000], [0, 800000], \"darkorange\", lw=2)\n",
    "plt.xlim(0, 800000)\n",
    "plt.ylim(0, 800000)\n",
    "plt.xlabel(\"\\nActual Price\", fontsize=16)\n",
    "plt.ylabel(\"Predicted Price\\n\", fontsize=16)\n",
    "plt.show()"
   ]
  },
  {
   "cell_type": "markdown",
   "metadata": {},
   "source": [
    "### <font color='forestgreen'> IV.3. Lasso Regression <font>"
   ]
  },
  {
   "cell_type": "code",
   "execution_count": null,
   "metadata": {
    "execution": {
     "iopub.execute_input": "2022-06-10T23:08:47.152116Z",
     "iopub.status.busy": "2022-06-10T23:08:47.151558Z",
     "iopub.status.idle": "2022-06-10T23:08:47.282902Z",
     "shell.execute_reply": "2022-06-10T23:08:47.281897Z",
     "shell.execute_reply.started": "2022-06-10T23:08:47.152078Z"
    }
   },
   "outputs": [],
   "source": [
    "scores_lasso = cross_val_score(model_lasso, X_train, y_train,\n",
    "                                cv=5)\n",
    "\n",
    "print(\"Mean scores (Lasso Model):\\n\", np.mean(scores_lasso))\n",
    "print(\"Standard deviation of scores (Lasso Model):\\n\", np.std(scores_lasso))"
   ]
  },
  {
   "cell_type": "code",
   "execution_count": null,
   "metadata": {
    "execution": {
     "iopub.execute_input": "2022-06-10T23:08:47.284467Z",
     "iopub.status.busy": "2022-06-10T23:08:47.284108Z",
     "iopub.status.idle": "2022-06-10T23:08:47.428948Z",
     "shell.execute_reply": "2022-06-10T23:08:47.42799Z",
     "shell.execute_reply.started": "2022-06-10T23:08:47.284431Z"
    }
   },
   "outputs": [],
   "source": [
    "scores_lasso_mse = -1 * cross_val_score(model_lasso, X_train, y_train,\n",
    "                                      cv=5,\n",
    "                                      scoring='neg_mean_squared_error')\n",
    "\n",
    "print(\"MSE scores (Lasso Model):\\n\", scores_lasso_mse)\n",
    "print(\"Mean MSE scores:\", scores_lasso_mse.mean())"
   ]
  },
  {
   "cell_type": "code",
   "execution_count": null,
   "metadata": {
    "execution": {
     "iopub.execute_input": "2022-06-10T23:08:47.430631Z",
     "iopub.status.busy": "2022-06-10T23:08:47.430237Z",
     "iopub.status.idle": "2022-06-10T23:08:47.472093Z",
     "shell.execute_reply": "2022-06-10T23:08:47.47108Z",
     "shell.execute_reply.started": "2022-06-10T23:08:47.430592Z"
    }
   },
   "outputs": [],
   "source": [
    "model_lasso.fit(X_train, y_train)\n",
    "y_pred_lasso = model_lasso.predict(X_test)\n",
    "print_score(y_test, y_pred_lasso, \"Lasso\")"
   ]
  },
  {
   "cell_type": "code",
   "execution_count": null,
   "metadata": {
    "execution": {
     "iopub.execute_input": "2022-06-10T23:08:47.481526Z",
     "iopub.status.busy": "2022-06-10T23:08:47.477248Z",
     "iopub.status.idle": "2022-06-10T23:08:47.505798Z",
     "shell.execute_reply": "2022-06-10T23:08:47.504647Z",
     "shell.execute_reply.started": "2022-06-10T23:08:47.481475Z"
    }
   },
   "outputs": [],
   "source": [
    "# Save the model results into lists\n",
    "model_list.append(model_lasso.__class__.__name__)\n",
    "r2_list.append(round(rsqr_score(y_test, y_pred_lasso), 4))\n",
    "rmse_list.append(round(rmse_score(y_test, y_pred_lasso), 4))"
   ]
  },
  {
   "cell_type": "code",
   "execution_count": null,
   "metadata": {
    "execution": {
     "iopub.execute_input": "2022-06-10T23:08:47.515643Z",
     "iopub.status.busy": "2022-06-10T23:08:47.511889Z",
     "iopub.status.idle": "2022-06-10T23:08:47.821567Z",
     "shell.execute_reply": "2022-06-10T23:08:47.820705Z",
     "shell.execute_reply.started": "2022-06-10T23:08:47.515593Z"
    }
   },
   "outputs": [],
   "source": [
    "plt.figure()\n",
    "plt.title(\"Actual vs. Predicted house prices\\n (Lasso)\", fontsize=20)\n",
    "plt.scatter(np.exp(y_test), np.exp(y_pred_lasso),\n",
    "            color=\"deepskyblue\", marker=\"o\", facecolors=\"none\")\n",
    "plt.plot([0, 800000], [0, 800000], \"darkorange\", lw=2)\n",
    "plt.xlim(0, 800000)\n",
    "plt.ylim(0, 800000)\n",
    "plt.xlabel(\"\\nActual Price\", fontsize=16)\n",
    "plt.ylabel(\"Predicted Price\\n\", fontsize=16)\n",
    "plt.show()"
   ]
  },
  {
   "cell_type": "markdown",
   "metadata": {},
   "source": [
    "#### <font color='darkblue'>Hyperparamter Tuning (Lasso)</font>"
   ]
  },
  {
   "cell_type": "code",
   "execution_count": null,
   "metadata": {
    "execution": {
     "iopub.execute_input": "2022-06-10T23:08:47.824028Z",
     "iopub.status.busy": "2022-06-10T23:08:47.822725Z",
     "iopub.status.idle": "2022-06-10T23:08:54.224491Z",
     "shell.execute_reply": "2022-06-10T23:08:54.223626Z",
     "shell.execute_reply.started": "2022-06-10T23:08:47.823983Z"
    }
   },
   "outputs": [],
   "source": [
    "# Define hyperparameters\n",
    "alphas = np.logspace(-5, 5, 100).tolist()\n",
    "\n",
    "tuned_parameters = {\"alpha\": alphas}\n",
    "\n",
    "# GridSearch\n",
    "lasso_cv = GridSearchCV(Lasso(), tuned_parameters, cv=10, n_jobs=-1, verbose=1)\n",
    "\n",
    "# fit the GridSearch on train set\n",
    "lasso_cv.fit(X_train, y_train)\n",
    "\n",
    "# print best params and the corresponding R²\n",
    "print(f\"Best hyperparameters: {lasso_cv.best_params_}\")\n",
    "print(f\"Best R² (train): {lasso_cv.best_score_}\")"
   ]
  },
  {
   "cell_type": "code",
   "execution_count": null,
   "metadata": {
    "execution": {
     "iopub.execute_input": "2022-06-10T23:08:54.22961Z",
     "iopub.status.busy": "2022-06-10T23:08:54.228925Z",
     "iopub.status.idle": "2022-06-10T23:08:54.265453Z",
     "shell.execute_reply": "2022-06-10T23:08:54.264614Z",
     "shell.execute_reply.started": "2022-06-10T23:08:54.229567Z"
    }
   },
   "outputs": [],
   "source": [
    "model_lasso_opt = Lasso(alpha = lasso_cv.best_params_[\"alpha\"])\n",
    "\n",
    "model_lasso_opt.fit(X_train, y_train)\n",
    "y_pred_lasso_opt = model_lasso_opt.predict(X_test)\n",
    "print_score(y_test, y_pred_lasso_opt, \"Lasso\")"
   ]
  },
  {
   "cell_type": "code",
   "execution_count": null,
   "metadata": {
    "execution": {
     "iopub.execute_input": "2022-06-10T23:08:54.274109Z",
     "iopub.status.busy": "2022-06-10T23:08:54.2707Z",
     "iopub.status.idle": "2022-06-10T23:08:54.296059Z",
     "shell.execute_reply": "2022-06-10T23:08:54.29519Z",
     "shell.execute_reply.started": "2022-06-10T23:08:54.274052Z"
    }
   },
   "outputs": [],
   "source": [
    "# Save the model results into lists\n",
    "model_list.append(model_lasso_opt.__class__.__name__)\n",
    "r2_list.append(round(rsqr_score(y_test, y_pred_lasso_opt), 4))\n",
    "rmse_list.append(round(rmse_score(y_test, y_pred_lasso_opt), 4))"
   ]
  },
  {
   "cell_type": "code",
   "execution_count": null,
   "metadata": {
    "execution": {
     "iopub.execute_input": "2022-06-10T23:08:54.304783Z",
     "iopub.status.busy": "2022-06-10T23:08:54.301358Z",
     "iopub.status.idle": "2022-06-10T23:08:54.604427Z",
     "shell.execute_reply": "2022-06-10T23:08:54.603682Z",
     "shell.execute_reply.started": "2022-06-10T23:08:54.304738Z"
    }
   },
   "outputs": [],
   "source": [
    "plt.figure()\n",
    "plt.title(\"Actual vs. Predicted house prices\\n (Lasso - Optimal alpha value)\", fontsize=20)\n",
    "plt.scatter(np.exp(y_test), np.exp(y_pred_lasso_opt),\n",
    "            color=\"blue\", marker=\"o\", facecolors=\"none\")\n",
    "plt.plot([0, 800000], [0, 800000], \"darkorange\", lw=2)\n",
    "plt.xlim(0, 800000)\n",
    "plt.ylim(0, 800000)\n",
    "plt.xlabel(\"\\nActual Price\", fontsize=16)\n",
    "plt.ylabel(\"Predicted Price\\n\", fontsize=16)\n",
    "plt.show()"
   ]
  },
  {
   "cell_type": "markdown",
   "metadata": {},
   "source": [
    "### <font color='forestgreen'> IV.4. Random Forest Regressor <font> "
   ]
  },
  {
   "cell_type": "code",
   "execution_count": null,
   "metadata": {
    "execution": {
     "iopub.execute_input": "2022-06-10T23:08:54.606993Z",
     "iopub.status.busy": "2022-06-10T23:08:54.605519Z",
     "iopub.status.idle": "2022-06-10T23:08:57.725131Z",
     "shell.execute_reply": "2022-06-10T23:08:57.724268Z",
     "shell.execute_reply.started": "2022-06-10T23:08:54.606951Z"
    }
   },
   "outputs": [],
   "source": [
    "scores_ran = cross_val_score(model_ran, X_train, y_train,\n",
    "                            cv=5)\n",
    "\n",
    "print(\"Mean scores (Random Forest Model):\\n\", np.mean(scores_ran))\n",
    "print(\"Standard deviation of scores (Random Forest Model):\\n\", np.std(scores_ran))"
   ]
  },
  {
   "cell_type": "code",
   "execution_count": null,
   "metadata": {
    "execution": {
     "iopub.execute_input": "2022-06-10T23:08:57.726968Z",
     "iopub.status.busy": "2022-06-10T23:08:57.726441Z",
     "iopub.status.idle": "2022-06-10T23:09:01.046602Z",
     "shell.execute_reply": "2022-06-10T23:09:01.045813Z",
     "shell.execute_reply.started": "2022-06-10T23:08:57.726931Z"
    }
   },
   "outputs": [],
   "source": [
    "scores_ran_mse = -1 * cross_val_score(model_ran, X_train, y_train,\n",
    "                                      cv=5,\n",
    "                                      scoring='neg_mean_squared_error')\n",
    "\n",
    "print(\"MSE scores (Random Forest Model):\\n\", scores_ran_mse)\n",
    "print(\"Mean MSE scores:\", scores_ran_mse.mean())"
   ]
  },
  {
   "cell_type": "code",
   "execution_count": null,
   "metadata": {
    "execution": {
     "iopub.execute_input": "2022-06-10T23:09:01.048986Z",
     "iopub.status.busy": "2022-06-10T23:09:01.0478Z",
     "iopub.status.idle": "2022-06-10T23:09:01.823632Z",
     "shell.execute_reply": "2022-06-10T23:09:01.822854Z",
     "shell.execute_reply.started": "2022-06-10T23:09:01.048945Z"
    }
   },
   "outputs": [],
   "source": [
    "model_ran.fit(X_train, y_train)\n",
    "y_pred_ran = model_ran.predict(X_test)\n",
    "print_score(y_test, y_pred_ran, \"Random Forest\")"
   ]
  },
  {
   "cell_type": "code",
   "execution_count": null,
   "metadata": {
    "execution": {
     "iopub.execute_input": "2022-06-10T23:09:01.825358Z",
     "iopub.status.busy": "2022-06-10T23:09:01.824978Z",
     "iopub.status.idle": "2022-06-10T23:09:01.832697Z",
     "shell.execute_reply": "2022-06-10T23:09:01.831761Z",
     "shell.execute_reply.started": "2022-06-10T23:09:01.825307Z"
    }
   },
   "outputs": [],
   "source": [
    "# Save the model results into lists\n",
    "model_list.append(model_ran.__class__.__name__)\n",
    "r2_list.append(round(rsqr_score(y_test, y_pred_ran), 4))\n",
    "rmse_list.append(round(rmse_score(y_test, y_pred_ran), 4))"
   ]
  },
  {
   "cell_type": "code",
   "execution_count": null,
   "metadata": {
    "execution": {
     "iopub.execute_input": "2022-06-10T23:09:01.834646Z",
     "iopub.status.busy": "2022-06-10T23:09:01.834251Z",
     "iopub.status.idle": "2022-06-10T23:09:02.095259Z",
     "shell.execute_reply": "2022-06-10T23:09:02.094512Z",
     "shell.execute_reply.started": "2022-06-10T23:09:01.834608Z"
    }
   },
   "outputs": [],
   "source": [
    "plt.figure()\n",
    "plt.title(\"Actual vs. Predicted house prices\\n (Random Forest)\", fontsize=20)\n",
    "plt.scatter(np.exp(y_test), np.exp(y_pred_ran),\n",
    "            color=\"deepskyblue\", marker=\"o\", facecolors=\"none\")\n",
    "plt.plot([0, 800000], [0, 800000], \"darkorange\", lw=2)\n",
    "plt.xlim(0, 800000)\n",
    "plt.ylim(0, 800000)\n",
    "plt.xlabel(\"\\nActual Price\", fontsize=16)\n",
    "plt.ylabel(\"Predicted Price\\n\", fontsize=16)\n",
    "plt.show()"
   ]
  },
  {
   "cell_type": "markdown",
   "metadata": {},
   "source": [
    " ### <font color='forestgreen'> IV.5. XGBoost Regression <font> "
   ]
  },
  {
   "cell_type": "code",
   "execution_count": null,
   "metadata": {
    "execution": {
     "iopub.execute_input": "2022-06-10T23:09:02.097141Z",
     "iopub.status.busy": "2022-06-10T23:09:02.096361Z",
     "iopub.status.idle": "2022-06-10T23:09:47.586709Z",
     "shell.execute_reply": "2022-06-10T23:09:47.586026Z",
     "shell.execute_reply.started": "2022-06-10T23:09:02.097098Z"
    }
   },
   "outputs": [],
   "source": [
    "# Define hyperparameters\n",
    "tuned_parameters_xgb = {\"max_depth\": [3],\n",
    "                        \"colsample_bytree\": [0.3, 0.7],\n",
    "                        \"learning_rate\": [0.01, 0.05, 0.1],\n",
    "                        \"n_estimators\": [100, 500, 1000]}\n",
    "\n",
    "# GridSearch\n",
    "xgbr_cv = GridSearchCV(estimator=XGBRegressor(),\n",
    "                       param_grid=tuned_parameters_xgb,\n",
    "                       cv=5,\n",
    "                       n_jobs=-1,\n",
    "                       verbose=1)\n",
    "\n",
    "# fit the GridSearch on train set\n",
    "xgbr_cv.fit(X_train, y_train)\n",
    "\n",
    "# print best params and the corresponding R²\n",
    "print(f\"Best hyperparameters: {xgbr_cv.best_params_}\\n\")\n",
    "print(f\"Best R²: {xgbr_cv.best_score_}\")"
   ]
  },
  {
   "cell_type": "code",
   "execution_count": null,
   "metadata": {
    "execution": {
     "iopub.execute_input": "2022-06-10T23:09:47.591654Z",
     "iopub.status.busy": "2022-06-10T23:09:47.590018Z",
     "iopub.status.idle": "2022-06-10T23:09:48.460254Z",
     "shell.execute_reply": "2022-06-10T23:09:48.459648Z",
     "shell.execute_reply.started": "2022-06-10T23:09:47.591621Z"
    }
   },
   "outputs": [],
   "source": [
    "model_xgb_opt = XGBRegressor(colsample_bytree = xgbr_cv.best_params_[\"colsample_bytree\"],\n",
    "                             learning_rate = xgbr_cv.best_params_[\"learning_rate\"],\n",
    "                             max_depth = xgbr_cv.best_params_[\"max_depth\"],\n",
    "                             n_estimators = xgbr_cv.best_params_[\"n_estimators\"])\n",
    "\n",
    "model_xgb_opt.fit(X_train, y_train)\n",
    "y_pred_xgb_opt = model_xgb_opt.predict(X_test)\n",
    "print_score(y_test, y_pred_xgb_opt, \"XGBoost\")"
   ]
  },
  {
   "cell_type": "code",
   "execution_count": null,
   "metadata": {
    "execution": {
     "iopub.execute_input": "2022-06-10T23:09:48.465248Z",
     "iopub.status.busy": "2022-06-10T23:09:48.46339Z",
     "iopub.status.idle": "2022-06-10T23:09:48.473076Z",
     "shell.execute_reply": "2022-06-10T23:09:48.472236Z",
     "shell.execute_reply.started": "2022-06-10T23:09:48.465218Z"
    }
   },
   "outputs": [],
   "source": [
    "# Save the model results into lists\n",
    "model_list.append(model_xgb_opt.__class__.__name__)\n",
    "r2_list.append(round(rsqr_score(y_test, y_pred_xgb_opt), 4))\n",
    "rmse_list.append(round(rmse_score(y_test, y_pred_xgb_opt), 4))"
   ]
  },
  {
   "cell_type": "code",
   "execution_count": null,
   "metadata": {
    "execution": {
     "iopub.execute_input": "2022-06-10T23:09:48.474649Z",
     "iopub.status.busy": "2022-06-10T23:09:48.47428Z",
     "iopub.status.idle": "2022-06-10T23:09:48.737334Z",
     "shell.execute_reply": "2022-06-10T23:09:48.736551Z",
     "shell.execute_reply.started": "2022-06-10T23:09:48.474612Z"
    }
   },
   "outputs": [],
   "source": [
    "plt.figure()\n",
    "plt.title(\"Actual vs. Predicted house prices\\n (XGBoost Regressor)\", fontsize=20)\n",
    "plt.scatter(np.exp(y_test), np.exp(y_pred_xgb_opt),\n",
    "            color=\"deepskyblue\", marker=\"o\", facecolors=\"none\")\n",
    "plt.plot([0, 800000], [0, 800000], \"darkorange\", lw=2)\n",
    "plt.xlim(0, 800000)\n",
    "plt.ylim(0, 800000)\n",
    "plt.xlabel(\"\\nActual Price\", fontsize=16)\n",
    "plt.ylabel(\"Predicted Price\\n\", fontsize=16)\n",
    "plt.show()"
   ]
  },
  {
   "cell_type": "code",
   "execution_count": null,
   "metadata": {
    "execution": {
     "iopub.execute_input": "2022-06-10T23:09:48.739168Z",
     "iopub.status.busy": "2022-06-10T23:09:48.738636Z",
     "iopub.status.idle": "2022-06-10T23:09:48.754777Z",
     "shell.execute_reply": "2022-06-10T23:09:48.753959Z",
     "shell.execute_reply.started": "2022-06-10T23:09:48.739129Z"
    }
   },
   "outputs": [],
   "source": [
    "# Create a table with pd.DataFrame\n",
    "model_results = pd.DataFrame({\"Model\": model_list,\n",
    "                              \"R²\": r2_list,\n",
    "                              \"RMSE\": rmse_list})\n",
    "\n",
    "model_results"
   ]
  },
  {
   "cell_type": "markdown",
   "metadata": {},
   "source": [
    "The results of this modeling are showing that the best performance in terms of R squared (R²) correspond to XGB Regressor. With regards to Residual Mean Square Error (RMSE), all these models are doing well except XGB Regressor which achieved a better performance. \n",
    "\n",
    "Thus, XGB Regressor will be chosen to predict house prices on the test set of this Kaggle project."
   ]
  },
  {
   "cell_type": "markdown",
   "metadata": {},
   "source": [
    "# <font color='goldenrod'>V. Prediction </font>"
   ]
  },
  {
   "cell_type": "code",
   "execution_count": null,
   "metadata": {
    "execution": {
     "iopub.execute_input": "2022-06-10T23:09:48.75816Z",
     "iopub.status.busy": "2022-06-10T23:09:48.757742Z",
     "iopub.status.idle": "2022-06-10T23:09:48.783222Z",
     "shell.execute_reply": "2022-06-10T23:09:48.782637Z",
     "shell.execute_reply.started": "2022-06-10T23:09:48.758115Z"
    }
   },
   "outputs": [],
   "source": [
    "# Prediction of House Prices using the Optimal Lasso Regression Model\n",
    "\n",
    "y_pred = np.exp(model_xgb_opt.predict(df_test_new))\n",
    "\n",
    "output = pd.DataFrame({\"Id\": Id_test_list,\"SalePrice\": y_pred})\n"
   ]
  },
  {
   "cell_type": "code",
   "execution_count": null,
   "metadata": {
    "execution": {
     "iopub.execute_input": "2022-06-10T23:09:48.788075Z",
     "iopub.status.busy": "2022-06-10T23:09:48.78648Z",
     "iopub.status.idle": "2022-06-10T23:09:48.797961Z",
     "shell.execute_reply": "2022-06-10T23:09:48.796836Z",
     "shell.execute_reply.started": "2022-06-10T23:09:48.788045Z"
    }
   },
   "outputs": [],
   "source": [
    "y_pred"
   ]
  },
  {
   "cell_type": "code",
   "execution_count": null,
   "metadata": {
    "execution": {
     "iopub.execute_input": "2022-06-10T23:09:48.799783Z",
     "iopub.status.busy": "2022-06-10T23:09:48.799436Z",
     "iopub.status.idle": "2022-06-10T23:09:48.819454Z",
     "shell.execute_reply": "2022-06-10T23:09:48.818632Z",
     "shell.execute_reply.started": "2022-06-10T23:09:48.799745Z"
    }
   },
   "outputs": [],
   "source": [
    "# Save the output\n",
    "output.to_csv(\"submission5.csv\", index=False)\n",
    "output.head(10)"
   ]
  }
 ],
 "metadata": {
  "kernelspec": {
   "display_name": "Python 3 (ipykernel)",
   "language": "python",
   "name": "python3"
  },
  "language_info": {
   "codemirror_mode": {
    "name": "ipython",
    "version": 3
   },
   "file_extension": ".py",
   "mimetype": "text/x-python",
   "name": "python",
   "nbconvert_exporter": "python",
   "pygments_lexer": "ipython3",
   "version": "3.9.12"
  },
  "nbTranslate": {
   "displayLangs": [
    "*"
   ],
   "hotkey": "alt-t",
   "langInMainMenu": true,
   "sourceLang": "en",
   "targetLang": "fr",
   "useGoogleTranslate": true
  },
  "toc": {
   "base_numbering": 1,
   "nav_menu": {},
   "number_sections": true,
   "sideBar": true,
   "skip_h1_title": false,
   "title_cell": "Table of Contents",
   "title_sidebar": "Contents",
   "toc_cell": false,
   "toc_position": {},
   "toc_section_display": true,
   "toc_window_display": false
  }
 },
 "nbformat": 4,
 "nbformat_minor": 4
}
